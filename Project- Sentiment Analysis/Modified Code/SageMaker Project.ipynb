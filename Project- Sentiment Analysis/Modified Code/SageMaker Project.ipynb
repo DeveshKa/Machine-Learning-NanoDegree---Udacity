{
 "cells": [
  {
   "cell_type": "markdown",
   "metadata": {},
   "source": [
    "# Creating a Sentiment Analysis Web App\n",
    "## Using PyTorch and SageMaker\n",
    "\n",
    "_Deep Learning Nanodegree Program | Deployment_\n",
    "\n",
    "---\n",
    "\n",
    "Now that we have a basic understanding of how SageMaker works we will try to use it to construct a complete project from end to end. Our goal will be to have a simple web page which a user can use to enter a movie review. The web page will then send the review off to our deployed model which will predict the sentiment of the entered review.\n",
    "\n",
    "## Instructions\n",
    "\n",
    "Some template code has already been provided for you, and you will need to implement additional functionality to successfully complete this notebook. You will not need to modify the included code beyond what is requested. Sections that begin with '**TODO**' in the header indicate that you need to complete or implement some portion within them. Instructions will be provided for each section and the specifics of the implementation are marked in the code block with a `# TODO: ...` comment. Please be sure to read the instructions carefully!\n",
    "\n",
    "In addition to implementing code, there will be questions for you to answer which relate to the task and your implementation. Each section where you will answer a question is preceded by a '**Question:**' header. Carefully read each question and provide your answer below the '**Answer:**' header by editing the Markdown cell.\n",
    "\n",
    "> **Note**: Code and Markdown cells can be executed using the **Shift+Enter** keyboard shortcut. In addition, a cell can be edited by typically clicking it (double-click for Markdown cells) or by pressing **Enter** while it is highlighted.\n",
    "\n",
    "## General Outline\n",
    "\n",
    "Recall the general outline for SageMaker projects using a notebook instance.\n",
    "\n",
    "1. Download or otherwise retrieve the data.\n",
    "2. Process / Prepare the data.\n",
    "3. Upload the processed data to S3.\n",
    "4. Train a chosen model.\n",
    "5. Test the trained model (typically using a batch transform job).\n",
    "6. Deploy the trained model.\n",
    "7. Use the deployed model.\n",
    "\n",
    "For this project, you will be following the steps in the general outline with some modifications. \n",
    "\n",
    "First, you will not be testing the model in its own step. You will still be testing the model, however, you will do it by deploying your model and then using the deployed model by sending the test data to it. One of the reasons for doing this is so that you can make sure that your deployed model is working correctly before moving forward.\n",
    "\n",
    "In addition, you will deploy and use your trained model a second time. In the second iteration you will customize the way that your trained model is deployed by including some of your own code. In addition, your newly deployed model will be used in the sentiment analysis web app."
   ]
  },
  {
   "cell_type": "markdown",
   "metadata": {},
   "source": [
    "## Step 1: Downloading the data\n",
    "\n",
    "As in the XGBoost in SageMaker notebook, we will be using the [IMDb dataset](http://ai.stanford.edu/~amaas/data/sentiment/)\n",
    "\n",
    "> Maas, Andrew L., et al. [Learning Word Vectors for Sentiment Analysis](http://ai.stanford.edu/~amaas/data/sentiment/). In _Proceedings of the 49th Annual Meeting of the Association for Computational Linguistics: Human Language Technologies_. Association for Computational Linguistics, 2011."
   ]
  },
  {
   "cell_type": "code",
   "execution_count": 1,
   "metadata": {},
   "outputs": [
    {
     "name": "stdout",
     "output_type": "stream",
     "text": [
      "mkdir: cannot create directory ‘../data’: File exists\n",
      "--2020-01-24 10:29:57--  http://ai.stanford.edu/~amaas/data/sentiment/aclImdb_v1.tar.gz\n",
      "Resolving ai.stanford.edu (ai.stanford.edu)... 171.64.68.10\n",
      "Connecting to ai.stanford.edu (ai.stanford.edu)|171.64.68.10|:80... connected.\n",
      "HTTP request sent, awaiting response... 200 OK\n",
      "Length: 84125825 (80M) [application/x-gzip]\n",
      "Saving to: ‘../data/aclImdb_v1.tar.gz’\n",
      "\n",
      "../data/aclImdb_v1. 100%[===================>]  80.23M  22.2MB/s    in 4.3s    \n",
      "\n",
      "2020-01-24 10:30:01 (18.7 MB/s) - ‘../data/aclImdb_v1.tar.gz’ saved [84125825/84125825]\n",
      "\n"
     ]
    }
   ],
   "source": [
    "%mkdir ../data\n",
    "!wget -O ../data/aclImdb_v1.tar.gz http://ai.stanford.edu/~amaas/data/sentiment/aclImdb_v1.tar.gz\n",
    "!tar -zxf ../data/aclImdb_v1.tar.gz -C ../data"
   ]
  },
  {
   "cell_type": "markdown",
   "metadata": {},
   "source": [
    "## Step 2: Preparing and Processing the data\n",
    "\n",
    "Also, as in the XGBoost notebook, we will be doing some initial data processing. The first few steps are the same as in the XGBoost example. To begin with, we will read in each of the reviews and combine them into a single input structure. Then, we will split the dataset into a training set and a testing set."
   ]
  },
  {
   "cell_type": "code",
   "execution_count": 2,
   "metadata": {},
   "outputs": [],
   "source": [
    "import os\n",
    "import glob\n",
    "\n",
    "def read_imdb_data(data_dir='../data/aclImdb'):\n",
    "    data = {}\n",
    "    labels = {}\n",
    "    \n",
    "    for data_type in ['train', 'test']:\n",
    "        data[data_type] = {}\n",
    "        labels[data_type] = {}\n",
    "        \n",
    "        for sentiment in ['pos', 'neg']:\n",
    "            data[data_type][sentiment] = []\n",
    "            labels[data_type][sentiment] = []\n",
    "            \n",
    "            path = os.path.join(data_dir, data_type, sentiment, '*.txt')\n",
    "            files = glob.glob(path)\n",
    "            \n",
    "            for f in files:\n",
    "                with open(f) as review:\n",
    "                    data[data_type][sentiment].append(review.read())\n",
    "                    # Here we represent a positive review by '1' and a negative review by '0'\n",
    "                    labels[data_type][sentiment].append(1 if sentiment == 'pos' else 0)\n",
    "                    \n",
    "            assert len(data[data_type][sentiment]) == len(labels[data_type][sentiment]), \\\n",
    "                    \"{}/{} data size does not match labels size\".format(data_type, sentiment)\n",
    "                \n",
    "    return data, labels"
   ]
  },
  {
   "cell_type": "code",
   "execution_count": 3,
   "metadata": {},
   "outputs": [
    {
     "name": "stdout",
     "output_type": "stream",
     "text": [
      "IMDB reviews: train = 12500 pos / 12500 neg, test = 12500 pos / 12500 neg\n"
     ]
    }
   ],
   "source": [
    "data, labels = read_imdb_data()\n",
    "print(\"IMDB reviews: train = {} pos / {} neg, test = {} pos / {} neg\".format(\n",
    "            len(data['train']['pos']), len(data['train']['neg']),\n",
    "            len(data['test']['pos']), len(data['test']['neg'])))"
   ]
  },
  {
   "cell_type": "markdown",
   "metadata": {},
   "source": [
    "Now that we've read the raw training and testing data from the downloaded dataset, we will combine the positive and negative reviews and shuffle the resulting records."
   ]
  },
  {
   "cell_type": "code",
   "execution_count": 4,
   "metadata": {},
   "outputs": [],
   "source": [
    "from sklearn.utils import shuffle\n",
    "\n",
    "def prepare_imdb_data(data, labels):\n",
    "    \"\"\"Prepare training and test sets from IMDb movie reviews.\"\"\"\n",
    "    \n",
    "    #Combine positive and negative reviews and labels\n",
    "    data_train = data['train']['pos'] + data['train']['neg']\n",
    "    data_test = data['test']['pos'] + data['test']['neg']\n",
    "    labels_train = labels['train']['pos'] + labels['train']['neg']\n",
    "    labels_test = labels['test']['pos'] + labels['test']['neg']\n",
    "    \n",
    "    #Shuffle reviews and corresponding labels within training and test sets\n",
    "    data_train, labels_train = shuffle(data_train, labels_train)\n",
    "    data_test, labels_test = shuffle(data_test, labels_test)\n",
    "    \n",
    "    # Return a unified training data, test data, training labels, test labets\n",
    "    return data_train, data_test, labels_train, labels_test"
   ]
  },
  {
   "cell_type": "code",
   "execution_count": 5,
   "metadata": {},
   "outputs": [
    {
     "name": "stdout",
     "output_type": "stream",
     "text": [
      "IMDb reviews (combined): train = 25000, test = 25000\n"
     ]
    }
   ],
   "source": [
    "train_X, test_X, train_y, test_y = prepare_imdb_data(data, labels)\n",
    "print(\"IMDb reviews (combined): train = {}, test = {}\".format(len(train_X), len(test_X)))"
   ]
  },
  {
   "cell_type": "markdown",
   "metadata": {},
   "source": [
    "Now that we have our training and testing sets unified and prepared, we should do a quick check and see an example of the data our model will be trained on. This is generally a good idea as it allows you to see how each of the further processing steps affects the reviews and it also ensures that the data has been loaded correctly."
   ]
  },
  {
   "cell_type": "code",
   "execution_count": 6,
   "metadata": {},
   "outputs": [
    {
     "name": "stdout",
     "output_type": "stream",
     "text": [
      "As an Army veteran, I was deeply offended by this film. In my opinion, it is a disgrace to those who fought in the Vietnam war. To say that the real SF soldiers I knew were offended by this crap is an understatement. If the film were presented as satire or even as a cartoon (it was), it would have been better received. But it was taken seriously my many people, especially overseas. Silly as it sounds, wherever I went in Europe in the late 80's people seemed to judge me and Americans in general by this film. Unrealistic? Hmm, let's see. A monosyllabic, muscle-bound cretin is pulled off a prison work gang to go on a secret mission to SE Asia to free some American POW's. In a running battle he kills about 500 enemy soldiers with an M-60 machine gun that never runs out of ammo and never overheats. And he never misses, running with a 32lb gun held up with one arm. I could go on, but I'm getting a headache. I gave this a 2/10 only because it's slightly better than Rambo III.\n",
      "0\n"
     ]
    }
   ],
   "source": [
    "print(train_X[100])\n",
    "print(train_y[100])"
   ]
  },
  {
   "cell_type": "markdown",
   "metadata": {},
   "source": [
    "The first step in processing the reviews is to make sure that any html tags that appear should be removed. In addition we wish to tokenize our input, that way words such as *entertained* and *entertaining* are considered the same with regard to sentiment analysis."
   ]
  },
  {
   "cell_type": "code",
   "execution_count": 7,
   "metadata": {},
   "outputs": [],
   "source": [
    "import nltk\n",
    "from nltk.corpus import stopwords\n",
    "from nltk.stem.porter import *\n",
    "\n",
    "import re\n",
    "from bs4 import BeautifulSoup\n",
    "\n",
    "def review_to_words(review):\n",
    "    nltk.download(\"stopwords\", quiet=True)\n",
    "    stemmer = PorterStemmer()\n",
    "    \n",
    "    text = BeautifulSoup(review, \"html.parser\").get_text() # Remove HTML tags\n",
    "    text = re.sub(r\"[^a-zA-Z0-9]\", \" \", text.lower()) # Convert to lower case\n",
    "    words = text.split() # Split string into words\n",
    "    words = [w for w in words if w not in stopwords.words(\"english\")] # Remove stopwords\n",
    "    words = [PorterStemmer().stem(w) for w in words] # stem\n",
    "    \n",
    "    return words"
   ]
  },
  {
   "cell_type": "markdown",
   "metadata": {},
   "source": [
    "The `review_to_words` method defined above uses `BeautifulSoup` to remove any html tags that appear and uses the `nltk` package to tokenize the reviews. As a check to ensure we know how everything is working, try applying `review_to_words` to one of the reviews in the training set."
   ]
  },
  {
   "cell_type": "code",
   "execution_count": 8,
   "metadata": {},
   "outputs": [
    {
     "data": {
      "text/plain": [
       "['armi',\n",
       " 'veteran',\n",
       " 'deepli',\n",
       " 'offend',\n",
       " 'film',\n",
       " 'opinion',\n",
       " 'disgrac',\n",
       " 'fought',\n",
       " 'vietnam',\n",
       " 'war',\n",
       " 'say',\n",
       " 'real',\n",
       " 'sf',\n",
       " 'soldier',\n",
       " 'knew',\n",
       " 'offend',\n",
       " 'crap',\n",
       " 'understat',\n",
       " 'film',\n",
       " 'present',\n",
       " 'satir',\n",
       " 'even',\n",
       " 'cartoon',\n",
       " 'would',\n",
       " 'better',\n",
       " 'receiv',\n",
       " 'taken',\n",
       " 'serious',\n",
       " 'mani',\n",
       " 'peopl',\n",
       " 'especi',\n",
       " 'oversea',\n",
       " 'silli',\n",
       " 'sound',\n",
       " 'wherev',\n",
       " 'went',\n",
       " 'europ',\n",
       " 'late',\n",
       " '80',\n",
       " 'peopl',\n",
       " 'seem',\n",
       " 'judg',\n",
       " 'american',\n",
       " 'gener',\n",
       " 'film',\n",
       " 'unrealist',\n",
       " 'hmm',\n",
       " 'let',\n",
       " 'see',\n",
       " 'monosyllab',\n",
       " 'muscl',\n",
       " 'bound',\n",
       " 'cretin',\n",
       " 'pull',\n",
       " 'prison',\n",
       " 'work',\n",
       " 'gang',\n",
       " 'go',\n",
       " 'secret',\n",
       " 'mission',\n",
       " 'se',\n",
       " 'asia',\n",
       " 'free',\n",
       " 'american',\n",
       " 'pow',\n",
       " 'run',\n",
       " 'battl',\n",
       " 'kill',\n",
       " '500',\n",
       " 'enemi',\n",
       " 'soldier',\n",
       " '60',\n",
       " 'machin',\n",
       " 'gun',\n",
       " 'never',\n",
       " 'run',\n",
       " 'ammo',\n",
       " 'never',\n",
       " 'overheat',\n",
       " 'never',\n",
       " 'miss',\n",
       " 'run',\n",
       " '32lb',\n",
       " 'gun',\n",
       " 'held',\n",
       " 'one',\n",
       " 'arm',\n",
       " 'could',\n",
       " 'go',\n",
       " 'get',\n",
       " 'headach',\n",
       " 'gave',\n",
       " '2',\n",
       " '10',\n",
       " 'slightli',\n",
       " 'better',\n",
       " 'rambo',\n",
       " 'iii']"
      ]
     },
     "execution_count": 8,
     "metadata": {},
     "output_type": "execute_result"
    }
   ],
   "source": [
    "# TODO: Apply review_to_words to a review (train_X[100] or any other review)\n",
    "review_to_words(train_X[100])"
   ]
  },
  {
   "cell_type": "markdown",
   "metadata": {},
   "source": [
    "**Question:** Above we mentioned that `review_to_words` method removes html formatting and allows us to tokenize the words found in a review, for example, converting *entertained* and *entertaining* into *entertain* so that they are treated as though they are the same word. What else, if anything, does this method do to the input?"
   ]
  },
  {
   "cell_type": "markdown",
   "metadata": {},
   "source": [
    "**Answer:**\n",
    "1. BeutifulSoup removes the html parser.\n",
    "2. removes all the characters except alphanumerics.\n",
    "3. Splitting of string into words.\n",
    "4. Removing stopwords.\n",
    "5. Use of Stemmer to remove the redundant words which are originated from same words like running and ran originated from run"
   ]
  },
  {
   "cell_type": "markdown",
   "metadata": {},
   "source": [
    "The method below applies the `review_to_words` method to each of the reviews in the training and testing datasets. In addition it caches the results. This is because performing this processing step can take a long time. This way if you are unable to complete the notebook in the current session, you can come back without needing to process the data a second time."
   ]
  },
  {
   "cell_type": "code",
   "execution_count": 9,
   "metadata": {},
   "outputs": [],
   "source": [
    "import pickle\n",
    "\n",
    "cache_dir = os.path.join(\"../cache\", \"sentiment_analysis\")  # where to store cache files\n",
    "os.makedirs(cache_dir, exist_ok=True)  # ensure cache directory exists\n",
    "\n",
    "def preprocess_data(data_train, data_test, labels_train, labels_test,\n",
    "                    cache_dir=cache_dir, cache_file=\"preprocessed_data.pkl\"):\n",
    "    \"\"\"Convert each review to words; read from cache if available.\"\"\"\n",
    "\n",
    "    # If cache_file is not None, try to read from it first\n",
    "    cache_data = None\n",
    "    if cache_file is not None:\n",
    "        try:\n",
    "            with open(os.path.join(cache_dir, cache_file), \"rb\") as f:\n",
    "                cache_data = pickle.load(f)\n",
    "            print(\"Read preprocessed data from cache file:\", cache_file)\n",
    "        except:\n",
    "            pass  # unable to read from cache, but that's okay\n",
    "    \n",
    "    # If cache is missing, then do the heavy lifting\n",
    "    if cache_data is None:\n",
    "        # Preprocess training and test data to obtain words for each review\n",
    "        #words_train = list(map(review_to_words, data_train))\n",
    "        #words_test = list(map(review_to_words, data_test))\n",
    "        words_train = [review_to_words(review) for review in data_train]\n",
    "        words_test = [review_to_words(review) for review in data_test]\n",
    "        \n",
    "        # Write to cache file for future runs\n",
    "        if cache_file is not None:\n",
    "            cache_data = dict(words_train=words_train, words_test=words_test,\n",
    "                              labels_train=labels_train, labels_test=labels_test)\n",
    "            with open(os.path.join(cache_dir, cache_file), \"wb\") as f:\n",
    "                pickle.dump(cache_data, f)\n",
    "            print(\"Wrote preprocessed data to cache file:\", cache_file)\n",
    "    else:\n",
    "        # Unpack data loaded from cache file\n",
    "        words_train, words_test, labels_train, labels_test = (cache_data['words_train'],\n",
    "                cache_data['words_test'], cache_data['labels_train'], cache_data['labels_test'])\n",
    "    \n",
    "    return words_train, words_test, labels_train, labels_test"
   ]
  },
  {
   "cell_type": "code",
   "execution_count": 10,
   "metadata": {},
   "outputs": [
    {
     "name": "stdout",
     "output_type": "stream",
     "text": [
      "Read preprocessed data from cache file: preprocessed_data.pkl\n"
     ]
    }
   ],
   "source": [
    "# Preprocess data\n",
    "train_X, test_X, train_y, test_y = preprocess_data(train_X, test_X, train_y, test_y)\n"
   ]
  },
  {
   "cell_type": "code",
   "execution_count": 11,
   "metadata": {},
   "outputs": [
    {
     "name": "stdout",
     "output_type": "stream",
     "text": [
      "['go', 'go', 'limb', 'actual', 'defend', 'shade', 'grey', 'good', 'clip', 'show', 'episod', 'delv', 'life', 'death', 'struggl', 'command', 'william', 'thoma', 'riker', 'battl', 'termin', 'fatal', 'diseas', 'scene', 'flashback', 'sequenc', 'implement', 'quit', 'well', 'mood', 'riker', 'reliv', 'romant', 'episod', '11001001', 'angel', 'one', 'long', 'ladder', 'tragic', 'moment', 'highlight', 'tasha', 'death', 'skin', 'evil', 'well', 'element', 'puls', 'pound', 'danger', 'heart', 'glori', 'conspiraci', 'aforement', 'skin', 'evil', 'riker', 'also', 'exhibit', 'courag', 'fire', 'tell', 'humor', 'joke', 'ancestor', 'mine', 'bitten', 'rattlesnak', '3', 'day', 'intens', 'pain', 'snake', 'die', 'episod', 'highlight', 'psycholog', 'ordeal', 'riker', 'extrem', 'duress', 'ye', 'bias', 'opinion', 'proclaim', 'shade', 'grey', 'solid', 'episod', 'time', 'origin', 'air', 'face', 'cover', 'sweat', 'wonder', 'whether', 'riker', 'would', 'pullout', 'aliv', 'live', 'see', 'great', 'galact', 'outerspac', 'adventur', 'beyond', 'final', 'frontier', 'cours', 'subsequ', 'year', 'seem', 'form', 'singular', 'opinion', 'particular', 'episod', 'award', 'go', 'best', 'clip', 'show', 'episod', 'histori', 'televis', 'believ', 'episod', 'highli', 'regard', 'respect']\n"
     ]
    }
   ],
   "source": [
    "print(train_X[100])"
   ]
  },
  {
   "cell_type": "markdown",
   "metadata": {},
   "source": [
    "## Transform the data\n",
    "\n",
    "In the XGBoost notebook we transformed the data from its word representation to a bag-of-words feature representation. For the model we are going to construct in this notebook we will construct a feature representation which is very similar. To start, we will represent each word as an integer. Of course, some of the words that appear in the reviews occur very infrequently and so likely don't contain much information for the purposes of sentiment analysis. The way we will deal with this problem is that we will fix the size of our working vocabulary and we will only include the words that appear most frequently. We will then combine all of the infrequent words into a single category and, in our case, we will label it as `1`.\n",
    "\n",
    "Since we will be using a recurrent neural network, it will be convenient if the length of each review is the same. To do this, we will fix a size for our reviews and then pad short reviews with the category 'no word' (which we will label `0`) and truncate long reviews."
   ]
  },
  {
   "cell_type": "markdown",
   "metadata": {},
   "source": [
    "### (TODO) Create a word dictionary\n",
    "\n",
    "To begin with, we need to construct a way to map words that appear in the reviews to integers. Here we fix the size of our vocabulary (including the 'no word' and 'infrequent' categories) to be `5000` but you may wish to change this to see how it affects the model.\n",
    "\n",
    "> **TODO:** Complete the implementation for the `build_dict()` method below. Note that even though the vocab_size is set to `5000`, we only want to construct a mapping for the most frequently appearing `4998` words. This is because we want to reserve the special labels `0` for 'no word' and `1` for 'infrequent word'."
   ]
  },
  {
   "cell_type": "code",
   "execution_count": 12,
   "metadata": {},
   "outputs": [],
   "source": [
    "import numpy as np\n",
    "from collections import Counter\n",
    "\n",
    "def build_dict(data, vocab_size = 5000):\n",
    "    \"\"\"Construct and return a dictionary mapping each of the most frequently appearing words to a unique integer.\"\"\"\n",
    "    \n",
    "    # TODO: Determine how often each word appears in `data`. Note that `data` is a list of sentences and that a\n",
    "    #       sentence is a list of words.\n",
    "    \n",
    "    word_count = {} # A dict storing the words that appear in the reviews along with how often they occur\n",
    "    \n",
    "    # TODO: Sort the words found in `data` so that sorted_words[0] is the most frequently appearing word and\n",
    "    #       sorted_words[-1] is the least frequently appearing word.\n",
    "    for review in data:\n",
    "        count = Counter(review)\n",
    "        for word in count:\n",
    "            word_count[word] = count[word] + (word_count[word] if word in word_count else 0)\n",
    "    \n",
    "    sorted_words = sorted(word_count, key = lambda w:  word_count[w], reverse = True)\n",
    "    \n",
    "    word_dict = {} # This is what we are building, a dictionary that translates words into integers\n",
    "    for idx, word in enumerate(sorted_words[:vocab_size - 2]): # The -2 is so that we save room for the 'no word'\n",
    "        word_dict[word] = idx + 2                              # 'infrequent' labels\n",
    "        \n",
    "    return word_dict"
   ]
  },
  {
   "cell_type": "code",
   "execution_count": 13,
   "metadata": {},
   "outputs": [],
   "source": [
    "word_dict = build_dict(train_X)"
   ]
  },
  {
   "cell_type": "markdown",
   "metadata": {},
   "source": [
    "**Question:** What are the five most frequently appearing (tokenized) words in the training set? Does it makes sense that these words appear frequently in the training set?"
   ]
  },
  {
   "cell_type": "markdown",
   "metadata": {},
   "source": [
    "**Answer:**\n",
    "movie,\n",
    "film,\n",
    "one,\n",
    "like,\n",
    "time"
   ]
  },
  {
   "cell_type": "code",
   "execution_count": 14,
   "metadata": {},
   "outputs": [
    {
     "name": "stdout",
     "output_type": "stream",
     "text": [
      "{'movi': 2, 'film': 3, 'one': 4, 'like': 5, 'time': 6, 'good': 7, 'make': 8, 'charact': 9, 'get': 10, 'see': 11, 'watch': 12, 'stori': 13, 'even': 14, 'would': 15, 'realli': 16, 'well': 17, 'scene': 18, 'look': 19, 'show': 20, 'much': 21, 'end': 22, 'peopl': 23, 'bad': 24, 'go': 25, 'great': 26, 'also': 27, 'first': 28, 'love': 29, 'think': 30, 'way': 31, 'act': 32, 'play': 33, 'made': 34, 'thing': 35, 'could': 36, 'know': 37, 'say': 38, 'seem': 39, 'work': 40, 'plot': 41, 'two': 42, 'actor': 43, 'year': 44, 'come': 45, 'mani': 46, 'seen': 47, 'take': 48, 'want': 49, 'life': 50, 'never': 51, 'littl': 52, 'best': 53, 'tri': 54, 'man': 55, 'ever': 56, 'give': 57, 'better': 58, 'still': 59, 'perform': 60, 'find': 61, 'feel': 62, 'part': 63, 'back': 64, 'use': 65, 'someth': 66, 'director': 67, 'actual': 68, 'interest': 69, 'lot': 70, 'real': 71, 'old': 72, 'cast': 73, 'though': 74, 'live': 75, 'star': 76, 'enjoy': 77, 'guy': 78, 'anoth': 79, 'new': 80, 'role': 81, 'noth': 82, '10': 83, 'funni': 84, 'music': 85, 'point': 86, 'start': 87, 'set': 88, 'girl': 89, 'origin': 90, 'day': 91, 'world': 92, 'everi': 93, 'believ': 94, 'turn': 95, 'quit': 96, 'direct': 97, 'us': 98, 'thought': 99, 'fact': 100, 'minut': 101, 'horror': 102, 'kill': 103, 'action': 104, 'comedi': 105, 'pretti': 106, 'young': 107, 'wonder': 108, 'happen': 109, 'around': 110, 'got': 111, 'effect': 112, 'right': 113, 'long': 114, 'howev': 115, 'big': 116, 'line': 117, 'famili': 118, 'enough': 119, 'seri': 120, 'may': 121, 'need': 122, 'fan': 123, 'bit': 124, 'script': 125, 'beauti': 126, 'person': 127, 'becom': 128, 'without': 129, 'must': 130, 'alway': 131, 'friend': 132, 'tell': 133, 'reason': 134, 'saw': 135, 'last': 136, 'final': 137, 'kid': 138, 'almost': 139, 'put': 140, 'least': 141, 'sure': 142, 'done': 143, 'whole': 144, 'place': 145, 'complet': 146, 'kind': 147, 'differ': 148, 'expect': 149, 'shot': 150, 'far': 151, 'mean': 152, 'anyth': 153, 'book': 154, 'laugh': 155, 'might': 156, 'name': 157, 'sinc': 158, 'begin': 159, '2': 160, 'probabl': 161, 'woman': 162, 'help': 163, 'entertain': 164, 'let': 165, 'screen': 166, 'call': 167, 'tv': 168, 'moment': 169, 'away': 170, 'read': 171, 'yet': 172, 'rather': 173, 'worst': 174, 'run': 175, 'fun': 176, 'lead': 177, 'hard': 178, 'audienc': 179, 'idea': 180, 'anyon': 181, 'episod': 182, 'american': 183, 'found': 184, 'appear': 185, 'bore': 186, 'especi': 187, 'although': 188, 'hope': 189, 'keep': 190, 'cours': 191, 'anim': 192, 'job': 193, 'goe': 194, 'move': 195, 'sens': 196, 'dvd': 197, 'version': 198, 'war': 199, 'money': 200, 'someon': 201, 'mind': 202, 'mayb': 203, 'problem': 204, 'true': 205, 'hous': 206, 'everyth': 207, 'nice': 208, 'second': 209, 'rate': 210, 'three': 211, 'night': 212, 'face': 213, 'follow': 214, 'recommend': 215, 'main': 216, 'product': 217, 'worth': 218, 'leav': 219, 'human': 220, 'special': 221, 'excel': 222, 'togeth': 223, 'wast': 224, 'everyon': 225, 'sound': 226, 'john': 227, 'hand': 228, '1': 229, 'father': 230, 'later': 231, 'eye': 232, 'said': 233, 'view': 234, 'instead': 235, 'review': 236, 'boy': 237, 'high': 238, 'hour': 239, 'miss': 240, 'classic': 241, 'talk': 242, 'wife': 243, 'understand': 244, 'left': 245, 'care': 246, 'black': 247, 'death': 248, 'open': 249, 'murder': 250, 'write': 251, 'half': 252, 'head': 253, 'rememb': 254, 'chang': 255, 'viewer': 256, 'fight': 257, 'gener': 258, 'surpris': 259, 'includ': 260, 'short': 261, 'die': 262, 'fall': 263, 'less': 264, 'els': 265, 'entir': 266, 'piec': 267, 'involv': 268, 'pictur': 269, 'simpli': 270, 'power': 271, 'top': 272, 'home': 273, 'total': 274, 'usual': 275, 'budget': 276, 'attempt': 277, 'suppos': 278, 'releas': 279, 'hollywood': 280, 'terribl': 281, 'song': 282, 'men': 283, 'possibl': 284, 'featur': 285, 'portray': 286, 'disappoint': 287, 'poor': 288, '3': 289, 'coupl': 290, 'camera': 291, 'stupid': 292, 'dead': 293, 'wrong': 294, 'produc': 295, 'low': 296, 'video': 297, 'either': 298, 'aw': 299, 'definit': 300, 'except': 301, 'rest': 302, 'given': 303, 'absolut': 304, 'women': 305, 'lack': 306, 'word': 307, 'writer': 308, 'titl': 309, 'talent': 310, 'decid': 311, 'full': 312, 'perfect': 313, 'along': 314, 'style': 315, 'close': 316, 'truli': 317, 'school': 318, 'save': 319, 'emot': 320, 'age': 321, 'sex': 322, 'next': 323, 'bring': 324, 'mr': 325, 'case': 326, 'killer': 327, 'heart': 328, 'comment': 329, 'sort': 330, 'creat': 331, 'perhap': 332, 'came': 333, 'brother': 334, 'sever': 335, 'joke': 336, 'art': 337, 'dialogu': 338, 'game': 339, 'small': 340, 'base': 341, 'flick': 342, 'written': 343, 'sequenc': 344, 'meet': 345, 'earli': 346, 'often': 347, 'other': 348, 'mother': 349, 'develop': 350, 'humor': 351, 'actress': 352, 'consid': 353, 'dark': 354, 'guess': 355, 'amaz': 356, 'unfortun': 357, 'lost': 358, 'light': 359, 'exampl': 360, 'cinema': 361, 'drama': 362, 'ye': 363, 'white': 364, 'experi': 365, 'imagin': 366, 'mention': 367, 'stop': 368, 'natur': 369, 'forc': 370, 'manag': 371, 'felt': 372, 'present': 373, 'cut': 374, 'children': 375, 'fail': 376, 'son': 377, 'support': 378, 'car': 379, 'qualiti': 380, 'ask': 381, 'hit': 382, 'side': 383, 'voic': 384, 'extrem': 385, 'impress': 386, 'wors': 387, 'evil': 388, 'went': 389, 'stand': 390, 'certainli': 391, 'basic': 392, 'oh': 393, 'overal': 394, 'favorit': 395, 'horribl': 396, 'mysteri': 397, 'number': 398, 'type': 399, 'danc': 400, 'wait': 401, 'hero': 402, 'alreadi': 403, '5': 404, 'learn': 405, 'matter': 406, '4': 407, 'michael': 408, 'genr': 409, 'fine': 410, 'despit': 411, 'throughout': 412, 'walk': 413, 'success': 414, 'histori': 415, 'question': 416, 'zombi': 417, 'town': 418, 'realiz': 419, 'relationship': 420, 'past': 421, 'child': 422, 'daughter': 423, 'late': 424, 'b': 425, 'wish': 426, 'credit': 427, 'hate': 428, 'event': 429, 'theme': 430, 'touch': 431, 'citi': 432, 'today': 433, 'sometim': 434, 'behind': 435, 'god': 436, 'twist': 437, 'sit': 438, 'deal': 439, 'stay': 440, 'annoy': 441, 'abl': 442, 'rent': 443, 'pleas': 444, 'edit': 445, 'blood': 446, 'deserv': 447, 'anyway': 448, 'comic': 449, 'appar': 450, 'soon': 451, 'gave': 452, 'etc': 453, 'level': 454, 'slow': 455, 'chanc': 456, 'score': 457, 'bodi': 458, 'brilliant': 459, 'incred': 460, 'figur': 461, 'situat': 462, 'major': 463, 'self': 464, 'stuff': 465, 'decent': 466, 'element': 467, 'return': 468, 'dream': 469, 'obvious': 470, 'continu': 471, 'order': 472, 'pace': 473, 'ridicul': 474, 'happi': 475, 'group': 476, 'add': 477, 'highli': 478, 'thank': 479, 'ladi': 480, 'novel': 481, 'pain': 482, 'speak': 483, 'career': 484, 'shoot': 485, 'strang': 486, 'heard': 487, 'sad': 488, 'husband': 489, 'polic': 490, 'import': 491, 'break': 492, 'took': 493, 'cannot': 494, 'strong': 495, 'robert': 496, 'predict': 497, 'violenc': 498, 'hilari': 499, 'recent': 500, 'countri': 501, 'known': 502, 'particularli': 503, 'pick': 504, 'documentari': 505, 'season': 506, 'critic': 507, 'jame': 508, 'compar': 509, 'obviou': 510, 'alon': 511, 'told': 512, 'state': 513, 'rock': 514, 'visual': 515, 'offer': 516, 'theater': 517, 'exist': 518, 'opinion': 519, 'gore': 520, 'hold': 521, 'crap': 522, 'result': 523, 'room': 524, 'realiti': 525, 'hear': 526, 'clich': 527, 'effort': 528, 'thriller': 529, 'caus': 530, 'sequel': 531, 'serious': 532, 'explain': 533, 'king': 534, 'local': 535, 'ago': 536, 'none': 537, 'hell': 538, 'note': 539, 'allow': 540, 'david': 541, 'sister': 542, 'simpl': 543, 'femal': 544, 'deliv': 545, 'ok': 546, 'class': 547, 'convinc': 548, 'check': 549, 'suspens': 550, 'win': 551, 'buy': 552, 'oscar': 553, 'huge': 554, 'valu': 555, 'sexual': 556, 'cool': 557, 'scari': 558, 'excit': 559, 'similar': 560, 'provid': 561, 'apart': 562, 'exactli': 563, 'avoid': 564, 'shown': 565, 'seriou': 566, 'english': 567, 'taken': 568, 'whose': 569, 'cinematographi': 570, 'shock': 571, 'polit': 572, 'spoiler': 573, 'offic': 574, 'across': 575, 'middl': 576, 'pass': 577, 'street': 578, 'messag': 579, 'silli': 580, 'somewhat': 581, 'charm': 582, 'modern': 583, 'confus': 584, 'filmmak': 585, 'form': 586, 'tale': 587, 'singl': 588, 'jack': 589, 'mostli': 590, 'william': 591, 'carri': 592, 'attent': 593, 'sing': 594, 'five': 595, 'subject': 596, 'richard': 597, 'prove': 598, 'stage': 599, 'team': 600, 'cop': 601, 'unlik': 602, 'georg': 603, 'monster': 604, 'televis': 605, 'earth': 606, 'villain': 607, 'cover': 608, 'pay': 609, 'marri': 610, 'toward': 611, 'build': 612, 'pull': 613, 'parent': 614, 'due': 615, 'fill': 616, 'respect': 617, 'dialog': 618, 'four': 619, 'remind': 620, 'futur': 621, 'typic': 622, 'weak': 623, '7': 624, 'cheap': 625, 'intellig': 626, 'british': 627, 'atmospher': 628, '80': 629, 'clearli': 630, 'non': 631, 'dog': 632, 'paul': 633, 'fast': 634, 'knew': 635, 'artist': 636, '8': 637, 'crime': 638, 'easili': 639, 'escap': 640, 'doubt': 641, 'adult': 642, 'detail': 643, 'date': 644, 'fire': 645, 'romant': 646, 'member': 647, 'drive': 648, 'gun': 649, 'straight': 650, 'fit': 651, 'beyond': 652, 'attack': 653, 'imag': 654, 'upon': 655, 'posit': 656, 'whether': 657, 'fantast': 658, 'peter': 659, 'appreci': 660, 'captur': 661, 'aspect': 662, 'ten': 663, 'plan': 664, 'discov': 665, 'remain': 666, 'near': 667, 'period': 668, 'realist': 669, 'air': 670, 'mark': 671, 'red': 672, 'dull': 673, 'adapt': 674, 'within': 675, 'lose': 676, 'spend': 677, 'materi': 678, 'color': 679, 'chase': 680, 'mari': 681, 'storylin': 682, 'forget': 683, 'bunch': 684, 'clear': 685, 'lee': 686, 'victim': 687, 'nearli': 688, 'box': 689, 'york': 690, 'inspir': 691, 'match': 692, 'finish': 693, 'mess': 694, 'standard': 695, 'easi': 696, 'truth': 697, 'busi': 698, 'suffer': 699, 'space': 700, 'dramat': 701, 'bill': 702, 'western': 703, 'e': 704, 'list': 705, 'battl': 706, 'notic': 707, 'de': 708, 'french': 709, 'ad': 710, '9': 711, 'tom': 712, 'larg': 713, 'among': 714, 'eventu': 715, 'train': 716, 'accept': 717, 'agre': 718, 'soundtrack': 719, 'spirit': 720, 'third': 721, 'teenag': 722, 'adventur': 723, 'soldier': 724, 'sorri': 725, 'suggest': 726, 'drug': 727, 'famou': 728, 'cri': 729, 'normal': 730, 'babi': 731, 'troubl': 732, 'ultim': 733, 'contain': 734, 'certain': 735, 'cultur': 736, 'romanc': 737, 'rare': 738, 'lame': 739, 'somehow': 740, 'disney': 741, 'mix': 742, 'gone': 743, 'cartoon': 744, 'student': 745, 'reveal': 746, 'fear': 747, 'suck': 748, 'kept': 749, 'attract': 750, 'appeal': 751, 'premis': 752, 'greatest': 753, 'secret': 754, 'design': 755, 'shame': 756, 'throw': 757, 'copi': 758, 'scare': 759, 'wit': 760, 'america': 761, 'admit': 762, 'relat': 763, 'brought': 764, 'particular': 765, 'screenplay': 766, 'whatev': 767, 'pure': 768, '70': 769, 'harri': 770, 'averag': 771, 'master': 772, 'describ': 773, 'treat': 774, 'male': 775, '20': 776, 'issu': 777, 'fantasi': 778, 'warn': 779, 'inde': 780, 'forward': 781, 'background': 782, 'free': 783, 'project': 784, 'memor': 785, 'japanes': 786, 'poorli': 787, 'award': 788, 'locat': 789, 'amus': 790, 'potenti': 791, 'struggl': 792, 'magic': 793, 'weird': 794, 'societi': 795, 'okay': 796, 'imdb': 797, 'doctor': 798, 'accent': 799, 'water': 800, 'hot': 801, '30': 802, 'dr': 803, 'express': 804, 'alien': 805, 'odd': 806, 'crazi': 807, 'choic': 808, 'fiction': 809, 'studio': 810, 'control': 811, 'becam': 812, 'masterpiec': 813, 'difficult': 814, 'fli': 815, 'joe': 816, 'scream': 817, 'costum': 818, 'lover': 819, 'uniqu': 820, 'refer': 821, 'remak': 822, 'girlfriend': 823, 'vampir': 824, 'prison': 825, 'execut': 826, 'wear': 827, 'jump': 828, 'unless': 829, 'wood': 830, 'creepi': 831, 'cheesi': 832, 'superb': 833, 'otherwis': 834, 'parti': 835, 'ghost': 836, 'roll': 837, 'public': 838, 'mad': 839, 'depict': 840, 'moral': 841, 'jane': 842, 'badli': 843, 'earlier': 844, 'week': 845, 'fi': 846, 'dumb': 847, 'flaw': 848, 'grow': 849, 'deep': 850, 'sci': 851, 'cat': 852, 'maker': 853, 'footag': 854, 'older': 855, 'connect': 856, 'plenti': 857, 'bother': 858, 'outsid': 859, 'stick': 860, 'gay': 861, 'catch': 862, 'co': 863, 'plu': 864, 'popular': 865, 'equal': 866, 'social': 867, 'disturb': 868, 'quickli': 869, 'perfectli': 870, 'dress': 871, 'era': 872, '90': 873, 'mistak': 874, 'lie': 875, 'ride': 876, 'previou': 877, 'combin': 878, 'concept': 879, 'band': 880, 'surviv': 881, 'answer': 882, 'rich': 883, 'front': 884, 'christma': 885, 'sweet': 886, 'insid': 887, 'eat': 888, 'bare': 889, 'concern': 890, 'ben': 891, 'listen': 892, 'beat': 893, 'c': 894, 'serv': 895, 'term': 896, 'meant': 897, 'german': 898, 'la': 899, 'stereotyp': 900, 'hardli': 901, 'law': 902, 'innoc': 903, 'desper': 904, 'promis': 905, 'memori': 906, 'intent': 907, 'cute': 908, 'steal': 909, 'inform': 910, 'variou': 911, 'brain': 912, 'post': 913, 'tone': 914, 'island': 915, 'amount': 916, 'compani': 917, 'nuditi': 918, 'track': 919, 'store': 920, 'claim': 921, 'hair': 922, 'flat': 923, '50': 924, 'land': 925, 'univers': 926, 'danger': 927, 'fairli': 928, 'scott': 929, 'kick': 930, 'player': 931, 'crew': 932, 'plain': 933, 'step': 934, 'toni': 935, 'share': 936, 'tast': 937, 'centuri': 938, 'achiev': 939, 'engag': 940, 'cold': 941, 'travel': 942, 'rip': 943, 'record': 944, 'suit': 945, 'manner': 946, 'sadli': 947, 'wrote': 948, 'spot': 949, 'tension': 950, 'fascin': 951, 'intens': 952, 'familiar': 953, 'remark': 954, 'depth': 955, 'burn': 956, 'histor': 957, 'destroy': 958, 'sleep': 959, 'purpos': 960, 'languag': 961, 'ignor': 962, 'ruin': 963, 'delight': 964, 'unbeliev': 965, 'italian': 966, 'abil': 967, 'collect': 968, 'soul': 969, 'clever': 970, 'detect': 971, 'violent': 972, 'rape': 973, 'reach': 974, 'door': 975, 'liter': 976, 'scienc': 977, 'trash': 978, 'caught': 979, 'reveng': 980, 'commun': 981, 'creatur': 982, 'approach': 983, 'trip': 984, 'intrigu': 985, 'fashion': 986, 'skill': 987, 'introduc': 988, 'paint': 989, 'complex': 990, 'channel': 991, 'camp': 992, 'christian': 993, 'extra': 994, 'hole': 995, 'limit': 996, 'mental': 997, 'immedi': 998, 'ann': 999, 'slightli': 1000, 'million': 1001, 'comput': 1002, '6': 1003, 'mere': 1004, 'slasher': 1005, 'conclus': 1006, 'suddenli': 1007, 'imposs': 1008, 'neither': 1009, 'crimin': 1010, 'teen': 1011, 'nation': 1012, 'physic': 1013, 'spent': 1014, 'respons': 1015, 'planet': 1016, 'fake': 1017, 'receiv': 1018, 'sick': 1019, 'blue': 1020, 'bizarr': 1021, 'embarrass': 1022, 'indian': 1023, '15': 1024, 'ring': 1025, 'drop': 1026, 'pop': 1027, 'drag': 1028, 'haunt': 1029, 'pointless': 1030, 'suspect': 1031, 'edg': 1032, 'search': 1033, 'handl': 1034, 'biggest': 1035, 'common': 1036, 'hurt': 1037, 'faith': 1038, 'arriv': 1039, 'technic': 1040, 'angel': 1041, 'genuin': 1042, 'dad': 1043, 'solid': 1044, 'awesom': 1045, 'f': 1046, 'focu': 1047, 'colleg': 1048, 'van': 1049, 'former': 1050, 'count': 1051, 'tear': 1052, 'heavi': 1053, 'wall': 1054, 'rais': 1055, 'visit': 1056, 'laughabl': 1057, 'younger': 1058, 'fair': 1059, 'sign': 1060, 'excus': 1061, 'cult': 1062, 'tough': 1063, 'key': 1064, 'motion': 1065, 'desir': 1066, 'super': 1067, 'stun': 1068, 'addit': 1069, 'cloth': 1070, 'exploit': 1071, 'smith': 1072, 'tortur': 1073, 'davi': 1074, 'race': 1075, 'author': 1076, 'cross': 1077, 'jim': 1078, 'compel': 1079, 'minor': 1080, 'focus': 1081, 'consist': 1082, 'chemistri': 1083, 'pathet': 1084, 'commit': 1085, 'park': 1086, 'frank': 1087, 'obsess': 1088, 'tradit': 1089, 'grade': 1090, '60': 1091, 'asid': 1092, 'brutal': 1093, 'steve': 1094, 'somewher': 1095, 'grant': 1096, 'explor': 1097, 'depress': 1098, 'rule': 1099, 'opportun': 1100, 'u': 1101, 'honest': 1102, 'besid': 1103, 'anti': 1104, 'dub': 1105, 'intend': 1106, 'trailer': 1107, 'bar': 1108, 'longer': 1109, 'regard': 1110, 'west': 1111, 'scientist': 1112, 'decad': 1113, 'judg': 1114, 'silent': 1115, 'armi': 1116, 'creativ': 1117, 'wild': 1118, 'south': 1119, 'g': 1120, 'stewart': 1121, 'draw': 1122, 'road': 1123, 'govern': 1124, 'ex': 1125, 'boss': 1126, 'practic': 1127, 'surprisingli': 1128, 'club': 1129, 'motiv': 1130, 'festiv': 1131, 'gang': 1132, 'page': 1133, 'redeem': 1134, 'green': 1135, 'london': 1136, 'display': 1137, 'aliv': 1138, 'idiot': 1139, 'machin': 1140, 'militari': 1141, 'thrill': 1142, 'repeat': 1143, 'folk': 1144, '100': 1145, 'nobodi': 1146, 'yeah': 1147, '40': 1148, 'journey': 1149, 'garbag': 1150, 'tire': 1151, 'smile': 1152, 'ground': 1153, 'bought': 1154, 'mood': 1155, 'cost': 1156, 'stone': 1157, 'sam': 1158, 'mouth': 1159, 'noir': 1160, 'terrif': 1161, 'agent': 1162, 'requir': 1163, 'utterli': 1164, 'honestli': 1165, 'area': 1166, 'sexi': 1167, 'geniu': 1168, 'report': 1169, 'enter': 1170, 'glad': 1171, 'humour': 1172, 'investig': 1173, 'serial': 1174, 'passion': 1175, 'occasion': 1176, 'narr': 1177, 'marriag': 1178, 'climax': 1179, 'studi': 1180, 'industri': 1181, 'center': 1182, 'charli': 1183, 'nowher': 1184, 'ship': 1185, 'demon': 1186, 'hors': 1187, 'bear': 1188, 'loos': 1189, 'hang': 1190, 'wow': 1191, 'graphic': 1192, 'admir': 1193, 'giant': 1194, 'send': 1195, 'damn': 1196, 'loud': 1197, 'rel': 1198, 'nake': 1199, 'subtl': 1200, 'profession': 1201, 'blow': 1202, 'bottom': 1203, 'batman': 1204, 'insult': 1205, 'boyfriend': 1206, 'doubl': 1207, 'r': 1208, 'kelli': 1209, 'initi': 1210, 'frame': 1211, 'gem': 1212, 'opera': 1213, 'affect': 1214, 'cinemat': 1215, 'drawn': 1216, 'church': 1217, 'challeng': 1218, 'evid': 1219, 'j': 1220, 'fulli': 1221, 'seek': 1222, 'l': 1223, 'nightmar': 1224, 'conflict': 1225, 'essenti': 1226, 'arm': 1227, 'wind': 1228, 'henri': 1229, 'christoph': 1230, 'grace': 1231, 'witch': 1232, 'narrat': 1233, 'assum': 1234, 'hunt': 1235, 'push': 1236, 'wise': 1237, 'chri': 1238, 'repres': 1239, 'month': 1240, 'nomin': 1241, 'affair': 1242, 'hide': 1243, 'sceneri': 1244, 'avail': 1245, 'bond': 1246, 'thu': 1247, 'smart': 1248, 'justic': 1249, 'interview': 1250, 'outstand': 1251, 'flashback': 1252, 'presenc': 1253, 'satisfi': 1254, 'constantli': 1255, 'bed': 1256, 'central': 1257, 'content': 1258, 'iron': 1259, 'sell': 1260, 'gag': 1261, 'everybodi': 1262, 'slowli': 1263, 'hotel': 1264, 'hire': 1265, 'system': 1266, 'hey': 1267, 'individu': 1268, 'charl': 1269, 'thrown': 1270, 'adam': 1271, 'mediocr': 1272, 'jone': 1273, 'allen': 1274, 'billi': 1275, 'lesson': 1276, 'ray': 1277, 'cameo': 1278, 'photographi': 1279, 'fellow': 1280, 'pari': 1281, 'strike': 1282, 'rise': 1283, 'brief': 1284, 'independ': 1285, 'absurd': 1286, 'neg': 1287, 'phone': 1288, 'impact': 1289, 'born': 1290, 'model': 1291, 'ill': 1292, 'fresh': 1293, 'angl': 1294, 'spoil': 1295, 'likabl': 1296, 'abus': 1297, 'hill': 1298, 'discuss': 1299, 'sight': 1300, 'ahead': 1301, 'sent': 1302, 'photograph': 1303, 'occur': 1304, 'blame': 1305, 'shine': 1306, 'logic': 1307, 'bruce': 1308, 'mainli': 1309, 'commerci': 1310, 'forev': 1311, 'skip': 1312, 'segment': 1313, 'teacher': 1314, 'surround': 1315, 'held': 1316, 'zero': 1317, 'blond': 1318, 'summer': 1319, 'satir': 1320, 'resembl': 1321, 'trap': 1322, 'six': 1323, 'queen': 1324, 'ball': 1325, 'fool': 1326, 'sub': 1327, 'tragedi': 1328, 'twice': 1329, 'reaction': 1330, 'pack': 1331, 'bomb': 1332, 'protagonist': 1333, 'will': 1334, 'hospit': 1335, 'sport': 1336, 'mile': 1337, 'vote': 1338, 'drink': 1339, 'jerri': 1340, 'mom': 1341, 'trust': 1342, 'encount': 1343, 'plane': 1344, 'al': 1345, 'current': 1346, 'station': 1347, 'program': 1348, 'martin': 1349, 'choos': 1350, 'celebr': 1351, 'join': 1352, 'field': 1353, 'lord': 1354, 'tragic': 1355, 'favourit': 1356, 'round': 1357, 'vision': 1358, 'jean': 1359, 'robot': 1360, 'tie': 1361, 'arthur': 1362, 'roger': 1363, 'fortun': 1364, 'random': 1365, 'intern': 1366, 'psycholog': 1367, 'dread': 1368, 'nonsens': 1369, 'epic': 1370, 'improv': 1371, 'prefer': 1372, 'legend': 1373, 'pleasur': 1374, 'formula': 1375, 'highlight': 1376, '11': 1377, 'dollar': 1378, 'tape': 1379, 'fox': 1380, 'object': 1381, 'porn': 1382, 'wide': 1383, 'thin': 1384, 'gorgeou': 1385, 'ugli': 1386, 'buddi': 1387, 'influenc': 1388, 'nasti': 1389, 'prepar': 1390, 'ii': 1391, 'reflect': 1392, 'warm': 1393, 'progress': 1394, 'supposedli': 1395, 'worthi': 1396, 'youth': 1397, 'unusu': 1398, 'length': 1399, 'latter': 1400, 'crash': 1401, 'childhood': 1402, 'seven': 1403, 'shop': 1404, 'superior': 1405, 'theatr': 1406, 'remot': 1407, 'pilot': 1408, 'funniest': 1409, 'disgust': 1410, 'paid': 1411, 'trick': 1412, 'fell': 1413, 'convers': 1414, 'castl': 1415, 'establish': 1416, 'rob': 1417, 'disast': 1418, 'gangster': 1419, 'heaven': 1420, 'disappear': 1421, 'ident': 1422, 'mine': 1423, 'suicid': 1424, 'singer': 1425, 'tend': 1426, 'decis': 1427, 'forgotten': 1428, 'mask': 1429, 'heroin': 1430, 'partner': 1431, 'brian': 1432, 'desert': 1433, 'recogn': 1434, 'alan': 1435, 'sky': 1436, 'ms': 1437, 'p': 1438, 'stuck': 1439, 'thoroughli': 1440, 'accur': 1441, 'replac': 1442, 'market': 1443, 'andi': 1444, 'clue': 1445, 'seemingli': 1446, 'commentari': 1447, 'eddi': 1448, 'danni': 1449, 'uncl': 1450, 'devil': 1451, 'jackson': 1452, 'that': 1453, 'refus': 1454, 'therefor': 1455, 'pair': 1456, 'unit': 1457, 'fault': 1458, 'ed': 1459, 'fate': 1460, 'accid': 1461, 'river': 1462, 'afraid': 1463, 'tune': 1464, 'russian': 1465, 'stephen': 1466, 'hidden': 1467, 'clean': 1468, 'instanc': 1469, 'convey': 1470, 'captain': 1471, 'quick': 1472, 'irrit': 1473, 'test': 1474, 'readi': 1475, 'european': 1476, 'frustrat': 1477, 'daniel': 1478, 'insan': 1479, 'food': 1480, 'rescu': 1481, 'chines': 1482, '1950': 1483, 'wed': 1484, 'angri': 1485, 'dirti': 1486, 'lock': 1487, 'joy': 1488, 'price': 1489, 'steven': 1490, 'bland': 1491, 'cage': 1492, 'rang': 1493, 'anymor': 1494, 'wooden': 1495, 'n': 1496, 'rush': 1497, 'jason': 1498, 'news': 1499, 'twenti': 1500, 'led': 1501, 'worri': 1502, '12': 1503, 'board': 1504, 'martial': 1505, 'hunter': 1506, 'cgi': 1507, 'symbol': 1508, 'transform': 1509, 'onto': 1510, 'invent': 1511, 'x': 1512, 'johnni': 1513, 'sentiment': 1514, 'piti': 1515, 'explan': 1516, 'process': 1517, 'attitud': 1518, 'owner': 1519, 'awar': 1520, 'aim': 1521, 'energi': 1522, 'favor': 1523, 'floor': 1524, 'necessari': 1525, 'target': 1526, 'opposit': 1527, 'religi': 1528, 'insight': 1529, 'blind': 1530, 'chick': 1531, 'window': 1532, 'movement': 1533, 'deepli': 1534, 'mountain': 1535, 'comparison': 1536, 'possess': 1537, 'research': 1538, 'grand': 1539, 'comed': 1540, 'whatsoev': 1541, 'rain': 1542, 'shadow': 1543, 'mid': 1544, 'bank': 1545, 'began': 1546, 'parodi': 1547, 'princ': 1548, 'taylor': 1549, 'friendship': 1550, 'pre': 1551, 'weapon': 1552, 'credibl': 1553, 'flesh': 1554, 'teach': 1555, 'dougla': 1556, 'hint': 1557, 'bloodi': 1558, 'protect': 1559, 'terror': 1560, 'marvel': 1561, 'load': 1562, 'anybodi': 1563, 'drunk': 1564, 'leader': 1565, 'watchabl': 1566, 'accord': 1567, 'superman': 1568, 'brown': 1569, 'freddi': 1570, 'seat': 1571, 'hitler': 1572, 'appropri': 1573, 'tim': 1574, 'jeff': 1575, 'charg': 1576, 'knock': 1577, 'villag': 1578, 'keaton': 1579, 'unknown': 1580, 'empti': 1581, 'enemi': 1582, 'england': 1583, 'unnecessari': 1584, 'media': 1585, 'perspect': 1586, 'strength': 1587, 'buck': 1588, 'craft': 1589, 'dare': 1590, 'utter': 1591, 'wave': 1592, 'contrast': 1593, 'ford': 1594, 'kiss': 1595, 'nativ': 1596, 'correct': 1597, 'distract': 1598, 'chill': 1599, 'nazi': 1600, 'speed': 1601, 'anywher': 1602, 'magnific': 1603, 'knowledg': 1604, 'soap': 1605, 'breath': 1606, 'fred': 1607, 'mission': 1608, 'ice': 1609, '1980': 1610, 'joan': 1611, 'jr': 1612, 'crowd': 1613, 'moon': 1614, 'soft': 1615, 'frighten': 1616, 'kate': 1617, '000': 1618, 'hundr': 1619, 'dick': 1620, 'dan': 1621, 'nick': 1622, 'radio': 1623, 'simon': 1624, 'dozen': 1625, 'somebodi': 1626, 'thousand': 1627, 'loss': 1628, 'andrew': 1629, 'academi': 1630, 'shakespear': 1631, 'sum': 1632, 'root': 1633, 'account': 1634, 'quot': 1635, 'vehicl': 1636, '1970': 1637, 'leg': 1638, 'behavior': 1639, 'convent': 1640, 'gold': 1641, 'regular': 1642, 'demand': 1643, 'pretenti': 1644, 'worker': 1645, 'compet': 1646, 'stretch': 1647, 'privat': 1648, 'interpret': 1649, 'japan': 1650, 'notabl': 1651, 'lynch': 1652, 'explos': 1653, 'candi': 1654, 'constant': 1655, 'debut': 1656, 'tarzan': 1657, 'translat': 1658, 'spi': 1659, 'prais': 1660, 'revolv': 1661, 'sea': 1662, 'quiet': 1663, 'jesu': 1664, 'sat': 1665, 'franc': 1666, 'threaten': 1667, 'technolog': 1668, 'failur': 1669, 'ass': 1670, 'aid': 1671, 'kevin': 1672, 'punch': 1673, 'met': 1674, 'toy': 1675, 'higher': 1676, 'vh': 1677, 'abandon': 1678, 'interact': 1679, 'mike': 1680, 'confront': 1681, 'command': 1682, 'separ': 1683, 'bet': 1684, 'stunt': 1685, 'techniqu': 1686, 'servic': 1687, 'belong': 1688, 'gotten': 1689, 'recal': 1690, 'site': 1691, 'foot': 1692, 'freak': 1693, 'cabl': 1694, 'bug': 1695, 'fu': 1696, 'bright': 1697, 'jimmi': 1698, 'capabl': 1699, 'african': 1700, 'fat': 1701, 'clark': 1702, 'boat': 1703, 'presid': 1704, 'stock': 1705, 'succeed': 1706, 'spanish': 1707, 'gene': 1708, 'structur': 1709, 'paper': 1710, 'kidnap': 1711, 'belief': 1712, 'whilst': 1713, 'factor': 1714, 'tree': 1715, 'realism': 1716, 'witti': 1717, 'attend': 1718, 'bob': 1719, 'complic': 1720, 'realis': 1721, 'educ': 1722, 'finest': 1723, 'broken': 1724, 'santa': 1725, 'assist': 1726, 'observ': 1727, 'up': 1728, 'determin': 1729, 'depart': 1730, 'v': 1731, 'smoke': 1732, 'fame': 1733, 'hat': 1734, 'rubbish': 1735, 'oper': 1736, 'domin': 1737, 'lewi': 1738, 'routin': 1739, 'lone': 1740, 'morgan': 1741, 'safe': 1742, 'kinda': 1743, 'advanc': 1744, 'hook': 1745, 'foreign': 1746, 'rank': 1747, 'numer': 1748, 'shallow': 1749, 'shape': 1750, 'rose': 1751, 'vs': 1752, 'civil': 1753, 'werewolf': 1754, 'washington': 1755, 'gari': 1756, 'morn': 1757, 'winner': 1758, 'accomplish': 1759, 'kong': 1760, 'ordinari': 1761, 'grab': 1762, 'virtual': 1763, 'whenev': 1764, 'peac': 1765, 'h': 1766, 'luck': 1767, 'offens': 1768, 'patient': 1769, 'contriv': 1770, 'welcom': 1771, 'complain': 1772, 'unfunni': 1773, 'bigger': 1774, 'activ': 1775, 'con': 1776, 'dimension': 1777, 'trek': 1778, 'pretend': 1779, 'cain': 1780, 'code': 1781, 'wake': 1782, 'flash': 1783, 'dri': 1784, 'eric': 1785, 'lesbian': 1786, 'statu': 1787, 'dancer': 1788, 'albert': 1789, 'manipul': 1790, 'guard': 1791, 'corrupt': 1792, 'speech': 1793, 'awkward': 1794, 'sourc': 1795, 'signific': 1796, 'gain': 1797, 'context': 1798, 'psycho': 1799, 'corni': 1800, 'anthoni': 1801, 'clip': 1802, 'sean': 1803, '13': 1804, 'w': 1805, 'curiou': 1806, 'theatric': 1807, 'advic': 1808, 'reli': 1809, 'priest': 1810, 'religion': 1811, 'addict': 1812, 'flow': 1813, 'specif': 1814, 'secur': 1815, 'jennif': 1816, 'asian': 1817, 'skin': 1818, 'howard': 1819, 'golden': 1820, 'core': 1821, 'luke': 1822, 'promot': 1823, 'comfort': 1824, 'organ': 1825, 'lucki': 1826, 'cheat': 1827, 'cash': 1828, 'dislik': 1829, 'associ': 1830, 'lower': 1831, 'devic': 1832, 'balanc': 1833, 'spell': 1834, 'degre': 1835, 'contribut': 1836, 'regret': 1837, 'wing': 1838, 'frankli': 1839, 'frequent': 1840, 'lake': 1841, 'forgiv': 1842, 'sake': 1843, 'print': 1844, 'thoma': 1845, 'mass': 1846, 'betti': 1847, 'crack': 1848, 'gordon': 1849, 'unexpect': 1850, 'depend': 1851, 'unfold': 1852, 'categori': 1853, 'amateur': 1854, 'construct': 1855, 'grown': 1856, 'invit': 1857, 'honor': 1858, 'condit': 1859, 'matur': 1860, 'intellectu': 1861, 'grew': 1862, 'anna': 1863, 'walter': 1864, 'veteran': 1865, 'sole': 1866, 'spectacular': 1867, 'mirror': 1868, 'sudden': 1869, 'robin': 1870, 'experienc': 1871, 'grip': 1872, 'card': 1873, 'gift': 1874, 'meanwhil': 1875, 'liner': 1876, 'freedom': 1877, 'overli': 1878, 'demonstr': 1879, 'sheriff': 1880, 'unabl': 1881, 'brilliantli': 1882, 'subtitl': 1883, 'colour': 1884, 'oliv': 1885, 'crappi': 1886, 'circumst': 1887, 'section': 1888, 'theori': 1889, 'drew': 1890, 'pile': 1891, 'cook': 1892, 'path': 1893, 'laughter': 1894, 'parker': 1895, 'altern': 1896, 'matt': 1897, 'sheer': 1898, 'wander': 1899, 'defin': 1900, 'hall': 1901, 'lawyer': 1902, 'accident': 1903, 'treatment': 1904, 'relief': 1905, 'sinatra': 1906, 'hank': 1907, 'captiv': 1908, 'dragon': 1909, 'gratuit': 1910, 'halloween': 1911, 'moor': 1912, 'barbara': 1913, 'broadway': 1914, 'unintent': 1915, 'wound': 1916, 'k': 1917, 'wayn': 1918, 'cowboy': 1919, 'kung': 1920, 'jacki': 1921, 'surreal': 1922, 'spoof': 1923, 'statement': 1924, 'canadian': 1925, 'winter': 1926, 'fare': 1927, 'treasur': 1928, 'gonna': 1929, 'fish': 1930, 'compos': 1931, 'cheer': 1932, 'woodi': 1933, 'emerg': 1934, 'unrealist': 1935, 'victor': 1936, 'sensit': 1937, 'sympathet': 1938, 'driven': 1939, 'ran': 1940, 'neighbor': 1941, 'topic': 1942, 'glass': 1943, 'overlook': 1944, 'authent': 1945, 'menac': 1946, 'expos': 1947, 'gross': 1948, 'chief': 1949, 'handsom': 1950, 'ancient': 1951, 'michel': 1952, 'feet': 1953, 'network': 1954, 'pleasant': 1955, 'stranger': 1956, 'russel': 1957, 'cinderella': 1958, 'contemporari': 1959, 'built': 1960, 'nevertheless': 1961, 'comedian': 1962, 'earn': 1963, 'blockbust': 1964, 'endless': 1965, 'underr': 1966, 'consider': 1967, 'miser': 1968, 'gori': 1969, 'letter': 1970, 'solv': 1971, 'brook': 1972, 'switch': 1973, 'bullet': 1974, 'virgin': 1975, 'joseph': 1976, 'convict': 1977, 'edward': 1978, 'victoria': 1979, 'alex': 1980, 'scale': 1981, 'scenario': 1982, '0': 1983, 'chosen': 1984, 'cynic': 1985, 'gut': 1986, 'sword': 1987, 'com': 1988, 'curs': 1989, 'outrag': 1990, 'juli': 1991, 'uk': 1992, 'screenwrit': 1993, 'driver': 1994, 'proper': 1995, 'wrap': 1996, 'substanc': 1997, 'monkey': 1998, 'remov': 1999, 'court': 2000, 'indic': 2001, 'par': 2002, 'bird': 2003, 'grave': 2004, 'loser': 2005, 'consequ': 2006, 'rental': 2007, 'naiv': 2008, 'roy': 2009, 'advertis': 2010, 'inevit': 2011, 'nanci': 2012, 'bridg': 2013, 'germani': 2014, 'invis': 2015, 'fatal': 2016, 'slap': 2017, 'le': 2018, 'brave': 2019, 'ador': 2020, 'provok': 2021, 'loui': 2022, 'anger': 2023, 'footbal': 2024, 'anderson': 2025, 'alcohol': 2026, 'chan': 2027, 'ryan': 2028, 'stumbl': 2029, 'willi': 2030, 'professor': 2031, 'australian': 2032, 'assassin': 2033, 'bat': 2034, 'sharp': 2035, 'patrick': 2036, '1930': 2037, 'amateurish': 2038, 'deni': 2039, 'liber': 2040, 'refresh': 2041, 'eight': 2042, 'strongli': 2043, 'trilog': 2044, 'cell': 2045, 'heck': 2046, 'ape': 2047, 'lousi': 2048, 'saturday': 2049, 'sin': 2050, 'san': 2051, 'vagu': 2052, 'justifi': 2053, 'resid': 2054, 'indi': 2055, 'mini': 2056, 'sympathi': 2057, 'terrifi': 2058, 'defeat': 2059, 'creator': 2060, 'reput': 2061, 'tediou': 2062, 'endur': 2063, 'prevent': 2064, 'expert': 2065, 'tabl': 2066, 'task': 2067, 'rival': 2068, 'offend': 2069, 'employ': 2070, 'trial': 2071, 'basebal': 2072, 'che': 2073, 'imit': 2074, 'max': 2075, 'complaint': 2076, 'weekend': 2077, 'fairi': 2078, 'pitch': 2079, 'dig': 2080, 'europ': 2081, 'beach': 2082, 'format': 2083, 'risk': 2084, 'murphi': 2085, 'purchas': 2086, 'nois': 2087, 'tini': 2088, 'titan': 2089, 'hype': 2090, 'bite': 2091, 'glimps': 2092, 'harsh': 2093, 'reminisc': 2094, 'powel': 2095, 'fals': 2096, '14': 2097, 'north': 2098, 'strip': 2099, 'asleep': 2100, 'till': 2101, 'prime': 2102, 'africa': 2103, 'destruct': 2104, 'revel': 2105, 'texa': 2106, 'descript': 2107, 'excess': 2108, 'inner': 2109, 'surfac': 2110, 'sitcom': 2111, 'arrest': 2112, 'semi': 2113, 'spin': 2114, 'uninterest': 2115, 'maintain': 2116, 'controversi': 2117, 'dinosaur': 2118, 'makeup': 2119, 'twin': 2120, 'massiv': 2121, 'hitchcock': 2122, 'argu': 2123, 'kim': 2124, 'expens': 2125, 'stare': 2126, 'reject': 2127, 'melodrama': 2128, 'ideal': 2129, 'insist': 2130, 'ludicr': 2131, 'ga': 2132, 'nail': 2133, 'columbo': 2134, 'erot': 2135, 'ala': 2136, 'host': 2137, 'press': 2138, 'subplot': 2139, 'forest': 2140, 'atroci': 2141, 'supernatur': 2142, 'dude': 2143, 'cant': 2144, 'presum': 2145, 'notch': 2146, 'identifi': 2147, 'method': 2148, 'guest': 2149, 'forgett': 2150, 'crude': 2151, 'character': 2152, 'closer': 2153, 'plagu': 2154, 'landscap': 2155, 'princess': 2156, 'beast': 2157, 'lion': 2158, 'ear': 2159, 'border': 2160, 'foster': 2161, 'bound': 2162, 'aunt': 2163, 'damag': 2164, 'accus': 2165, 'birth': 2166, 'storytel': 2167, 'pacino': 2168, 'previous': 2169, 'urban': 2170, 'jungl': 2171, 'chose': 2172, 'jess': 2173, 'nude': 2174, 'emma': 2175, 'thirti': 2176, 'propaganda': 2177, 'doll': 2178, 'guid': 2179, 'pet': 2180, 'warrior': 2181, '25': 2182, 'mainstream': 2183, 'whoever': 2184, 'mate': 2185, 'latest': 2186, 'merit': 2187, 'poster': 2188, 'cooper': 2189, 'friday': 2190, 'exact': 2191, 'size': 2192, 'gritti': 2193, 'upset': 2194, 'deadli': 2195, 'warner': 2196, 'corps': 2197, 'rough': 2198, 'buff': 2199, 'contest': 2200, 'ton': 2201, 'settl': 2202, 'wilson': 2203, 'contact': 2204, 'sun': 2205, 'citizen': 2206, 'blend': 2207, 'popul': 2208, '1990': 2209, 'environ': 2210, 'bu': 2211, 'alic': 2212, 'select': 2213, 'rat': 2214, 'overcom': 2215, 'widow': 2216, 'metal': 2217, 'mgm': 2218, 'pitt': 2219, 'particip': 2220, 'revolut': 2221, 'lift': 2222, 'guilti': 2223, 'link': 2224, 'ted': 2225, 'corpor': 2226, 'corner': 2227, 'afternoon': 2228, 'matrix': 2229, 'accompani': 2230, 'exagger': 2231, 'moron': 2232, '1960': 2233, 'prostitut': 2234, 'johnson': 2235, 'sincer': 2236, 'friendli': 2237, 'hood': 2238, 'multipl': 2239, 'doom': 2240, 'leagu': 2241, 'clair': 2242, 'instal': 2243, 'holm': 2244, 'grim': 2245, 'sunday': 2246, 'examin': 2247, 'lugosi': 2248, 'defend': 2249, 'junk': 2250, 'irish': 2251, 'aka': 2252, 'hip': 2253, 'campi': 2254, 'string': 2255, 'blah': 2256, 'advis': 2257, 'shut': 2258, 'pro': 2259, 'varieti': 2260, 'confid': 2261, 'icon': 2262, 'shake': 2263, 'tight': 2264, 'rachel': 2265, 'attach': 2266, 'jaw': 2267, 'medic': 2268, 'mexican': 2269, 'directli': 2270, 'goal': 2271, 'sullivan': 2272, 'denni': 2273, 'dean': 2274, 'sarah': 2275, 'truck': 2276, 'breast': 2277, 'sentenc': 2278, 'courag': 2279, 'bourn': 2280, 'legendari': 2281, 'prior': 2282, 'vietnam': 2283, 'terrorist': 2284, 'duke': 2285, 'nose': 2286, 'yell': 2287, 'donald': 2288, 'split': 2289, 'entri': 2290, 'proceed': 2291, 'behav': 2292, 'hong': 2293, 'un': 2294, 'borrow': 2295, 'jerk': 2296, 'concentr': 2297, 'gather': 2298, 'crush': 2299, 'forth': 2300, 'swim': 2301, 'stolen': 2302, 'unconvinc': 2303, 'confess': 2304, 'everywher': 2305, 'buri': 2306, 'lifetim': 2307, 'deliveri': 2308, 'spite': 2309, 'turkey': 2310, 'julia': 2311, 'lip': 2312, 'california': 2313, 'pan': 2314, 'china': 2315, 'proud': 2316, 'freeman': 2317, 'flight': 2318, 'quest': 2319, 'hoffman': 2320, 'offici': 2321, 'downright': 2322, 'reward': 2323, 'fabul': 2324, 'sink': 2325, 'notori': 2326, 'fade': 2327, 'inept': 2328, 'encourag': 2329, 'jon': 2330, 'worthwhil': 2331, 'sir': 2332, 'betray': 2333, 'lazi': 2334, 'jail': 2335, 'shower': 2336, 'lisa': 2337, 'bag': 2338, 'survivor': 2339, 'teeth': 2340, 'imageri': 2341, 'bell': 2342, 'storm': 2343, 'susan': 2344, 'cousin': 2345, 'relev': 2346, 'branagh': 2347, 'retard': 2348, 'shark': 2349, 'trade': 2350, 'tremend': 2351, 'hugh': 2352, 'summari': 2353, 'quirki': 2354, 'stab': 2355, 'finger': 2356, 'facial': 2357, 'mexico': 2358, 'bride': 2359, 'toler': 2360, 'alright': 2361, 'bitter': 2362, 'blown': 2363, 'hyster': 2364, 'von': 2365, 'ha': 2366, 'pose': 2367, 'christ': 2368, 'scheme': 2369, 'ron': 2370, 'cruel': 2371, 'address': 2372, 'ned': 2373, 'bone': 2374, 'afterward': 2375, 'larri': 2376, 'thumb': 2377, 'snake': 2378, 'feed': 2379, 'screw': 2380, 'traci': 2381, 'pursu': 2382, 'swear': 2383, 'distinct': 2384, 'beg': 2385, 'tour': 2386, 'obscur': 2387, 'mechan': 2388, 'occas': 2389, 'stomach': 2390, 'chair': 2391, 'photo': 2392, 'raw': 2393, 'gruesom': 2394, 'southern': 2395, 'heavili': 2396, 'holiday': 2397, 'cabin': 2398, 'render': 2399, 'sidney': 2400, 'chain': 2401, 'hardi': 2402, 'necessarili': 2403, 'resist': 2404, 'argument': 2405, 'philip': 2406, 'understood': 2407, 'satan': 2408, 'racist': 2409, 'indulg': 2410, 'india': 2411, 'tongu': 2412, 'belov': 2413, 'outfit': 2414, 'forgot': 2415, 'obnoxi': 2416, 'pregnant': 2417, 'stalk': 2418, 'integr': 2419, 'fourth': 2420, 'midnight': 2421, 'lay': 2422, 'carol': 2423, 'restor': 2424, 'garden': 2425, '17': 2426, 'deeper': 2427, 'slapstick': 2428, 'magazin': 2429, 'ticket': 2430, 'inhabit': 2431, 'devot': 2432, 'brad': 2433, 'shoe': 2434, 'incid': 2435, 'lincoln': 2436, 'lili': 2437, 'elizabeth': 2438, 'maria': 2439, 'disbelief': 2440, 'anticip': 2441, 'underground': 2442, 'divorc': 2443, 'guarante': 2444, 'benefit': 2445, 'sandler': 2446, 'amazingli': 2447, 'princip': 2448, 'slave': 2449, 'capit': 2450, 'bbc': 2451, 'explod': 2452, 'greater': 2453, 'cring': 2454, 'mildli': 2455, 'creation': 2456, 'introduct': 2457, 'lesli': 2458, 'halfway': 2459, 'funnier': 2460, 'extraordinari': 2461, 'tap': 2462, 'extent': 2463, 'text': 2464, 'wreck': 2465, 'enhanc': 2466, 'overwhelm': 2467, 'advantag': 2468, 'punish': 2469, 'transfer': 2470, 'plant': 2471, 'lane': 2472, 'preview': 2473, 'error': 2474, 'horrif': 2475, 'deliber': 2476, 'dynam': 2477, 'east': 2478, 'jessica': 2479, 'lo': 2480, 'vacat': 2481, 'ensu': 2482, 'homosexu': 2483, 'sophist': 2484, 'miscast': 2485, 'vincent': 2486, '2000': 2487, 'basi': 2488, 'appli': 2489, 'miller': 2490, 'uncomfort': 2491, 'steel': 2492, 'bollywood': 2493, 'elev': 2494, 'reed': 2495, 'mansion': 2496, 'measur': 2497, 'sleazi': 2498, 'spoken': 2499, 'extend': 2500, 'via': 2501, 'melt': 2502, 'goofi': 2503, 'blair': 2504, 'dentist': 2505, 'assign': 2506, 'breathtak': 2507, 'daili': 2508, 'mous': 2509, 'beer': 2510, 'conceiv': 2511, 'overact': 2512, 'cathol': 2513, 'fix': 2514, 'alter': 2515, 'hippi': 2516, 'savag': 2517, 'stanley': 2518, 'oppos': 2519, 'properli': 2520, 'everyday': 2521, 'subsequ': 2522, 'succe': 2523, 'carpent': 2524, 'burt': 2525, 'nowaday': 2526, 'inspector': 2527, 'sacrific': 2528, 'laura': 2529, 'massacr': 2530, 'circl': 2531, 'neck': 2532, 'block': 2533, 'pool': 2534, 'christi': 2535, 'lesser': 2536, 'mob': 2537, 'grey': 2538, 'fallen': 2539, 'access': 2540, 'concert': 2541, 'portrait': 2542, 'fay': 2543, 'seagal': 2544, 'sinist': 2545, 'relax': 2546, 'react': 2547, 'competit': 2548, 'jake': 2549, 'chees': 2550, 'jewish': 2551, 'isol': 2552, 'usa': 2553, 'chop': 2554, 'suitabl': 2555, 'nine': 2556, '2006': 2557, 'lyric': 2558, 'nonetheless': 2559, 'ironi': 2560, 'creep': 2561, 'spiritu': 2562, 'stink': 2563, 'appal': 2564, 'immens': 2565, 'showcas': 2566, 'navi': 2567, 'user': 2568, 'needless': 2569, 'nut': 2570, 'sold': 2571, 'luci': 2572, 'franchis': 2573, 'adopt': 2574, 'shirt': 2575, 'reduc': 2576, 'spring': 2577, 'retir': 2578, 'rage': 2579, 'bath': 2580, 'jay': 2581, 'asham': 2582, 'nurs': 2583, 'zone': 2584, 'digit': 2585, 'uninspir': 2586, 'bulli': 2587, 'per': 2588, 'stanwyck': 2589, '2001': 2590, 'sutherland': 2591, 'upper': 2592, 'oddli': 2593, 'illustr': 2594, '1940': 2595, 'laid': 2596, 'broadcast': 2597, 'amongst': 2598, 'throat': 2599, 'aspir': 2600, 'stylish': 2601, 'disguis': 2602, 'fulfil': 2603, 'brando': 2604, 'baker': 2605, 'pound': 2606, 'impli': 2607, 'wanna': 2608, 'pride': 2609, 'endear': 2610, 'wwii': 2611, 'thief': 2612, 'neighborhood': 2613, '18': 2614, 'nobl': 2615, 'em': 2616, 'albeit': 2617, 'bo': 2618, 'tens': 2619, 'rochest': 2620, 'bett': 2621, 'shift': 2622, 'cinematograph': 2623, 'dinner': 2624, 'diseas': 2625, '16': 2626, 'distribut': 2627, 'shoulder': 2628, 'coher': 2629, 'dawn': 2630, 'prop': 2631, 'surf': 2632, 'function': 2633, 'contract': 2634, 'shout': 2635, 'wash': 2636, 'forti': 2637, 'knife': 2638, 'silenc': 2639, 'poignant': 2640, 'snow': 2641, 'rebel': 2642, 'matthau': 2643, 'height': 2644, 'proof': 2645, 'instinct': 2646, 'cannib': 2647, 'horrend': 2648, 'widmark': 2649, 'chuck': 2650, 'cancel': 2651, 'internet': 2652, 'derek': 2653, 'silver': 2654, 'henc': 2655, 'reunion': 2656, 'duti': 2657, 'heat': 2658, 'eeri': 2659, 'mindless': 2660, 'elvira': 2661, 'neat': 2662, 'torn': 2663, 'absorb': 2664, 'premier': 2665, 'mill': 2666, 'etern': 2667, 'innov': 2668, 'pie': 2669, 'repetit': 2670, 'glori': 2671, 'greatli': 2672, 'spielberg': 2673, 'incoher': 2674, 'alik': 2675, 'musician': 2676, 'elvi': 2677, 'lovabl': 2678, 'racism': 2679, 'crisi': 2680, 'precis': 2681, 'fbi': 2682, 'infam': 2683, 'homag': 2684, 'redempt': 2685, 'diamond': 2686, 'wealthi': 2687, 'trite': 2688, 'bang': 2689, 'announc': 2690, 'burton': 2691, 'horrifi': 2692, 'blank': 2693, 'nelson': 2694, 'britain': 2695, 'itali': 2696, 'wilder': 2697, 'resolut': 2698, 'hammer': 2699, 'dedic': 2700, 'ensembl': 2701, 'parallel': 2702, 'flop': 2703, 'happili': 2704, 'streisand': 2705, 'chaplin': 2706, 'helen': 2707, 'pat': 2708, 'disagre': 2709, 'factori': 2710, 'broke': 2711, 'triumph': 2712, 'carter': 2713, 'conclud': 2714, 'plastic': 2715, 'oil': 2716, 'cube': 2717, 'st': 2718, 'mar': 2719, 'bush': 2720, 'march': 2721, 'row': 2722, 'own': 2723, 'chuckl': 2724, 'weight': 2725, 'climb': 2726, 'fighter': 2727, 'vega': 2728, 'rocket': 2729, 'wherea': 2730, 'enorm': 2731, 'lust': 2732, 'kurt': 2733, 'thug': 2734, 'luca': 2735, 'unforgett': 2736, 'sensibl': 2737, 'mst3k': 2738, 'dane': 2739, 'spare': 2740, 'dump': 2741, 'meaning': 2742, 'boot': 2743, 'stress': 2744, 'karloff': 2745, 'butt': 2746, 'caricatur': 2747, 'dear': 2748, 'adequ': 2749, 'difficulti': 2750, 'brand': 2751, 'fifti': 2752, 'engin': 2753, 'threat': 2754, 'rap': 2755, 'arnold': 2756, 'bobbi': 2757, 'ralph': 2758, 'secretari': 2759, 'polish': 2760, 'swing': 2761, 'barri': 2762, 'hamlet': 2763, 'arrog': 2764, 'homeless': 2765, 'fest': 2766, 'elabor': 2767, 'ego': 2768, 'journalist': 2769, 'flynn': 2770, 'puppet': 2771, 'unbear': 2772, 'grate': 2773, 'arrang': 2774, 'conspiraci': 2775, 'induc': 2776, 'float': 2777, 'tool': 2778, 'resort': 2779, 'fanci': 2780, 'simpson': 2781, 'spike': 2782, 'tribut': 2783, 'guilt': 2784, 'basement': 2785, 'pig': 2786, 'exercis': 2787, 'choreograph': 2788, 'phillip': 2789, 'boll': 2790, 'cruis': 2791, 'muppet': 2792, 'ham': 2793, 'slip': 2794, 'item': 2795, 'tower': 2796, 'editor': 2797, 'puzzl': 2798, 'document': 2799, 'toilet': 2800, 'file': 2801, 'fianc': 2802, 'babe': 2803, 'medium': 2804, 'ward': 2805, 'stan': 2806, 'korean': 2807, 'layer': 2808, '24': 2809, 'scarecrow': 2810, 'catherin': 2811, 'librari': 2812, 'spark': 2813, 'inexplic': 2814, 'orient': 2815, 'doc': 2816, 'assur': 2817, 'portion': 2818, 'territori': 2819, 'persona': 2820, 'superfici': 2821, 'minim': 2822, 'larger': 2823, 'philosoph': 2824, 'transit': 2825, 'slaughter': 2826, 'denzel': 2827, 'glover': 2828, 'walken': 2829, 'wolf': 2830, 'jeremi': 2831, 'ban': 2832, 'financi': 2833, 'sneak': 2834, 'curti': 2835, 'pg': 2836, 'boredom': 2837, 'dorothi': 2838, 'owe': 2839, 'shi': 2840, 'jet': 2841, 'metaphor': 2842, 'ambigu': 2843, 'whale': 2844, 'cusack': 2845, 'eleph': 2846, 'backdrop': 2847, 'hudson': 2848, 'profound': 2849, 'multi': 2850, 'birthday': 2851, 'ultra': 2852, 'elsewher': 2853, 'stiff': 2854, 'notion': 2855, 'hack': 2856, '2005': 2857, 'viru': 2858, 'gadget': 2859, 'implaus': 2860, 'rave': 2861, 'union': 2862, 'lloyd': 2863, 'bibl': 2864, 'newspap': 2865, 'eva': 2866, 'pad': 2867, 'deriv': 2868, 'reader': 2869, '1st': 2870, 'afford': 2871, 'slight': 2872, 'distanc': 2873, 'canada': 2874, 'urg': 2875, 'disc': 2876, 'superhero': 2877, 'poison': 2878, 'squar': 2879, 'eastwood': 2880, 'hawk': 2881, 'sadist': 2882, 'drown': 2883, 'skit': 2884, 'charisma': 2885, 'button': 2886, 'montag': 2887, 'heston': 2888, 'restaur': 2889, 'health': 2890, 'cure': 2891, 'essenc': 2892, 'spread': 2893, 'huh': 2894, 'godfath': 2895, 'gradual': 2896, 'muslim': 2897, 'maniac': 2898, 'lab': 2899, 'dealt': 2900, 'invest': 2901, 'peak': 2902, 'fetch': 2903, 'estat': 2904, 'companion': 2905, 'scoobi': 2906, 'ritter': 2907, 'alli': 2908, 'servant': 2909, 'tea': 2910, 'cup': 2911, 'miik': 2912, 'subtleti': 2913, 'kane': 2914, 'gothic': 2915, 'countless': 2916, 'salli': 2917, 'charismat': 2918, 'heroic': 2919, 'elect': 2920, 'electr': 2921, 'briefli': 2922, 'iii': 2923, 'resourc': 2924, 'reel': 2925, 'grandmoth': 2926, 'ingredi': 2927, 'admittedli': 2928, 'cole': 2929, 'wannab': 2930, 'nuanc': 2931, 'toss': 2932, 'bud': 2933, 'tender': 2934, 'neil': 2935, 'pit': 2936, 'stronger': 2937, 'kubrick': 2938, 'mild': 2939, 'shall': 2940, 'mafia': 2941, 'dawson': 2942, 'gate': 2943, 'pauli': 2944, 'label': 2945, 'stood': 2946, 'punk': 2947, 'reev': 2948, 'carrey': 2949, 'poverti': 2950, 'cardboard': 2951, 'easier': 2952, 'ian': 2953, 'assault': 2954, 'fond': 2955, 'updat': 2956, 'bakshi': 2957, 'smooth': 2958, 'tag': 2959, 'smash': 2960, 'useless': 2961, 'cox': 2962, 'terri': 2963, 'burst': 2964, 'outcom': 2965, 'astair': 2966, 'fist': 2967, 'resolv': 2968, 'divers': 2969, 'vari': 2970, 'sketch': 2971, 'qualifi': 2972, 'exchang': 2973, 'melodramat': 2974, 'coincid': 2975, 'vulner': 2976, 'increasingli': 2977, '2002': 2978, 'samurai': 2979, 'rex': 2980, 'blast': 2981, 'insert': 2982, 'luckili': 2983, 'be': 2984, 'templ': 2985, 'tame': 2986, 'conveni': 2987, 'scratch': 2988, 'brillianc': 2989, 'reynold': 2990, 'suspend': 2991, 'nuclear': 2992, 'ambiti': 2993, 'farm': 2994, 'gotta': 2995, 'pin': 2996, 'seventi': 2997, 'strictli': 2998, 'jami': 2999, 'coach': 3000, 'matthew': 3001, 'fisher': 3002, 'walker': 3003, 'meat': 3004, 'soprano': 3005, 'hamilton': 3006, 'grasp': 3007, 'clock': 3008, 'butcher': 3009, 'instantli': 3010, 'closet': 3011, 'revers': 3012, 'struck': 3013, 'kudo': 3014, 'joey': 3015, 'spooki': 3016, 'worthless': 3017, 'convolut': 3018, 'brosnan': 3019, 'empir': 3020, 'timeless': 3021, 'monk': 3022, 'recreat': 3023, 'ninja': 3024, 'eccentr': 3025, 'discoveri': 3026, 'cave': 3027, 'fifteen': 3028, 'bleak': 3029, 'eighti': 3030, 'pal': 3031, 'sloppi': 3032, 'importantli': 3033, 'evok': 3034, 'cliff': 3035, 'selfish': 3036, 'mitchel': 3037, 'declar': 3038, 'miracl': 3039, 'norman': 3040, 'clown': 3041, 'gray': 3042, 'inconsist': 3043, 'partli': 3044, 'wipe': 3045, 'sidekick': 3046, 'seller': 3047, 'communist': 3048, 'australia': 3049, 'farc': 3050, 'enthusiast': 3051, 'cheek': 3052, 'flawless': 3053, 'aforement': 3054, 'seed': 3055, 'lifestyl': 3056, 'websit': 3057, 'superbl': 3058, 'chew': 3059, 'ho': 3060, 'psychiatrist': 3061, 'debat': 3062, 'piano': 3063, 'destin': 3064, '45': 3065, 'stoog': 3066, 'splatter': 3067, 'pressur': 3068, 'regardless': 3069, 'wick': 3070, 'drivel': 3071, 'directori': 3072, 'slice': 3073, 'bash': 3074, 'dash': 3075, 'soviet': 3076, 'incompet': 3077, 'akshay': 3078, 'wrestl': 3079, 'anni': 3080, 'emili': 3081, 'abc': 3082, 'kitchen': 3083, 'dire': 3084, 'cagney': 3085, 'jar': 3086, 'flower': 3087, 'chapter': 3088, 'curios': 3089, 'glow': 3090, 'boil': 3091, 'prize': 3092, 'increas': 3093, 'duo': 3094, 'pleasantli': 3095, 'beaten': 3096, 'cameron': 3097, 'recov': 3098, 'distant': 3099, 'artifici': 3100, 'helicopt': 3101, 'suppli': 3102, 'seduc': 3103, 'lou': 3104, 'doo': 3105, 'cia': 3106, 'ken': 3107, 'blob': 3108, 'judi': 3109, 'mann': 3110, 'dave': 3111, 'favour': 3112, 'ellen': 3113, 'splendid': 3114, 'panic': 3115, 'eleg': 3116, 'glenn': 3117, 'craig': 3118, 'goldberg': 3119, 'hop': 3120, 'laurel': 3121, 'web': 3122, 'drunken': 3123, 'combat': 3124, 'turner': 3125, 'psychot': 3126, 'francisco': 3127, 'craven': 3128, 'ranger': 3129, 'perri': 3130, 'slightest': 3131, 'ruth': 3132, 'falk': 3133, 'gentl': 3134, 'plausibl': 3135, 'greek': 3136, 'shortli': 3137, 'hatr': 3138, 'flip': 3139, 'min': 3140, 'philosophi': 3141, 'gandhi': 3142, 'fx': 3143, 'rid': 3144, 'wizard': 3145, '20th': 3146, 'graduat': 3147, 'modesti': 3148, 'alexand': 3149, 'unpleas': 3150, 'manhattan': 3151, 'ocean': 3152, 'knight': 3153, 'holi': 3154, 'legal': 3155, 'dracula': 3156, 'felix': 3157, 'jealou': 3158, 'tall': 3159, 'harm': 3160, 'lend': 3161, 'preciou': 3162, 'futurist': 3163, 'we': 3164, 'fund': 3165, 'overdon': 3166, 'childish': 3167, 'mock': 3168, 'bless': 3169, 'forbidden': 3170, 'thread': 3171, 'nod': 3172, 'reviv': 3173, 'scientif': 3174, 'digniti': 3175, 'tank': 3176, 'ami': 3177, 'explicit': 3178, 'giallo': 3179, 'mel': 3180, 'broad': 3181, 'yesterday': 3182, 'nerv': 3183, '99': 3184, 'fever': 3185, 'awaken': 3186, 'unwatch': 3187, 'eve': 3188, 'thick': 3189, '2004': 3190, 'repeatedli': 3191, 'torment': 3192, 'elderli': 3193, 'pirat': 3194, 'awe': 3195, 'margaret': 3196, 'verhoeven': 3197, 'lean': 3198, 'absenc': 3199, 'stiller': 3200, 'launch': 3201, 'automat': 3202, 'griffith': 3203, 'bin': 3204, 'uniform': 3205, 'ambit': 3206, 'publish': 3207, 'timothi': 3208, 'rivet': 3209, 'romero': 3210, 'custom': 3211, 'ah': 3212, 'royal': 3213, 'roman': 3214, 'politician': 3215, 'eas': 3216, 'acclaim': 3217, 'kay': 3218, 'pulp': 3219, 'bathroom': 3220, 'stinker': 3221, 'warren': 3222, 'phrase': 3223, 'darker': 3224, 'termin': 3225, 'wallac': 3226, 'pierc': 3227, 'antic': 3228, 'foul': 3229, 'homicid': 3230, 'crook': 3231, 'transport': 3232, 'sunshin': 3233, 'gabriel': 3234, 'purpl': 3235, 'tomato': 3236, 'awak': 3237, 'brazil': 3238, 'eyr': 3239, 'juvenil': 3240, 'saint': 3241, 'pray': 3242, 'viciou': 3243, '2003': 3244, 'contrari': 3245, 'karen': 3246, 'sixti': 3247, 'album': 3248, 'evolv': 3249, 'prom': 3250, 'packag': 3251, 'hollow': 3252, 'horrid': 3253, 'q': 3254, 'kenneth': 3255, 'marin': 3256, 'li': 3257, 'rambo': 3258, 'ought': 3259, 'revolutionari': 3260, 'choreographi': 3261, 'donna': 3262, 'coloni': 3263, 'twelv': 3264, 'defi': 3265, 'dose': 3266, 'boast': 3267, 'beatti': 3268, 'blade': 3269, 'stole': 3270, 'ireland': 3271, 'mummi': 3272, 'ramon': 3273, 'overr': 3274, 'candid': 3275, 'option': 3276, 'mildr': 3277, 'kapoor': 3278, 'conserv': 3279, 'nerd': 3280, 'trio': 3281, 'natali': 3282, 'funer': 3283, 'astonish': 3284, 'detract': 3285, 'confirm': 3286, 'flame': 3287, 'jazz': 3288, 'fulci': 3289, 'altman': 3290, 'global': 3291, 'kirk': 3292, 'collabor': 3293, 'protest': 3294, 'nicholson': 3295, 'delici': 3296, 'bottl': 3297, 'mystic': 3298, 'shade': 3299, 'leap': 3300, 'tommi': 3301, 'whip': 3302, 'spit': 3303, 'destini': 3304, 'racial': 3305, 'blake': 3306, 'audio': 3307, 'enterpris': 3308, 'yellow': 3309, 'bull': 3310, 'todd': 3311, 'popcorn': 3312, 'enchant': 3313, 'meaningless': 3314, 'threw': 3315, 'reunit': 3316, 'staff': 3317, 'visibl': 3318, 'harder': 3319, 'bedroom': 3320, 'swedish': 3321, 'inherit': 3322, 'altogeth': 3323, 'merci': 3324, 'pseudo': 3325, 'neo': 3326, 'adolesc': 3327, 'fonda': 3328, 'vivid': 3329, 'crocodil': 3330, 'lemmon': 3331, 'tip': 3332, 'madonna': 3333, 'exhibit': 3334, 'uneven': 3335, 'suspici': 3336, 'jew': 3337, 'moodi': 3338, 'lawrenc': 3339, 'leonard': 3340, 'fanat': 3341, 'atlanti': 3342, 'await': 3343, 'decor': 3344, 'kennedi': 3345, 'synopsi': 3346, 'befriend': 3347, 'ruthless': 3348, 'respond': 3349, 'reserv': 3350, 'wire': 3351, 'bust': 3352, 'roommat': 3353, 'edi': 3354, 'voight': 3355, 'bold': 3356, 'carl': 3357, 'voyag': 3358, 'incident': 3359, 'bargain': 3360, 'ventur': 3361, 'unsettl': 3362, '2007': 3363, 'clumsi': 3364, 'audit': 3365, 'palma': 3366, 'bradi': 3367, 'centr': 3368, 'rural': 3369, 'abysm': 3370, 'chao': 3371, 'clint': 3372, 'garner': 3373, 'holli': 3374, 'dimens': 3375, 'cuba': 3376, 'echo': 3377, 'poetic': 3378, 'humili': 3379, 'acknowledg': 3380, 'cari': 3381, 'daddi': 3382, '2nd': 3383, 'versu': 3384, 'nearbi': 3385, 'lit': 3386, 'ant': 3387, 'tiger': 3388, 'cd': 3389, 'characterist': 3390, 'hart': 3391, 'mall': 3392, 'immigr': 3393, 'elimin': 3394, 'wealth': 3395, 'trail': 3396, 'neglect': 3397, 'troop': 3398, 'imperson': 3399, 'timon': 3400, 'mickey': 3401, 'solo': 3402, 'celluloid': 3403, 'marshal': 3404, 'pun': 3405, 'paus': 3406, 'prejudic': 3407, 'repuls': 3408, 'domest': 3409, 'collaps': 3410, 'mistaken': 3411, 'jeffrey': 3412, 'homer': 3413, 'infect': 3414, 'saga': 3415, 'milk': 3416, 'harvey': 3417, 'chest': 3418, 'inan': 3419, 'interrupt': 3420, 'promin': 3421, 'sore': 3422, 'coat': 3423, 'apolog': 3424, 'undoubtedli': 3425, 'cake': 3426, 'tribe': 3427, 'olivi': 3428, '1996': 3429, 'coffe': 3430, 'inappropri': 3431, 'equip': 3432, 'assembl': 3433, 'ginger': 3434, 'hbo': 3435, 'gear': 3436, 'pant': 3437, 'leon': 3438, 'aveng': 3439, 'florida': 3440, 'institut': 3441, 'trace': 3442, 'solut': 3443, 'retain': 3444, 'humbl': 3445, 'maggi': 3446, 'polanski': 3447, 'vulgar': 3448, 'exot': 3449, 'pen': 3450, 'embrac': 3451, 'devast': 3452, 'highest': 3453, 'airplan': 3454, 'brooklyn': 3455, 'consum': 3456, 'furthermor': 3457, 'instant': 3458, 'colleagu': 3459, 'primari': 3460, 'pot': 3461, 'jenni': 3462, 'colonel': 3463, 'wive': 3464, 'sale': 3465, 'seduct': 3466, 'ya': 3467, 'disabl': 3468, 'dian': 3469, 'strain': 3470, 'poke': 3471, 'rick': 3472, 'linda': 3473, '3rd': 3474, 'illog': 3475, 'gender': 3476, 'outer': 3477, 'principl': 3478, 'dutch': 3479, 'smaller': 3480, 'descend': 3481, '1999': 3482, 'cope': 3483, 'godzilla': 3484, 'bowl': 3485, 'dive': 3486, 'glamor': 3487, 'gloriou': 3488, 'primarili': 3489, 'bubbl': 3490, 'beneath': 3491, 'vast': 3492, 'yard': 3493, 'mixtur': 3494, 'cue': 3495, 'predecessor': 3496, 'blatant': 3497, 'rabbit': 3498, 'devoid': 3499, 'secondli': 3500, 'lol': 3501, 'dud': 3502, 'inferior': 3503, 'scope': 3504, 'hal': 3505, 'gundam': 3506, 'domino': 3507, 'breed': 3508, 'simplist': 3509, 'alert': 3510, 'shelf': 3511, 'senseless': 3512, 'garbo': 3513, 'disjoint': 3514, 'pearl': 3515, 'museum': 3516, 'hideou': 3517, 'alfr': 3518, 'z': 3519, 'aggress': 3520, 'april': 3521, 'myer': 3522, 'shirley': 3523, 'talki': 3524, 'et': 3525, 'invas': 3526, 'trademark': 3527, 'casual': 3528, 'grinch': 3529, 'countrysid': 3530, 'streep': 3531, 'arab': 3532, 'maci': 3533, 'mail': 3534, 'defens': 3535, 'stir': 3536, 'stellar': 3537, 'hardcor': 3538, 'khan': 3539, 'acid': 3540, 'sh': 3541, 'robberi': 3542, 'loyal': 3543, 'vanish': 3544, 'unhappi': 3545, 'applaud': 3546, 'uwe': 3547, 'obtain': 3548, 'stack': 3549, 'disgrac': 3550, 'robinson': 3551, 'boom': 3552, 'hopeless': 3553, 'experiment': 3554, 'mayor': 3555, 'oz': 3556, 'illeg': 3557, 'rendit': 3558, 'slide': 3559, 'amanda': 3560, 'declin': 3561, 'incomprehens': 3562, 'diana': 3563, 'wont': 3564, 'soccer': 3565, 'fri': 3566, 'rifl': 3567, 'grandfath': 3568, 'spider': 3569, 'counter': 3570, 'tempt': 3571, 'craze': 3572, 'recruit': 3573, 'span': 3574, 'emphasi': 3575, 'tenant': 3576, 'berlin': 3577, 'psychic': 3578, 'blew': 3579, 'dicken': 3580, 'topless': 3581, 'scroog': 3582, 'hartley': 3583, 'dismiss': 3584, 'faster': 3585, 'parad': 3586, 'niro': 3587, 'porno': 3588, 'sympath': 3589, 'goer': 3590, 'shed': 3591, 'riot': 3592, 'justin': 3593, 'woo': 3594, 'ration': 3595, 'bitch': 3596, 'resurrect': 3597, 'shaw': 3598, 'wet': 3599, 'intim': 3600, 'ethnic': 3601, 'trashi': 3602, 'lumet': 3603, 'revolt': 3604, 'sibl': 3605, 'ensur': 3606, 'choru': 3607, 'wheel': 3608, 'patriot': 3609, 'farmer': 3610, 'weakest': 3611, 'slick': 3612, 'region': 3613, '00': 3614, 'partial': 3615, 'dealer': 3616, 'eager': 3617, 'unreal': 3618, 'jonathan': 3619, 'steam': 3620, 'mario': 3621, 'honesti': 3622, 'hesit': 3623, 'biographi': 3624, 'worm': 3625, 'ballet': 3626, 'gap': 3627, 'enlighten': 3628, 'andr': 3629, 'hopper': 3630, 'nephew': 3631, 'wendi': 3632, 'commend': 3633, 'rider': 3634, 'feminist': 3635, 'immort': 3636, 'lena': 3637, 'charlott': 3638, 'sandra': 3639, 'leo': 3640, 'sappi': 3641, 'similarli': 3642, 'snap': 3643, 'mutant': 3644, 'nostalg': 3645, 'wore': 3646, 'hung': 3647, 'composit': 3648, 'repress': 3649, 'morri': 3650, 'confin': 3651, 'util': 3652, 'properti': 3653, 'vice': 3654, 'kingdom': 3655, 'franco': 3656, 'safeti': 3657, 'victori': 3658, 'psychopath': 3659, 'owen': 3660, 'prequel': 3661, 'blunt': 3662, 'skull': 3663, 'macarthur': 3664, 'bonu': 3665, 'tail': 3666, 'miseri': 3667, 'campbel': 3668, '1972': 3669, 'rocki': 3670, 'dalton': 3671, 'montana': 3672, 'strand': 3673, 'latin': 3674, 'cg': 3675, 'emperor': 3676, 'valuabl': 3677, 'nervou': 3678, 'bergman': 3679, 'rope': 3680, 'farrel': 3681, 'tad': 3682, 'bumbl': 3683, 'repli': 3684, 'rambl': 3685, 'hyde': 3686, 'dust': 3687, 'despair': 3688, 'bow': 3689, 'kyle': 3690, 'compass': 3691, 'del': 3692, 'recycl': 3693, 'drain': 3694, 'heartbreak': 3695, 'snl': 3696, 'drum': 3697, 'pattern': 3698, 'acquir': 3699, 'speci': 3700, 'exit': 3701, 'compens': 3702, 'whoopi': 3703, 'thru': 3704, 'deed': 3705, 'mistress': 3706, 'bleed': 3707, 'roth': 3708, 'contempl': 3709, 'pour': 3710, 'tonight': 3711, 'wacki': 3712, 'oppress': 3713, 'gimmick': 3714, 'radic': 3715, 'da': 3716, 'olli': 3717, '35': 3718, 'slug': 3719, 'romp': 3720, 'orson': 3721, 'downhil': 3722, 'rotten': 3723, 'chess': 3724, 'carradin': 3725, 'rapist': 3726, 'martian': 3727, 'gal': 3728, 'airport': 3729, 'percept': 3730, 'edgar': 3731, 'slash': 3732, 'pervers': 3733, 'arguabl': 3734, 'pursuit': 3735, 'banal': 3736, 'taught': 3737, 'belt': 3738, 'dazzl': 3739, 'unpredict': 3740, 'paltrow': 3741, 'attorney': 3742, 'melodi': 3743, 'arc': 3744, 'preach': 3745, 'pervert': 3746, 'mislead': 3747, 'programm': 3748, '1983': 3749, 'champion': 3750, 'heal': 3751, 'tackl': 3752, 'stilt': 3753, 'shelley': 3754, 'tooth': 3755, 'rubi': 3756, 'tiresom': 3757, 'plight': 3758, 'cleverli': 3759, 'dixon': 3760, 'gambl': 3761, 'marti': 3762, 'employe': 3763, 'graham': 3764, 'orang': 3765, 'mesmer': 3766, 'sensat': 3767, 'poem': 3768, 'vengeanc': 3769, 'bela': 3770, 'virginia': 3771, 'raymond': 3772, 'uplift': 3773, 'closest': 3774, 'maid': 3775, 'duval': 3776, 'passeng': 3777, 'chicken': 3778, 'franki': 3779, 'vocal': 3780, 'conneri': 3781, 'calm': 3782, 'numb': 3783, 'engross': 3784, 'amitabh': 3785, 'volum': 3786, 'mute': 3787, 'clone': 3788, 'paranoia': 3789, 'iran': 3790, 'outing': 3791, 'inject': 3792, 'extens': 3793, 'bay': 3794, 'whine': 3795, 'suffic': 3796, 'monologu': 3797, 'quarter': 3798, 'sirk': 3799, 'tube': 3800, 'climact': 3801, '1968': 3802, 'giggl': 3803, 'secretli': 3804, 'crystal': 3805, 'lundgren': 3806, 'profan': 3807, 'yawn': 3808, 'abraham': 3809, 'gerard': 3810, 'swallow': 3811, 'convincingli': 3812, 'scottish': 3813, 'habit': 3814, 'pokemon': 3815, 'surpass': 3816, 'plod': 3817, 'underst': 3818, 'trend': 3819, 'backward': 3820, 'expand': 3821, 'dispos': 3822, 'earl': 3823, 'abort': 3824, 'meander': 3825, 'poetri': 3826, 'fed': 3827, 'profess': 3828, 'austen': 3829, 'im': 3830, 'grotesqu': 3831, 'franci': 3832, 'linger': 3833, 'lowest': 3834, 'chicago': 3835, 'ethan': 3836, 'septemb': 3837, 'junior': 3838, 'richardson': 3839, 'taxi': 3840, 'nichola': 3841, 'frankenstein': 3842, 'bend': 3843, 'spock': 3844, 'household': 3845, 'econom': 3846, 'sue': 3847, 'hum': 3848, 'mundan': 3849, 'waitress': 3850, 'tourist': 3851, 'dysfunct': 3852, 'simplic': 3853, 'lure': 3854, 'spoke': 3855, 'muddl': 3856, 'greedi': 3857, 'catchi': 3858, 'literatur': 3859, 'myth': 3860, 'eugen': 3861, 'nostalgia': 3862, 'rubber': 3863, 'compliment': 3864, 'descent': 3865, 'der': 3866, 'stallon': 3867, 'rant': 3868, 'instrument': 3869, 'cannon': 3870, 'alongsid': 3871, 'occupi': 3872, 'carel': 3873, 'insur': 3874, 'stale': 3875, 'hello': 3876, 'eaten': 3877, 'cent': 3878, 'duck': 3879, 'recognis': 3880, 'recognit': 3881, 'dement': 3882, 'mankind': 3883, 'phantom': 3884, 'damon': 3885, 'bacal': 3886, 'irrelev': 3887, 'coast': 3888, 'molli': 3889, 'furi': 3890, 'lang': 3891, 'phoni': 3892, 'map': 3893, 'firstli': 3894, 'louis': 3895, 'mortal': 3896, 'sissi': 3897, 'dictat': 3898, 'equival': 3899, 'omen': 3900, 'deaf': 3901, 'randi': 3902, 'crucial': 3903, 'flee': 3904, 'june': 3905, 'likewis': 3906, 'bump': 3907, 'drake': 3908, 'bike': 3909, 'daisi': 3910, 'freez': 3911, 'newli': 3912, 'loyalti': 3913, 'labor': 3914, 'twilight': 3915, 'distinguish': 3916, 'heel': 3917, 'rude': 3918, 'dreari': 3919, 'antwon': 3920, 'lengthi': 3921, 'blackmail': 3922, 'rooney': 3923, 'ashley': 3924, 'grayson': 3925, 'damm': 3926, 'reign': 3927, 'wisdom': 3928, '1973': 3929, 'onlin': 3930, 'buffalo': 3931, 'cyborg': 3932, 'biko': 3933, 'sailor': 3934, 'nineti': 3935, 'exposur': 3936, 'approv': 3937, 'attribut': 3938, 'tunnel': 3939, 'chronicl': 3940, 'analysi': 3941, 'incorpor': 3942, 'ridden': 3943, 'interior': 3944, 'vein': 3945, 'worn': 3946, 'unorigin': 3947, 'proce': 3948, 'pink': 3949, 'butler': 3950, 'baddi': 3951, 'startl': 3952, 'boxer': 3953, 'prey': 3954, 'keith': 3955, 'provoc': 3956, 'emphas': 3957, 'inher': 3958, 'basketbal': 3959, 'barrymor': 3960, 'walsh': 3961, 'unrel': 3962, 'improvis': 3963, 'mormon': 3964, 'er': 3965, 'meg': 3966, 'barrel': 3967, 'stalker': 3968, 'julian': 3969, 'condemn': 3970, 'indiffer': 3971, 'substitut': 3972, 'othello': 3973, 'millionair': 3974, 'belushi': 3975, 'drift': 3976, 'underli': 3977, 'degrad': 3978, 'undeni': 3979, 'bunni': 3980, 'simmon': 3981, 'mighti': 3982, 'nicol': 3983, 'predat': 3984, 'meyer': 3985, 'carla': 3986, 'elm': 3987, 'hypnot': 3988, 'fleet': 3989, 'robbin': 3990, 'hay': 3991, 'mtv': 3992, 'novak': 3993, 'rukh': 3994, 'unawar': 3995, 'lampoon': 3996, 'palac': 3997, 'vital': 3998, 'edgi': 3999, 'greed': 4000, 'alarm': 4001, 'roof': 4002, 'alison': 4003, 'firm': 4004, 'disord': 4005, 'reid': 4006, 'enthusiasm': 4007, 'exquisit': 4008, 'warmth': 4009, 'watson': 4010, 'dolph': 4011, 'errol': 4012, 'agenda': 4013, 'nyc': 4014, 'priceless': 4015, '3d': 4016, 'marion': 4017, 'shove': 4018, 'minimum': 4019, '1933': 4020, 'testament': 4021, 'ponder': 4022, 'cassidi': 4023, 'sergeant': 4024, 'beatl': 4025, 'campaign': 4026, 'drip': 4027, 'petti': 4028, 'preserv': 4029, 'profit': 4030, 'session': 4031, 'coup': 4032, 'what': 4033, 'spain': 4034, '13th': 4035, 'randomli': 4036, 'gestur': 4037, 'distort': 4038, 'crown': 4039, 'peck': 4040, 'thompson': 4041, 'peril': 4042, 'championship': 4043, 'eastern': 4044, 'israel': 4045, 'angela': 4046, 'simultan': 4047, 'glanc': 4048, 'unleash': 4049, 'nun': 4050, 'showdown': 4051, 'valentin': 4052, 'pamela': 4053, 'iraq': 4054, 'orlean': 4055, 'zizek': 4056, 'bro': 4057, 'wig': 4058, 'cream': 4059, 'realm': 4060, 'climat': 4061, 'restrain': 4062, 'empathi': 4063, 'travesti': 4064, 'reson': 4065, 'rout': 4066, 'crow': 4067, 'exposit': 4068, '1984': 4069, 'stroke': 4070, 'sabrina': 4071, 'represent': 4072, 'unimagin': 4073, 'perpetu': 4074, 'contradict': 4075, 'scotland': 4076, 'crawl': 4077, 'brenda': 4078, 'miyazaki': 4079, 'cooki': 4080, 'buster': 4081, 'kurosawa': 4082, 'quinn': 4083, 'regist': 4084, 'fido': 4085, 'valley': 4086, 'han': 4087, 'stake': 4088, 'calib': 4089, 'shootout': 4090, 'jan': 4091, 'mon': 4092, 'gentleman': 4093, 'din': 4094, 'sammi': 4095, 'josh': 4096, 'absent': 4097, 'businessman': 4098, 'derang': 4099, 'tacki': 4100, 'monoton': 4101, 'geek': 4102, '1997': 4103, 'demis': 4104, 'passabl': 4105, 'warrant': 4106, 'dana': 4107, 'delic': 4108, '1987': 4109, 'abomin': 4110, 'wax': 4111, 'femm': 4112, 'cloud': 4113, 'traumat': 4114, 'sucker': 4115, 'perceiv': 4116, 'pretens': 4117, 'distress': 4118, 'painter': 4119, 'ross': 4120, 'shaki': 4121, 'compromis': 4122, 'ustinov': 4123, 'pole': 4124, 'censor': 4125, 'spacey': 4126, 'unsatisfi': 4127, 'darren': 4128, 'unseen': 4129, 'greg': 4130, 'shoddi': 4131, 'stargat': 4132, 'fuller': 4133, 'meryl': 4134, 'mclaglen': 4135, 'baldwin': 4136, 'soderbergh': 4137, 'crawford': 4138, 'fenc': 4139, 'uncov': 4140, 'fog': 4141, 'anchor': 4142, 'accuraci': 4143, 'primit': 4144, 'kumar': 4145, 'jewel': 4146, 'austin': 4147, 'norm': 4148, 'exclus': 4149, 'correctli': 4150, 'valid': 4151, 'tarantino': 4152, 'wholli': 4153, 'deceas': 4154, 'clash': 4155, 'click': 4156, 'reluct': 4157, 'seal': 4158, 'sid': 4159, 'deniro': 4160, '1993': 4161, 'expedit': 4162, 'tech': 4163, 'judgment': 4164, 'furiou': 4165, 'verbal': 4166, 'antonioni': 4167, 'nathan': 4168, 'polici': 4169, 'dee': 4170, 'unravel': 4171, 'sheet': 4172, 'shanghai': 4173, 'conduct': 4174, 'clerk': 4175, 'trait': 4176, 'debt': 4177, 'pocket': 4178, 'malon': 4179, 'roller': 4180, 'sustain': 4181, 'seldom': 4182, 'joel': 4183, 'ritual': 4184, 'tax': 4185, '1971': 4186, 'wang': 4187, '1995': 4188, 'dreck': 4189, 'fart': 4190, 'murray': 4191, 'sand': 4192, 'mode': 4193, 'logan': 4194, 'bake': 4195, 'patienc': 4196, 'fabric': 4197, 'unfair': 4198, 'slam': 4199, 'hallucin': 4200, 'temper': 4201, 'enforc': 4202, 'sunni': 4203, 'fought': 4204, 'alec': 4205, 'vanc': 4206, '2008': 4207, 'wretch': 4208, 'behold': 4209, '3000': 4210, 'nicola': 4211, 'darn': 4212, 'crippl': 4213, 'outlin': 4214, 'technicolor': 4215, 'runner': 4216, 'tactic': 4217, 'bias': 4218, 'exhaust': 4219, 'canyon': 4220, 'scriptwrit': 4221, 'shell': 4222, 'grief': 4223, 'isabel': 4224, 'helpless': 4225, 'clau': 4226, 'stuart': 4227, 'sweep': 4228, 'guitar': 4229, 'stark': 4230, 'critiqu': 4231, 'pete': 4232, 'preposter': 4233, 'fundament': 4234, 'conscious': 4235, 'despis': 4236, 'penni': 4237, 'squad': 4238, 'divid': 4239, 'legaci': 4240, 'bridget': 4241, 'schedul': 4242, 'soup': 4243, 'rita': 4244, 'robber': 4245, 'phil': 4246, 'preston': 4247, 'passag': 4248, 'drove': 4249, 'jodi': 4250, 'consciou': 4251, 'rehash': 4252, 'implic': 4253, 'delv': 4254, 'unexpectedli': 4255, 'marc': 4256, 'liberti': 4257, 'restrict': 4258, 'sugar': 4259, 'alley': 4260, 'lacklust': 4261, 'boyl': 4262, 'invad': 4263, 'russia': 4264, 'palanc': 4265, 'gregori': 4266, 'flair': 4267, 'sniper': 4268, 'bloom': 4269, 'propos': 4270, 'alicia': 4271, 'sentinel': 4272, 'rear': 4273, 'vomit': 4274, 'cigarett': 4275, 'culmin': 4276, 'jacket': 4277, 'connor': 4278, 'newman': 4279, 'kansa': 4280, 'inabl': 4281, 'agenc': 4282, 'downey': 4283, 'rampag': 4284, 'bacon': 4285, 'feat': 4286, 'wrench': 4287, 'karl': 4288, '1936': 4289, '22': 4290, 'tripe': 4291, 'ladder': 4292, 'lush': 4293, 'chainsaw': 4294, 'horn': 4295, 'cap': 4296, 'behaviour': 4297, 'delet': 4298, 'yeti': 4299, 'improb': 4300, 'tendenc': 4301, 'aesthet': 4302, 'mccoy': 4303, 'awhil': 4304, 'rehears': 4305, 'sharon': 4306, 'kolchak': 4307, 'asylum': 4308, 'vet': 4309, 'foxx': 4310, 'pale': 4311, 'rod': 4312, 'arrow': 4313, 'conscienc': 4314, 'basing': 4315, '1920': 4316, 'stream': 4317, 'rhythm': 4318, 'shortcom': 4319, 'wildli': 4320, 'coaster': 4321, 'newcom': 4322, 'wagner': 4323, 'hackney': 4324, 'financ': 4325, 'amazon': 4326, 'tomorrow': 4327, 'filler': 4328, '19th': 4329, 'sung': 4330, 'scoop': 4331, 'minu': 4332, 'hungri': 4333, 'elit': 4334, 'loneli': 4335, 'suspicion': 4336, 'globe': 4337, 'visitor': 4338, 'hulk': 4339, '1988': 4340, 'fright': 4341, 'paradis': 4342, 'prank': 4343, 'weav': 4344, 'suffici': 4345, 'rumor': 4346, 'paramount': 4347, 'tasteless': 4348, 'spice': 4349, '1978': 4350, 'thunderbird': 4351, 'aristocrat': 4352, 'el': 4353, 'underneath': 4354, 'lurk': 4355, 'recogniz': 4356, 'naughti': 4357, 'choppi': 4358, 'lectur': 4359, '75': 4360, '1939': 4361, 'heist': 4362, 'tierney': 4363, 'entranc': 4364, 'grudg': 4365, 'en': 4366, 'impos': 4367, 'abrupt': 4368, 'beverli': 4369, 'curli': 4370, 'chamberlain': 4371, 'secondari': 4372, 'teas': 4373, 'springer': 4374, 'paxton': 4375, 'worship': 4376, 'brit': 4377, 'quietli': 4378, 'literari': 4379, 'ram': 4380, 'standout': 4381, 'couch': 4382, 'smell': 4383, 'immers': 4384, 'penn': 4385, '1989': 4386, 'leigh': 4387, 'rub': 4388, 'minist': 4389, 'hopkin': 4390, 'iv': 4391, 'cancer': 4392, 'posey': 4393, 'straightforward': 4394, 'bread': 4395, 'counterpart': 4396, 'dirt': 4397, 'chavez': 4398, 'inmat': 4399, 'atroc': 4400, 'ingeni': 4401, 'wwe': 4402, 'moreov': 4403, 'injuri': 4404, 'sassi': 4405, 'enthral': 4406, 'entitl': 4407, 'morbid': 4408, 'heartfelt': 4409, 'lindsay': 4410, 'skeptic': 4411, 'bernard': 4412, 'ace': 4413, 'missil': 4414, 'net': 4415, 'yearn': 4416, 'laurenc': 4417, 'geni': 4418, 'esther': 4419, 'variat': 4420, 'attenborough': 4421, 'policeman': 4422, 'quaid': 4423, '1986': 4424, 'transcend': 4425, 'nemesi': 4426, 'clan': 4427, 'nolan': 4428, 'duel': 4429, 'misguid': 4430, 'convert': 4431, 'sublim': 4432, 'cattl': 4433, 'ratso': 4434, 'watcher': 4435, 'enabl': 4436, 'dont': 4437, 'egg': 4438, 'out': 4439, 'kitti': 4440, 'facil': 4441, 'vader': 4442, 'rosemari': 4443, 'reliabl': 4444, 'spiral': 4445, 'hk': 4446, 'puppi': 4447, 'characteris': 4448, 'moder': 4449, 'uncut': 4450, 'setup': 4451, 'hopelessli': 4452, 'unexplain': 4453, 'brood': 4454, 'cruelti': 4455, 'buzz': 4456, 'graini': 4457, 'tyler': 4458, 'mytholog': 4459, 'artsi': 4460, '1979': 4461, 'kidman': 4462, 'obstacl': 4463, 'carlito': 4464, 'bean': 4465, 'poe': 4466, 'youngest': 4467, 'grin': 4468, 'bye': 4469, 'steadi': 4470, 'diari': 4471, 'bewar': 4472, 'oblig': 4473, 'martha': 4474, 'despic': 4475, 'gillian': 4476, 'underworld': 4477, 'acquaint': 4478, 'niec': 4479, 'fuel': 4480, 'disastr': 4481, 'hammi': 4482, 'preming': 4483, 'sweat': 4484, 'weather': 4485, 'bounc': 4486, 'spontan': 4487, 'hain': 4488, 'patricia': 4489, '1969': 4490, 'heap': 4491, 'bronson': 4492, 'decept': 4493, 'gina': 4494, 'christin': 4495, 'narrow': 4496, 'clueless': 4497, 'kline': 4498, 'exterior': 4499, 'athlet': 4500, 'baffl': 4501, 'effici': 4502, 'brendan': 4503, 'dilemma': 4504, 'sleepwalk': 4505, 'uh': 4506, 'preachi': 4507, 'sooner': 4508, 'circu': 4509, 'injur': 4510, 'angst': 4511, 'suprem': 4512, 'hepburn': 4513, 'scar': 4514, 'insipid': 4515, 'mermaid': 4516, 'astound': 4517, 'tick': 4518, 'loath': 4519, 'goof': 4520, 'rome': 4521, 'headach': 4522, '73': 4523, 'analyz': 4524, 'loi': 4525, 'harmless': 4526, 'virtu': 4527, 'biker': 4528, 'viewpoint': 4529, 'fontain': 4530, '19': 4531, 'enlist': 4532, 'shatter': 4533, 'trigger': 4534, 'outlaw': 4535, 'taboo': 4536, 'housewif': 4537, 'candl': 4538, 'lester': 4539, 'dandi': 4540, 'renaiss': 4541, 'mayhem': 4542, 'scorses': 4543, 'redund': 4544, 'steer': 4545, 'dish': 4546, 'bent': 4547, 'macho': 4548, 'sox': 4549, 'fluff': 4550, 'dismal': 4551, 'claustrophob': 4552, 'contempt': 4553, 'zoom': 4554, 'whore': 4555, 'tripl': 4556, 'hooker': 4557, 'camcord': 4558, 'salt': 4559, 'surgeri': 4560, 'hokey': 4561, 'amor': 4562, 'intric': 4563, 'glorifi': 4564, 'stair': 4565, 'overlong': 4566, 'idol': 4567, 'oldest': 4568, 'ebert': 4569, 'filth': 4570, 'phenomenon': 4571, 'immatur': 4572, 'guin': 4573, 'slimi': 4574, 'hostag': 4575, 'foolish': 4576, 'boston': 4577, 'stimul': 4578, 'ariel': 4579, 'spade': 4580, 'cassavet': 4581, 'gere': 4582, 'corbett': 4583, 'mutual': 4584, 'transplant': 4585, 'flashi': 4586, 'strongest': 4587, 'trivia': 4588, 'faint': 4589, 'keen': 4590, 'muscl': 4591, 'messi': 4592, 'proport': 4593, 'cush': 4594, 'mount': 4595, 'margin': 4596, 'perman': 4597, '1976': 4598, 'nolt': 4599, 'corman': 4600, 'radiat': 4601, 'joker': 4602, 'fascist': 4603, 'beard': 4604, 'zane': 4605, 'harold': 4606, 'down': 4607, 'schlock': 4608, 'rhyme': 4609, 'dwarf': 4610, 'shred': 4611, 'assert': 4612, 'naschi': 4613, '1981': 4614, 'spinal': 4615, 'astronaut': 4616, 'spree': 4617, 'shield': 4618, 'conquer': 4619, 'preced': 4620, 'remad': 4621, 'gabl': 4622, 'widescreen': 4623, 'cow': 4624, 'alvin': 4625, 'flirt': 4626, 'antagonist': 4627, 'obligatori': 4628, 'cohen': 4629, 'flag': 4630, 'frantic': 4631, 'gasp': 4632, 'flock': 4633, 'barn': 4634, 'interestingli': 4635, 'divin': 4636, 'archiv': 4637, 'neurot': 4638, 'persuad': 4639, 'hara': 4640, 'bitten': 4641, 'bachelor': 4642, 'danish': 4643, '95': 4644, 'resum': 4645, 'aborigin': 4646, 'scandal': 4647, 'repris': 4648, 'discern': 4649, 'inflict': 4650, 'someday': 4651, 'deer': 4652, 'departur': 4653, 'ritchi': 4654, 'strive': 4655, 'mobil': 4656, 'claud': 4657, 'brush': 4658, 'vaniti': 4659, 'mol': 4660, 'sensual': 4661, 'instruct': 4662, 'info': 4663, 'boob': 4664, '1945': 4665, 'off': 4666, 'wield': 4667, '28': 4668, 'carey': 4669, 'www': 4670, 'fishburn': 4671, 'triangl': 4672, 'raj': 4673, 'rot': 4674, 'hug': 4675, 'ish': 4676, 'jade': 4677, 'prophet': 4678, 'fragil': 4679, 'proclaim': 4680, 'earnest': 4681, 'frontier': 4682, 'colin': 4683, 'vibrant': 4684, 'dim': 4685, 'senior': 4686, 'helm': 4687, 'mobster': 4688, 'cycl': 4689, 'pacif': 4690, 'loretta': 4691, 'melissa': 4692, 'bate': 4693, 'dame': 4694, 'artwork': 4695, 'cb': 4696, 'heartwarm': 4697, 'luka': 4698, 'miracul': 4699, 'dylan': 4700, 'hilar': 4701, 'kathryn': 4702, 'axe': 4703, 'traffic': 4704, 'timberlak': 4705, 'carlo': 4706, 'harrison': 4707, 'pixar': 4708, 'neill': 4709, 'hapless': 4710, 'recit': 4711, 'banter': 4712, 'submit': 4713, 'biblic': 4714, 'casino': 4715, 'cher': 4716, 'cliffhang': 4717, 'anton': 4718, 'parson': 4719, 'undermin': 4720, 'pickford': 4721, 'wendigo': 4722, 'clad': 4723, 'europa': 4724, 'sicken': 4725, 'northern': 4726, 'redneck': 4727, 'shepherd': 4728, 'jordan': 4729, 'holocaust': 4730, 'legitim': 4731, 'misfortun': 4732, 'token': 4733, 'cerebr': 4734, 'electron': 4735, 'rooki': 4736, 'vanessa': 4737, 'wardrob': 4738, 'bikini': 4739, 'blatantli': 4740, 'antholog': 4741, 'trier': 4742, 'akin': 4743, 'aris': 4744, 'seedi': 4745, 'pc': 4746, 'illus': 4747, 'toronto': 4748, 'eli': 4749, 'breakfast': 4750, 'choke': 4751, 'vile': 4752, 'http': 4753, 'bondag': 4754, 'jo': 4755, 'alexandr': 4756, 'venom': 4757, 'feast': 4758, 'estrang': 4759, 'orphan': 4760, 'foil': 4761, 'articl': 4762, 'flavor': 4763, 'nope': 4764, 'static': 4765, 'marlon': 4766, 'mason': 4767, 'mathieu': 4768, 'lui': 4769, 'uma': 4770, 'isra': 4771, 'razor': 4772, 'lucil': 4773, 'winchest': 4774, 'milo': 4775, 'retriev': 4776, 'highway': 4777, 'knightley': 4778, 'boyer': 4779, 'tack': 4780, 'affleck': 4781, 'cartoonish': 4782, 'charlton': 4783, 'clinic': 4784, 'smack': 4785, 'howl': 4786, 'abund': 4787, 'audrey': 4788, 'styliz': 4789, 'peer': 4790, 'magician': 4791, 'ceremoni': 4792, 'dudley': 4793, 'nightclub': 4794, 'feminin': 4795, 'outdat': 4796, 'huston': 4797, 'leather': 4798, 'linear': 4799, 'wrestler': 4800, 'disregard': 4801, 'frog': 4802, 'oppon': 4803, 'psych': 4804, 'comprehend': 4805, 'gilbert': 4806, 'ideolog': 4807, 'swept': 4808, 'turd': 4809, 'shorter': 4810, 'fifth': 4811, 'deem': 4812, 'glare': 4813, 'gunga': 4814, 'energet': 4815, 'whack': 4816, 'monument': 4817, 'corn': 4818, 'breakdown': 4819, 'summar': 4820, 'lavish': 4821, 'braveheart': 4822, 'conrad': 4823, 'collector': 4824, 'greet': 4825, 'potter': 4826, 'spine': 4827, '1994': 4828, 'durat': 4829, 'moe': 4830, 'cuban': 4831, 'lighter': 4832, 'bastard': 4833, '4th': 4834, 'salman': 4835, 'phenomen': 4836, 'client': 4837, 'toe': 4838, 'mitch': 4839, 'snatch': 4840, 'newer': 4841, 'tara': 4842, 'uniformli': 4843, 'evolut': 4844, 'sleaz': 4845, 'bogu': 4846, 'compris': 4847, 'spawn': 4848, 'lifeless': 4849, 'deliver': 4850, 'chip': 4851, 'plate': 4852, 'cemeteri': 4853, 'btw': 4854, 'senat': 4855, 'einstein': 4856, '1991': 4857, 'goldsworthi': 4858, 'boo': 4859, 'constitut': 4860, 'signal': 4861, 'judd': 4862, 'neatli': 4863, 'inaccuraci': 4864, 'bulk': 4865, 'firmli': 4866, 'appl': 4867, 'liu': 4868, 'jedi': 4869, 'belli': 4870, 'jam': 4871, 'alleg': 4872, 'eleven': 4873, 'luxuri': 4874, '1977': 4875, 'occup': 4876, '1974': 4877, 'ie': 4878, 'outright': 4879, 'gilliam': 4880, 'replay': 4881, 'nina': 4882, 'jule': 4883, 'undertak': 4884, 'cecil': 4885, 'historian': 4886, 'randolph': 4887, 'kent': 4888, 'sorrow': 4889, 'creek': 4890, 'jare': 4891, 'fluid': 4892, 'ol': 4893, 'undead': 4894, 'healthi': 4895, 'evelyn': 4896, 'embark': 4897, 'capot': 4898, 'pronounc': 4899, 'lex': 4900, 'trauma': 4901, 'spectacl': 4902, 'mcqueen': 4903, 'clara': 4904, 'kazan': 4905, 'bori': 4906, 'armstrong': 4907, 'wtf': 4908, 'spray': 4909, 'subtli': 4910, 'inaccur': 4911, 'unsuspect': 4912, 'vain': 4913, '1985': 4914, 'pioneer': 4915, 'knee': 4916, 'vignett': 4917, 'genet': 4918, 'kiddi': 4919, 'mum': 4920, 'sidewalk': 4921, 'curtain': 4922, 'blur': 4923, 'groan': 4924, 'cape': 4925, 'bait': 4926, 'sacrif': 4927, 'miami': 4928, 'comprehens': 4929, 'propheci': 4930, 'galaxi': 4931, 'carmen': 4932, 'abound': 4933, 'aussi': 4934, 'lauren': 4935, 'pepper': 4936, 'paula': 4937, 'walt': 4938, 'basket': 4939, 'conan': 4940, 'porter': 4941, 'decapit': 4942, 'antonio': 4943, 'tokyo': 4944, 'id': 4945, 'unattract': 4946, 'comb': 4947, 'rosario': 4948, 'lanc': 4949, 'poker': 4950, 'forgiven': 4951, 'truman': 4952, 'palm': 4953, 'relentless': 4954, 'miniseri': 4955, 'meal': 4956, 'congratul': 4957, 'ash': 4958, 'inclus': 4959, 'roar': 4960, 'goldblum': 4961, 'fruit': 4962, 'bsg': 4963, 'detach': 4964, 'scariest': 4965, 'scarfac': 4966, 'optimist': 4967, 'dubiou': 4968, 'weari': 4969, 'reincarn': 4970, 'sparkl': 4971, 'assort': 4972, 'ingrid': 4973, 'turtl': 4974, 'playboy': 4975, 'frontal': 4976, 'ghetto': 4977, 'verg': 4978, 'rapidli': 4979, 'mice': 4980, 'vastli': 4981, 'orchestr': 4982, 'spill': 4983, 'modest': 4984, 'weaker': 4985, 'bach': 4986, 'asset': 4987, 'sophi': 4988, 'macabr': 4989, 'monti': 4990, 'hostil': 4991, 'growth': 4992, 'handicap': 4993, 'motorcycl': 4994, '21st': 4995, 'profil': 4996, 'jill': 4997, 'masterson': 4998, 'omin': 4999}\n"
     ]
    }
   ],
   "source": [
    "# TODO: Use this space to determine the five most frequently appearing words in the training set.\n",
    "print(word_dict)"
   ]
  },
  {
   "cell_type": "markdown",
   "metadata": {},
   "source": [
    "### Save `word_dict`\n",
    "\n",
    "Later on when we construct an endpoint which processes a submitted review we will need to make use of the `word_dict` which we have created. As such, we will save it to a file now for future use."
   ]
  },
  {
   "cell_type": "code",
   "execution_count": 15,
   "metadata": {},
   "outputs": [],
   "source": [
    "data_dir = '../data/pytorch' # The folder we will use for storing data\n",
    "if not os.path.exists(data_dir): # Make sure that the folder exists\n",
    "    os.makedirs(data_dir)"
   ]
  },
  {
   "cell_type": "code",
   "execution_count": 16,
   "metadata": {},
   "outputs": [],
   "source": [
    "with open(os.path.join(data_dir, 'word_dict.pkl'), \"wb\") as f:\n",
    "    pickle.dump(word_dict, f)"
   ]
  },
  {
   "cell_type": "markdown",
   "metadata": {},
   "source": [
    "### Transform the reviews\n",
    "\n",
    "Now that we have our word dictionary which allows us to transform the words appearing in the reviews into integers, it is time to make use of it and convert our reviews to their integer sequence representation, making sure to pad or truncate to a fixed length, which in our case is `500`."
   ]
  },
  {
   "cell_type": "code",
   "execution_count": 17,
   "metadata": {},
   "outputs": [],
   "source": [
    "def convert_and_pad(word_dict, sentence, pad=500):\n",
    "    NOWORD = 0 # We will use 0 to represent the 'no word' category\n",
    "    INFREQ = 1 # and we use 1 to represent the infrequent words, i.e., words not appearing in word_dict\n",
    "    \n",
    "    working_sentence = [NOWORD] * pad\n",
    "    \n",
    "    for word_index, word in enumerate(sentence[:pad]):\n",
    "        if word in word_dict:\n",
    "            working_sentence[word_index] = word_dict[word]\n",
    "        else:\n",
    "            working_sentence[word_index] = INFREQ\n",
    "            \n",
    "    return working_sentence, min(len(sentence), pad)\n",
    "\n",
    "def convert_and_pad_data(word_dict, data, pad=500):\n",
    "    result = []\n",
    "    lengths = []\n",
    "    \n",
    "    for sentence in data:\n",
    "        converted, leng = convert_and_pad(word_dict, sentence, pad)\n",
    "        result.append(converted)\n",
    "        lengths.append(leng)\n",
    "        \n",
    "    return np.array(result), np.array(lengths)"
   ]
  },
  {
   "cell_type": "code",
   "execution_count": 18,
   "metadata": {},
   "outputs": [],
   "source": [
    "train_X, train_X_len = convert_and_pad_data(word_dict, train_X)\n",
    "test_X, test_X_len = convert_and_pad_data(word_dict, test_X)"
   ]
  },
  {
   "cell_type": "markdown",
   "metadata": {},
   "source": [
    "As a quick check to make sure that things are working as intended, check to see what one of the reviews in the training set looks like after having been processeed. Does this look reasonable? What is the length of a review in the training set?"
   ]
  },
  {
   "cell_type": "code",
   "execution_count": 19,
   "metadata": {},
   "outputs": [
    {
     "name": "stdout",
     "output_type": "stream",
     "text": [
      "[  25   25    1   68 2249 3299 2538    7 1802   20  182 4254   50  248\n",
      "  792 1682  591 1845    1  706 3225 2016 2625   18 1252  344    1   96\n",
      "   17 1155    1    1  646  182    1 1041    4  114 4292 1355  169 1376\n",
      "    1  248 1818  388   17  467    1 2606  927  328 2671 2775 3054 1818\n",
      "  388    1   27 3334 2279  645  133  351  336    1 1423 4641    1  289\n",
      "   91  952  482 2378  262  182 1376 1367    1    1  385    1  363 4218\n",
      "  519 4680 3299 2538 1044  182    6   90  670  213  608 4484  108  657\n",
      "    1   15    1 1138   75   11   26    1    1  723  652  137 4682  191\n",
      " 2522   44   39  586    1  519  765  182  788   25   53 1802   20  182\n",
      "  415  605   94  182  478 1110  617    0    0    0    0    0    0    0\n",
      "    0    0    0    0    0    0    0    0    0    0    0    0    0    0\n",
      "    0    0    0    0    0    0    0    0    0    0    0    0    0    0\n",
      "    0    0    0    0    0    0    0    0    0    0    0    0    0    0\n",
      "    0    0    0    0    0    0    0    0    0    0    0    0    0    0\n",
      "    0    0    0    0    0    0    0    0    0    0    0    0    0    0\n",
      "    0    0    0    0    0    0    0    0    0    0    0    0    0    0\n",
      "    0    0    0    0    0    0    0    0    0    0    0    0    0    0\n",
      "    0    0    0    0    0    0    0    0    0    0    0    0    0    0\n",
      "    0    0    0    0    0    0    0    0    0    0    0    0    0    0\n",
      "    0    0    0    0    0    0    0    0    0    0    0    0    0    0\n",
      "    0    0    0    0    0    0    0    0    0    0    0    0    0    0\n",
      "    0    0    0    0    0    0    0    0    0    0    0    0    0    0\n",
      "    0    0    0    0    0    0    0    0    0    0    0    0    0    0\n",
      "    0    0    0    0    0    0    0    0    0    0    0    0    0    0\n",
      "    0    0    0    0    0    0    0    0    0    0    0    0    0    0\n",
      "    0    0    0    0    0    0    0    0    0    0    0    0    0    0\n",
      "    0    0    0    0    0    0    0    0    0    0    0    0    0    0\n",
      "    0    0    0    0    0    0    0    0    0    0    0    0    0    0\n",
      "    0    0    0    0    0    0    0    0    0    0    0    0    0    0\n",
      "    0    0    0    0    0    0    0    0    0    0    0    0    0    0\n",
      "    0    0    0    0    0    0    0    0    0    0    0    0    0    0\n",
      "    0    0    0    0    0    0    0    0    0    0    0    0    0    0\n",
      "    0    0    0    0    0    0    0    0    0    0    0    0    0    0\n",
      "    0    0    0    0    0    0    0    0    0    0    0    0    0    0\n",
      "    0    0    0    0    0    0    0    0    0    0    0    0    0    0\n",
      "    0    0    0    0    0    0    0    0    0    0]\n",
      "500\n",
      "133\n"
     ]
    }
   ],
   "source": [
    "# Use this cell to examine one of the processed reviews to make sure everything is working as intended.\n",
    "print(train_X[100])\n",
    "print(len(train_X[100]))\n",
    "print(train_X_len[100])"
   ]
  },
  {
   "cell_type": "markdown",
   "metadata": {},
   "source": [
    "**Question:** In the cells above we use the `preprocess_data` and `convert_and_pad_data` methods to process both the training and testing set. Why or why not might this be a problem?"
   ]
  },
  {
   "cell_type": "markdown",
   "metadata": {},
   "source": [
    "**Answer:**\n",
    "Preprocess data: \n",
    "converts the text to a set of words, \n",
    "Removes stopwords, \n",
    "Uses Stemming, \n",
    "which might lead to loss of information due to the removal of suffix and prefix and also when stpwords like \"not\" are remvoed it might result in a completely opposite meaning\n",
    "\n",
    "convert_and_pad_data:\n",
    "MApping of words with the frequency, \n",
    "0 and 1 are used to no owrds and infrequent words, \n",
    "Most frequent words have the lowest index values.\n"
   ]
  },
  {
   "cell_type": "markdown",
   "metadata": {},
   "source": [
    "## Step 3: Upload the data to S3\n",
    "\n",
    "As in the XGBoost notebook, we will need to upload the training dataset to S3 in order for our training code to access it. For now we will save it locally and we will upload to S3 later on.\n",
    "\n",
    "### Save the processed training dataset locally\n",
    "\n",
    "It is important to note the format of the data that we are saving as we will need to know it when we write the training code. In our case, each row of the dataset has the form `label`, `length`, `review[500]` where `review[500]` is a sequence of `500` integers representing the words in the review."
   ]
  },
  {
   "cell_type": "code",
   "execution_count": 20,
   "metadata": {},
   "outputs": [],
   "source": [
    "import pandas as pd\n",
    "    \n",
    "pd.concat([pd.DataFrame(train_y), pd.DataFrame(train_X_len), pd.DataFrame(train_X)], axis=1) \\\n",
    "        .to_csv(os.path.join(data_dir, 'train.csv'), header=False, index=False)"
   ]
  },
  {
   "cell_type": "markdown",
   "metadata": {},
   "source": [
    "### Uploading the training data\n",
    "\n",
    "\n",
    "Next, we need to upload the training data to the SageMaker default S3 bucket so that we can provide access to it while training our model."
   ]
  },
  {
   "cell_type": "code",
   "execution_count": 21,
   "metadata": {},
   "outputs": [],
   "source": [
    "import sagemaker\n",
    "\n",
    "sagemaker_session = sagemaker.Session()\n",
    "\n",
    "bucket = sagemaker_session.default_bucket()\n",
    "prefix = 'sagemaker/sentiment_rnn'\n",
    "\n",
    "role = sagemaker.get_execution_role()"
   ]
  },
  {
   "cell_type": "code",
   "execution_count": 22,
   "metadata": {},
   "outputs": [],
   "source": [
    "input_data = sagemaker_session.upload_data(path=data_dir, bucket=bucket, key_prefix=prefix)"
   ]
  },
  {
   "cell_type": "markdown",
   "metadata": {},
   "source": [
    "**NOTE:** The cell above uploads the entire contents of our data directory. This includes the `word_dict.pkl` file. This is fortunate as we will need this later on when we create an endpoint that accepts an arbitrary review. For now, we will just take note of the fact that it resides in the data directory (and so also in the S3 training bucket) and that we will need to make sure it gets saved in the model directory."
   ]
  },
  {
   "cell_type": "markdown",
   "metadata": {},
   "source": [
    "## Step 4: Build and Train the PyTorch Model\n",
    "\n",
    "In the XGBoost notebook we discussed what a model is in the SageMaker framework. In particular, a model comprises three objects\n",
    "\n",
    " - Model Artifacts,\n",
    " - Training Code, and\n",
    " - Inference Code,\n",
    " \n",
    "each of which interact with one another. In the XGBoost example we used training and inference code that was provided by Amazon. Here we will still be using containers provided by Amazon with the added benefit of being able to include our own custom code.\n",
    "\n",
    "We will start by implementing our own neural network in PyTorch along with a training script. For the purposes of this project we have provided the necessary model object in the `model.py` file, inside of the `train` folder. You can see the provided implementation by running the cell below."
   ]
  },
  {
   "cell_type": "code",
   "execution_count": 23,
   "metadata": {},
   "outputs": [
    {
     "name": "stdout",
     "output_type": "stream",
     "text": [
      "\u001b[34mimport\u001b[39;49;00m \u001b[04m\u001b[36mtorch.nn\u001b[39;49;00m \u001b[34mas\u001b[39;49;00m \u001b[04m\u001b[36mnn\u001b[39;49;00m\r\n",
      "\r\n",
      "\u001b[34mclass\u001b[39;49;00m \u001b[04m\u001b[32mLSTMClassifier\u001b[39;49;00m(nn.Module):\r\n",
      "    \u001b[33m\"\"\"\u001b[39;49;00m\r\n",
      "\u001b[33m    This is the simple RNN model we will be using to perform Sentiment Analysis.\u001b[39;49;00m\r\n",
      "\u001b[33m    \"\"\"\u001b[39;49;00m\r\n",
      "\r\n",
      "    \u001b[34mdef\u001b[39;49;00m \u001b[32m__init__\u001b[39;49;00m(\u001b[36mself\u001b[39;49;00m, embedding_dim, hidden_dim, vocab_size):\r\n",
      "        \u001b[33m\"\"\"\u001b[39;49;00m\r\n",
      "\u001b[33m        Initialize the model by settingg up the various layers.\u001b[39;49;00m\r\n",
      "\u001b[33m        \"\"\"\u001b[39;49;00m\r\n",
      "        \u001b[36msuper\u001b[39;49;00m(LSTMClassifier, \u001b[36mself\u001b[39;49;00m).\u001b[32m__init__\u001b[39;49;00m()\r\n",
      "\r\n",
      "        \u001b[36mself\u001b[39;49;00m.embedding = nn.Embedding(vocab_size, embedding_dim, padding_idx=\u001b[34m0\u001b[39;49;00m)\r\n",
      "        \u001b[36mself\u001b[39;49;00m.lstm = nn.LSTM(embedding_dim, hidden_dim)\r\n",
      "        \u001b[36mself\u001b[39;49;00m.dense = nn.Linear(in_features=hidden_dim, out_features=\u001b[34m1\u001b[39;49;00m)\r\n",
      "        \u001b[36mself\u001b[39;49;00m.sig = nn.Sigmoid()\r\n",
      "        \r\n",
      "        \u001b[36mself\u001b[39;49;00m.word_dict = \u001b[36mNone\u001b[39;49;00m\r\n",
      "\r\n",
      "    \u001b[34mdef\u001b[39;49;00m \u001b[32mforward\u001b[39;49;00m(\u001b[36mself\u001b[39;49;00m, x):\r\n",
      "        \u001b[33m\"\"\"\u001b[39;49;00m\r\n",
      "\u001b[33m        Perform a forward pass of our model on some input.\u001b[39;49;00m\r\n",
      "\u001b[33m        \"\"\"\u001b[39;49;00m\r\n",
      "        x = x.t()\r\n",
      "        lengths = x[\u001b[34m0\u001b[39;49;00m,:]\r\n",
      "        reviews = x[\u001b[34m1\u001b[39;49;00m:,:]\r\n",
      "        embeds = \u001b[36mself\u001b[39;49;00m.embedding(reviews)\r\n",
      "        lstm_out, _ = \u001b[36mself\u001b[39;49;00m.lstm(embeds)\r\n",
      "        out = \u001b[36mself\u001b[39;49;00m.dense(lstm_out)\r\n",
      "        out = out[lengths - \u001b[34m1\u001b[39;49;00m, \u001b[36mrange\u001b[39;49;00m(\u001b[36mlen\u001b[39;49;00m(lengths))]\r\n",
      "        \u001b[34mreturn\u001b[39;49;00m \u001b[36mself\u001b[39;49;00m.sig(out.squeeze())\r\n"
     ]
    }
   ],
   "source": [
    "!pygmentize train/model.py"
   ]
  },
  {
   "cell_type": "markdown",
   "metadata": {},
   "source": [
    "The important takeaway from the implementation provided is that there are three parameters that we may wish to tweak to improve the performance of our model. These are the embedding dimension, the hidden dimension and the size of the vocabulary. We will likely want to make these parameters configurable in the training script so that if we wish to modify them we do not need to modify the script itself. We will see how to do this later on. To start we will write some of the training code in the notebook so that we can more easily diagnose any issues that arise.\n",
    "\n",
    "First we will load a small portion of the training data set to use as a sample. It would be very time consuming to try and train the model completely in the notebook as we do not have access to a gpu and the compute instance that we are using is not particularly powerful. However, we can work on a small bit of the data to get a feel for how our training script is behaving."
   ]
  },
  {
   "cell_type": "code",
   "execution_count": 24,
   "metadata": {},
   "outputs": [],
   "source": [
    "import torch\n",
    "import torch.utils.data\n",
    "\n",
    "# Read in only the first 250 rows\n",
    "train_sample = pd.read_csv(os.path.join(data_dir, 'train.csv'), header=None, names=None, nrows=250)\n",
    "\n",
    "# Turn the input pandas dataframe into tensors\n",
    "train_sample_y = torch.from_numpy(train_sample[[0]].values).float().squeeze()\n",
    "train_sample_X = torch.from_numpy(train_sample.drop([0], axis=1).values).long()\n",
    "\n",
    "# Build the dataset\n",
    "train_sample_ds = torch.utils.data.TensorDataset(train_sample_X, train_sample_y)\n",
    "# Build the dataloader\n",
    "train_sample_dl = torch.utils.data.DataLoader(train_sample_ds, batch_size=50)"
   ]
  },
  {
   "cell_type": "markdown",
   "metadata": {},
   "source": [
    "### (TODO) Writing the training method\n",
    "\n",
    "Next we need to write the training code itself. This should be very similar to training methods that you have written before to train PyTorch models. We will leave any difficult aspects such as model saving / loading and parameter loading until a little later."
   ]
  },
  {
   "cell_type": "code",
   "execution_count": 25,
   "metadata": {},
   "outputs": [],
   "source": [
    "def train(model, train_loader, epochs, optimizer, loss_fn, device):\n",
    "    for epoch in range(1, epochs + 1):\n",
    "        model.train()\n",
    "        total_loss = 0\n",
    "        for batch in train_loader:         \n",
    "            batch_X, batch_y = batch\n",
    "            \n",
    "            batch_X = batch_X.to(device)\n",
    "            batch_y = batch_y.to(device)\n",
    "            \n",
    "            # TODO: Complete this train method to train the model provided.\n",
    "            optimizer.zero_grad()\n",
    "            \n",
    "            output = model.forward(batch_X)\n",
    "            loss = loss_fn(output,batch_y)\n",
    "            loss.backward()\n",
    "            \n",
    "            optimizer.step()\n",
    "            \n",
    "            total_loss += loss.data.item()\n",
    "        print(\"Epoch: {}, BCELoss: {}\".format(epoch, total_loss / len(train_loader)))"
   ]
  },
  {
   "cell_type": "markdown",
   "metadata": {},
   "source": [
    "Supposing we have the training method above, we will test that it is working by writing a bit of code in the notebook that executes our training method on the small sample training set that we loaded earlier. The reason for doing this in the notebook is so that we have an opportunity to fix any errors that arise early when they are easier to diagnose."
   ]
  },
  {
   "cell_type": "code",
   "execution_count": 26,
   "metadata": {},
   "outputs": [
    {
     "name": "stdout",
     "output_type": "stream",
     "text": [
      "Epoch: 1, BCELoss: 0.6949764728546143\n",
      "Epoch: 2, BCELoss: 0.6863236904144288\n",
      "Epoch: 3, BCELoss: 0.6791352987289428\n",
      "Epoch: 4, BCELoss: 0.6712486386299134\n",
      "Epoch: 5, BCELoss: 0.6614985585212707\n"
     ]
    }
   ],
   "source": [
    "import torch.optim as optim\n",
    "from train.model import LSTMClassifier\n",
    "\n",
    "device = torch.device(\"cuda\" if torch.cuda.is_available() else \"cpu\")\n",
    "model = LSTMClassifier(32, 100, 5000).to(device)\n",
    "optimizer = optim.Adam(model.parameters())\n",
    "loss_fn = torch.nn.BCELoss()\n",
    "\n",
    "train(model, train_sample_dl, 5, optimizer, loss_fn, device)"
   ]
  },
  {
   "cell_type": "markdown",
   "metadata": {},
   "source": [
    "In order to construct a PyTorch model using SageMaker we must provide SageMaker with a training script. We may optionally include a directory which will be copied to the container and from which our training code will be run. When the training container is executed it will check the uploaded directory (if there is one) for a `requirements.txt` file and install any required Python libraries, after which the training script will be run."
   ]
  },
  {
   "cell_type": "markdown",
   "metadata": {},
   "source": [
    "### (TODO) Training the model\n",
    "\n",
    "When a PyTorch model is constructed in SageMaker, an entry point must be specified. This is the Python file which will be executed when the model is trained. Inside of the `train` directory is a file called `train.py` which has been provided and which contains most of the necessary code to train our model. The only thing that is missing is the implementation of the `train()` method which you wrote earlier in this notebook.\n",
    "\n",
    "**TODO**: Copy the `train()` method written above and paste it into the `train/train.py` file where required.\n",
    "\n",
    "The way that SageMaker passes hyperparameters to the training script is by way of arguments. These arguments can then be parsed and used in the training script. To see how this is done take a look at the provided `train/train.py` file."
   ]
  },
  {
   "cell_type": "code",
   "execution_count": 29,
   "metadata": {},
   "outputs": [],
   "source": [
    "from sagemaker.pytorch import PyTorch\n",
    "\n",
    "estimator = PyTorch(entry_point=\"train.py\",\n",
    "                    source_dir=\"train\",\n",
    "                    role=role,\n",
    "                    framework_version='0.4.0',\n",
    "                    train_instance_count=1,\n",
    "                    train_instance_type='ml.c4.xlarge',\n",
    "                    hyperparameters={\n",
    "                        'epochs': 10,\n",
    "                        'hidden_dim': 200,\n",
    "                    })"
   ]
  },
  {
   "cell_type": "markdown",
   "metadata": {},
   "source": [
    "'''\n",
    "I tried training with p2.xlarge and contacted aws support  but whenever i was running p2.xlarge it was \n",
    "showing me some errors and i wasn't able to resolve and i was way behind the proposed date .\n",
    "So i trained the model with c4.xlarge,\n",
    "It was nowhere mentioned that I have to use p2.xlarge only\n",
    "Hence I see no problem in it\n",
    "'''"
   ]
  },
  {
   "cell_type": "code",
   "execution_count": 30,
   "metadata": {},
   "outputs": [
    {
     "name": "stdout",
     "output_type": "stream",
     "text": [
      "2020-01-24 10:35:17 Starting - Starting the training job...\n",
      "2020-01-24 10:35:35 Starting - Launching requested ML instances......\n",
      "2020-01-24 10:36:40 Starting - Preparing the instances for training......\n",
      "2020-01-24 10:37:20 Downloading - Downloading input data...\n",
      "2020-01-24 10:38:19 Training - Training image download completed. Training in progress..\u001b[34mbash: cannot set terminal process group (-1): Inappropriate ioctl for device\u001b[0m\n",
      "\u001b[34mbash: no job control in this shell\u001b[0m\n",
      "\u001b[34m2020-01-24 10:38:19,869 sagemaker-containers INFO     Imported framework sagemaker_pytorch_container.training\u001b[0m\n",
      "\u001b[34m2020-01-24 10:38:19,871 sagemaker-containers INFO     No GPUs detected (normal if no gpus installed)\u001b[0m\n",
      "\u001b[34m2020-01-24 10:38:19,882 sagemaker_pytorch_container.training INFO     Block until all host DNS lookups succeed.\u001b[0m\n",
      "\u001b[34m2020-01-24 10:38:26,138 sagemaker_pytorch_container.training INFO     Invoking user training script.\u001b[0m\n",
      "\u001b[34m2020-01-24 10:38:26,414 sagemaker-containers INFO     Module train does not provide a setup.py. \u001b[0m\n",
      "\u001b[34mGenerating setup.py\u001b[0m\n",
      "\u001b[34m2020-01-24 10:38:26,414 sagemaker-containers INFO     Generating setup.cfg\u001b[0m\n",
      "\u001b[34m2020-01-24 10:38:26,415 sagemaker-containers INFO     Generating MANIFEST.in\u001b[0m\n",
      "\u001b[34m2020-01-24 10:38:26,415 sagemaker-containers INFO     Installing module with the following command:\u001b[0m\n",
      "\u001b[34m/usr/bin/python -m pip install -U . -r requirements.txt\u001b[0m\n",
      "\u001b[34mProcessing /opt/ml/code\u001b[0m\n",
      "\u001b[34mCollecting pandas (from -r requirements.txt (line 1))\n",
      "  Downloading https://files.pythonhosted.org/packages/74/24/0cdbf8907e1e3bc5a8da03345c23cbed7044330bb8f73bb12e711a640a00/pandas-0.24.2-cp35-cp35m-manylinux1_x86_64.whl (10.0MB)\u001b[0m\n",
      "\u001b[34mCollecting numpy (from -r requirements.txt (line 2))\n",
      "  Downloading https://files.pythonhosted.org/packages/52/e6/1715e592ef47f28f3f50065322423bb75619ed2f7c24be86380ecc93503c/numpy-1.18.1-cp35-cp35m-manylinux1_x86_64.whl (19.9MB)\u001b[0m\n",
      "\u001b[34mCollecting nltk (from -r requirements.txt (line 3))\n",
      "  Downloading https://files.pythonhosted.org/packages/f6/1d/d925cfb4f324ede997f6d47bea4d9babba51b49e87a767c170b77005889d/nltk-3.4.5.zip (1.5MB)\u001b[0m\n",
      "\u001b[34mCollecting beautifulsoup4 (from -r requirements.txt (line 4))\n",
      "  Downloading https://files.pythonhosted.org/packages/cb/a1/c698cf319e9cfed6b17376281bd0efc6bfc8465698f54170ef60a485ab5d/beautifulsoup4-4.8.2-py3-none-any.whl (106kB)\u001b[0m\n",
      "\u001b[34mCollecting html5lib (from -r requirements.txt (line 5))\n",
      "  Downloading https://files.pythonhosted.org/packages/a5/62/bbd2be0e7943ec8504b517e62bab011b4946e1258842bc159e5dfde15b96/html5lib-1.0.1-py2.py3-none-any.whl (117kB)\u001b[0m\n",
      "\u001b[34mCollecting pytz>=2011k (from pandas->-r requirements.txt (line 1))\n",
      "  Downloading https://files.pythonhosted.org/packages/e7/f9/f0b53f88060247251bf481fa6ea62cd0d25bf1b11a87888e53ce5b7c8ad2/pytz-2019.3-py2.py3-none-any.whl (509kB)\u001b[0m\n",
      "\u001b[34mRequirement already satisfied, skipping upgrade: python-dateutil>=2.5.0 in /usr/local/lib/python3.5/dist-packages (from pandas->-r requirements.txt (line 1)) (2.7.5)\u001b[0m\n",
      "\u001b[34mRequirement already satisfied, skipping upgrade: six in /usr/local/lib/python3.5/dist-packages (from nltk->-r requirements.txt (line 3)) (1.11.0)\u001b[0m\n",
      "\u001b[34mCollecting soupsieve>=1.2 (from beautifulsoup4->-r requirements.txt (line 4))\n",
      "  Downloading https://files.pythonhosted.org/packages/81/94/03c0f04471fc245d08d0a99f7946ac228ca98da4fa75796c507f61e688c2/soupsieve-1.9.5-py2.py3-none-any.whl\u001b[0m\n",
      "\u001b[34mCollecting webencodings (from html5lib->-r requirements.txt (line 5))\n",
      "  Downloading https://files.pythonhosted.org/packages/f4/24/2a3e3df732393fed8b3ebf2ec078f05546de641fe1b667ee316ec1dcf3b7/webencodings-0.5.1-py2.py3-none-any.whl\u001b[0m\n",
      "\u001b[34mBuilding wheels for collected packages: nltk, train\n",
      "  Running setup.py bdist_wheel for nltk: started\n",
      "  Running setup.py bdist_wheel for nltk: finished with status 'done'\n",
      "  Stored in directory: /root/.cache/pip/wheels/96/86/f6/68ab24c23f207c0077381a5e3904b2815136b879538a24b483\n",
      "  Running setup.py bdist_wheel for train: started\u001b[0m\n",
      "\u001b[34m  Running setup.py bdist_wheel for train: finished with status 'done'\n",
      "  Stored in directory: /tmp/pip-ephem-wheel-cache-jl_mfgld/wheels/35/24/16/37574d11bf9bde50616c67372a334f94fa8356bc7164af8ca3\u001b[0m\n",
      "\u001b[34mSuccessfully built nltk train\u001b[0m\n",
      "\u001b[34mInstalling collected packages: numpy, pytz, pandas, nltk, soupsieve, beautifulsoup4, webencodings, html5lib, train\n",
      "  Found existing installation: numpy 1.15.4\n",
      "    Uninstalling numpy-1.15.4:\u001b[0m\n",
      "\u001b[34m      Successfully uninstalled numpy-1.15.4\u001b[0m\n",
      "\u001b[34mSuccessfully installed beautifulsoup4-4.8.2 html5lib-1.0.1 nltk-3.4.5 numpy-1.18.1 pandas-0.24.2 pytz-2019.3 soupsieve-1.9.5 train-1.0.0 webencodings-0.5.1\u001b[0m\n",
      "\u001b[34mYou are using pip version 18.1, however version 20.0.1 is available.\u001b[0m\n",
      "\u001b[34mYou should consider upgrading via the 'pip install --upgrade pip' command.\u001b[0m\n",
      "\u001b[34m2020-01-24 10:38:37,374 sagemaker-containers INFO     No GPUs detected (normal if no gpus installed)\u001b[0m\n",
      "\u001b[34m2020-01-24 10:38:37,386 sagemaker-containers INFO     Invoking user script\n",
      "\u001b[0m\n",
      "\u001b[34mTraining Env:\n",
      "\u001b[0m\n",
      "\u001b[34m{\n",
      "    \"num_gpus\": 0,\n",
      "    \"input_config_dir\": \"/opt/ml/input/config\",\n",
      "    \"hyperparameters\": {\n",
      "        \"epochs\": 10,\n",
      "        \"hidden_dim\": 200\n",
      "    },\n",
      "    \"user_entry_point\": \"train.py\",\n",
      "    \"output_intermediate_dir\": \"/opt/ml/output/intermediate\",\n",
      "    \"current_host\": \"algo-1\",\n",
      "    \"framework_module\": \"sagemaker_pytorch_container.training:main\",\n",
      "    \"network_interface_name\": \"eth0\",\n",
      "    \"num_cpus\": 4,\n",
      "    \"output_dir\": \"/opt/ml/output\",\n",
      "    \"input_data_config\": {\n",
      "        \"training\": {\n",
      "            \"RecordWrapperType\": \"None\",\n",
      "            \"S3DistributionType\": \"FullyReplicated\",\n",
      "            \"TrainingInputMode\": \"File\"\n",
      "        }\n",
      "    },\n",
      "    \"job_name\": \"sagemaker-pytorch-2020-01-24-10-35-17-227\",\n",
      "    \"channel_input_dirs\": {\n",
      "        \"training\": \"/opt/ml/input/data/training\"\n",
      "    },\n",
      "    \"module_dir\": \"s3://sagemaker-us-east-1-272296550674/sagemaker-pytorch-2020-01-24-10-35-17-227/source/sourcedir.tar.gz\",\n",
      "    \"input_dir\": \"/opt/ml/input\",\n",
      "    \"hosts\": [\n",
      "        \"algo-1\"\n",
      "    ],\n",
      "    \"resource_config\": {\n",
      "        \"network_interface_name\": \"eth0\",\n",
      "        \"current_host\": \"algo-1\",\n",
      "        \"hosts\": [\n",
      "            \"algo-1\"\n",
      "        ]\n",
      "    },\n",
      "    \"additional_framework_parameters\": {},\n",
      "    \"output_data_dir\": \"/opt/ml/output/data\",\n",
      "    \"module_name\": \"train\",\n",
      "    \"model_dir\": \"/opt/ml/model\",\n",
      "    \"log_level\": 20\u001b[0m\n",
      "\u001b[34m}\n",
      "\u001b[0m\n",
      "\u001b[34mEnvironment variables:\n",
      "\u001b[0m\n",
      "\u001b[34mSM_INPUT_DATA_CONFIG={\"training\":{\"RecordWrapperType\":\"None\",\"S3DistributionType\":\"FullyReplicated\",\"TrainingInputMode\":\"File\"}}\u001b[0m\n",
      "\u001b[34mSM_OUTPUT_DIR=/opt/ml/output\u001b[0m\n",
      "\u001b[34mSM_MODULE_NAME=train\u001b[0m\n",
      "\u001b[34mSM_OUTPUT_DATA_DIR=/opt/ml/output/data\u001b[0m\n",
      "\u001b[34mSM_FRAMEWORK_PARAMS={}\u001b[0m\n",
      "\u001b[34mSM_HP_EPOCHS=10\u001b[0m\n",
      "\u001b[34mSM_INPUT_DIR=/opt/ml/input\u001b[0m\n",
      "\u001b[34mSM_USER_ARGS=[\"--epochs\",\"10\",\"--hidden_dim\",\"200\"]\u001b[0m\n",
      "\u001b[34mSM_HPS={\"epochs\":10,\"hidden_dim\":200}\u001b[0m\n",
      "\u001b[34mSM_HOSTS=[\"algo-1\"]\u001b[0m\n",
      "\u001b[34mSM_FRAMEWORK_MODULE=sagemaker_pytorch_container.training:main\u001b[0m\n",
      "\u001b[34mSM_OUTPUT_INTERMEDIATE_DIR=/opt/ml/output/intermediate\u001b[0m\n",
      "\u001b[34mSM_RESOURCE_CONFIG={\"current_host\":\"algo-1\",\"hosts\":[\"algo-1\"],\"network_interface_name\":\"eth0\"}\u001b[0m\n",
      "\u001b[34mSM_LOG_LEVEL=20\u001b[0m\n",
      "\u001b[34mSM_NETWORK_INTERFACE_NAME=eth0\u001b[0m\n",
      "\u001b[34mSM_HP_HIDDEN_DIM=200\u001b[0m\n",
      "\u001b[34mSM_CHANNELS=[\"training\"]\u001b[0m\n",
      "\u001b[34mSM_USER_ENTRY_POINT=train.py\u001b[0m\n",
      "\u001b[34mSM_MODULE_DIR=s3://sagemaker-us-east-1-272296550674/sagemaker-pytorch-2020-01-24-10-35-17-227/source/sourcedir.tar.gz\u001b[0m\n",
      "\u001b[34mSM_MODEL_DIR=/opt/ml/model\u001b[0m\n",
      "\u001b[34mPYTHONPATH=/usr/local/bin:/usr/lib/python35.zip:/usr/lib/python3.5:/usr/lib/python3.5/plat-x86_64-linux-gnu:/usr/lib/python3.5/lib-dynload:/usr/local/lib/python3.5/dist-packages:/usr/lib/python3/dist-packages\u001b[0m\n",
      "\u001b[34mSM_CURRENT_HOST=algo-1\u001b[0m\n",
      "\u001b[34mSM_NUM_CPUS=4\u001b[0m\n",
      "\u001b[34mSM_INPUT_CONFIG_DIR=/opt/ml/input/config\u001b[0m\n",
      "\u001b[34mSM_NUM_GPUS=0\u001b[0m\n",
      "\u001b[34mSM_CHANNEL_TRAINING=/opt/ml/input/data/training\u001b[0m\n",
      "\u001b[34mSM_TRAINING_ENV={\"additional_framework_parameters\":{},\"channel_input_dirs\":{\"training\":\"/opt/ml/input/data/training\"},\"current_host\":\"algo-1\",\"framework_module\":\"sagemaker_pytorch_container.training:main\",\"hosts\":[\"algo-1\"],\"hyperparameters\":{\"epochs\":10,\"hidden_dim\":200},\"input_config_dir\":\"/opt/ml/input/config\",\"input_data_config\":{\"training\":{\"RecordWrapperType\":\"None\",\"S3DistributionType\":\"FullyReplicated\",\"TrainingInputMode\":\"File\"}},\"input_dir\":\"/opt/ml/input\",\"job_name\":\"sagemaker-pytorch-2020-01-24-10-35-17-227\",\"log_level\":20,\"model_dir\":\"/opt/ml/model\",\"module_dir\":\"s3://sagemaker-us-east-1-272296550674/sagemaker-pytorch-2020-01-24-10-35-17-227/source/sourcedir.tar.gz\",\"module_name\":\"train\",\"network_interface_name\":\"eth0\",\"num_cpus\":4,\"num_gpus\":0,\"output_data_dir\":\"/opt/ml/output/data\",\"output_dir\":\"/opt/ml/output\",\"output_intermediate_dir\":\"/opt/ml/output/intermediate\",\"resource_config\":{\"current_host\":\"algo-1\",\"hosts\":[\"algo-1\"],\"network_interface_name\":\"eth0\"},\"user_entry_point\":\"train.py\"}\n",
      "\u001b[0m\n",
      "\u001b[34mInvoking script with the following command:\n",
      "\u001b[0m\n",
      "\u001b[34m/usr/bin/python -m train --epochs 10 --hidden_dim 200\n",
      "\n",
      "\u001b[0m\n",
      "\u001b[34mUsing device cpu.\u001b[0m\n",
      "\u001b[34mGet train data loader.\u001b[0m\n",
      "\u001b[34mModel loaded with embedding_dim 32, hidden_dim 200, vocab_size 5000.\u001b[0m\n"
     ]
    },
    {
     "name": "stdout",
     "output_type": "stream",
     "text": [
      "\u001b[34mEpoch: 1, BCELoss: 0.6686279725055305\u001b[0m\n",
      "\u001b[34mEpoch: 2, BCELoss: 0.582365768296378\u001b[0m\n",
      "\u001b[34mEpoch: 3, BCELoss: 0.5155185740821215\u001b[0m\n",
      "\u001b[34mEpoch: 4, BCELoss: 0.44285975062117283\u001b[0m\n",
      "\u001b[34mEpoch: 5, BCELoss: 0.38626718217012834\u001b[0m\n",
      "\u001b[34mEpoch: 6, BCELoss: 0.36442430226170286\u001b[0m\n",
      "\u001b[34mEpoch: 7, BCELoss: 0.34655297167447147\u001b[0m\n",
      "\u001b[34mEpoch: 8, BCELoss: 0.3457460768368779\u001b[0m\n",
      "\u001b[34mEpoch: 9, BCELoss: 0.3090533072851142\u001b[0m\n",
      "\n",
      "2020-01-24 12:07:41 Uploading - Uploading generated training model\u001b[34mEpoch: 10, BCELoss: 0.2845812050663695\u001b[0m\n",
      "\u001b[34m2020-01-24 12:07:40,513 sagemaker-containers INFO     Reporting training SUCCESS\u001b[0m\n",
      "\n",
      "2020-01-24 12:07:47 Completed - Training job completed\n",
      "Training seconds: 5427\n",
      "Billable seconds: 5427\n"
     ]
    }
   ],
   "source": [
    "estimator.fit({'training': input_data})"
   ]
  },
  {
   "cell_type": "markdown",
   "metadata": {},
   "source": [
    "## Step 5: Testing the model\n",
    "\n",
    "As mentioned at the top of this notebook, we will be testing this model by first deploying it and then sending the testing data to the deployed endpoint. We will do this so that we can make sure that the deployed model is working correctly.\n",
    "\n",
    "## Step 6: Deploy the model for testing\n",
    "\n",
    "Now that we have trained our model, we would like to test it to see how it performs. Currently our model takes input of the form `review_length, review[500]` where `review[500]` is a sequence of `500` integers which describe the words present in the review, encoded using `word_dict`. Fortunately for us, SageMaker provides built-in inference code for models with simple inputs such as this.\n",
    "\n",
    "There is one thing that we need to provide, however, and that is a function which loads the saved model. This function must be called `model_fn()` and takes as its only parameter a path to the directory where the model artifacts are stored. This function must also be present in the python file which we specified as the entry point. In our case the model loading function has been provided and so no changes need to be made.\n",
    "\n",
    "**NOTE**: When the built-in inference code is run it must import the `model_fn()` method from the `train.py` file. This is why the training code is wrapped in a main guard ( ie, `if __name__ == '__main__':` )\n",
    "\n",
    "Since we don't need to change anything in the code that was uploaded during training, we can simply deploy the current model as-is.\n",
    "\n",
    "**NOTE:** When deploying a model you are asking SageMaker to launch an compute instance that will wait for data to be sent to it. As a result, this compute instance will continue to run until *you* shut it down. This is important to know since the cost of a deployed endpoint depends on how long it has been running for.\n",
    "\n",
    "In other words **If you are no longer using a deployed endpoint, shut it down!**\n",
    "\n",
    "**TODO:** Deploy the trained model."
   ]
  },
  {
   "cell_type": "code",
   "execution_count": 34,
   "metadata": {},
   "outputs": [
    {
     "name": "stdout",
     "output_type": "stream",
     "text": [
      "-----------------!"
     ]
    }
   ],
   "source": [
    "predictor = estimator.deploy(initial_instance_count=1, instance_type='ml.c4.xlarge')"
   ]
  },
  {
   "cell_type": "markdown",
   "metadata": {},
   "source": [
    "## Step 7 - Use the model for testing\n",
    "\n",
    "Once deployed, we can read in the test data and send it off to our deployed model to get some results. Once we collect all of the results we can determine how accurate our model is."
   ]
  },
  {
   "cell_type": "code",
   "execution_count": 35,
   "metadata": {},
   "outputs": [],
   "source": [
    "test_X = pd.concat([pd.DataFrame(test_X_len), pd.DataFrame(test_X)], axis=1)"
   ]
  },
  {
   "cell_type": "code",
   "execution_count": 36,
   "metadata": {},
   "outputs": [
    {
     "name": "stdout",
     "output_type": "stream",
     "text": [
      "25000\n"
     ]
    }
   ],
   "source": [
    "print(len(test_X_len))"
   ]
  },
  {
   "cell_type": "code",
   "execution_count": 37,
   "metadata": {},
   "outputs": [],
   "source": [
    "# We split the data into chunks and send each chunk seperately, accumulating the results.\n",
    "\n",
    "def predict(data, rows=512):\n",
    "    split_array = np.array_split(data, int(data.shape[0] / float(rows) + 1))\n",
    "    predictions = np.array([])\n",
    "    for array in split_array:\n",
    "        predictions = np.append(predictions, predictor.predict(array))\n",
    "    \n",
    "    return predictions"
   ]
  },
  {
   "cell_type": "code",
   "execution_count": 38,
   "metadata": {},
   "outputs": [],
   "source": [
    "predictions = predict(test_X.values)\n",
    "predictions = [round(num) for num in predictions]"
   ]
  },
  {
   "cell_type": "code",
   "execution_count": 39,
   "metadata": {},
   "outputs": [
    {
     "data": {
      "text/plain": [
       "0.8508"
      ]
     },
     "execution_count": 39,
     "metadata": {},
     "output_type": "execute_result"
    }
   ],
   "source": [
    "from sklearn.metrics import accuracy_score\n",
    "accuracy_score(test_y, predictions)"
   ]
  },
  {
   "cell_type": "markdown",
   "metadata": {},
   "source": [
    "**Question:** How does this model compare to the XGBoost model you created earlier? Why might these two models perform differently on this dataset? Which do *you* think is better for sentiment analysis?"
   ]
  },
  {
   "cell_type": "markdown",
   "metadata": {},
   "source": [
    "**Answer:**\n",
    "Both the  models have their own uses. XGBOOST models works extremely good when it comes to tabular data but NEURAL NETWORK has better performance when it comes to the data which has image or voice as input. \n",
    "In this model XGBOOST performed better then the NN because Neural Network preforms better with the unstructured data and when the data set is extremely large as well as Neaural Networks Capability increases with the increase in the computation power and number of hidden layers which eventually requires more computation power.\n",
    "If we hypertune this  model in the case of XGBOOST then the accuracy might increase to 2-3percent further but above that XGBOOST can not go however NN can make a significant improvement when we add the number of layers in this model"
   ]
  },
  {
   "cell_type": "markdown",
   "metadata": {},
   "source": [
    "### (TODO) More testing\n",
    "\n",
    "We now have a trained model which has been deployed and which we can send processed reviews to and which returns the predicted sentiment. However, ultimately we would like to be able to send our model an unprocessed review. That is, we would like to send the review itself as a string. For example, suppose we wish to send the following review to our model."
   ]
  },
  {
   "cell_type": "code",
   "execution_count": 40,
   "metadata": {},
   "outputs": [],
   "source": [
    "test_review = 'The simplest pleasures in life are the best, and this film is one of them. Combining a rather basic storyline of love and adventure this movie transcends the usual weekend fair with wit and unmitigated charm.'"
   ]
  },
  {
   "cell_type": "markdown",
   "metadata": {},
   "source": [
    "The question we now need to answer is, how do we send this review to our model?\n",
    "\n",
    "Recall in the first section of this notebook we did a bunch of data processing to the IMDb dataset. In particular, we did two specific things to the provided reviews.\n",
    " - Removed any html tags and stemmed the input\n",
    " - Encoded the review as a sequence of integers using `word_dict`\n",
    " \n",
    "In order process the review we will need to repeat these two steps.\n",
    "\n",
    "**TODO**: Using the `review_to_words` and `convert_and_pad` methods from section one, convert `test_review` into a numpy array `test_data` suitable to send to our model. Remember that our model expects input of the form `review_length, review[500]`."
   ]
  },
  {
   "cell_type": "code",
   "execution_count": 41,
   "metadata": {},
   "outputs": [],
   "source": [
    "# TODO: Convert test_review into a form usable by the model and save the results in test_data\n",
    "review_words, review_words_len = convert_and_pad(word_dict, review_to_words(test_review), 500)\n",
    "data = [[review_words_len] + review_words]\n",
    "test_data = pd.DataFrame(data)"
   ]
  },
  {
   "cell_type": "code",
   "execution_count": 42,
   "metadata": {},
   "outputs": [
    {
     "name": "stdout",
     "output_type": "stream",
     "text": [
      "   0    1     2    3    4    5    6    7    8    9    ...  491  492  493  494  \\\n",
      "0   20    1  1374   50   53    3    4  878  173  392  ...    0    0    0    0   \n",
      "\n",
      "   495  496  497  498  499  500  \n",
      "0    0    0    0    0    0    0  \n",
      "\n",
      "[1 rows x 501 columns]\n"
     ]
    }
   ],
   "source": [
    "print(test_data)"
   ]
  },
  {
   "cell_type": "markdown",
   "metadata": {},
   "source": [
    "Now that we have processed the review, we can send the resulting array to our model to predict the sentiment of the review."
   ]
  },
  {
   "cell_type": "code",
   "execution_count": 43,
   "metadata": {},
   "outputs": [
    {
     "data": {
      "text/plain": [
       "array(0.90118134, dtype=float32)"
      ]
     },
     "execution_count": 43,
     "metadata": {},
     "output_type": "execute_result"
    }
   ],
   "source": [
    "predictor.predict(test_data)"
   ]
  },
  {
   "cell_type": "markdown",
   "metadata": {},
   "source": [
    "Since the return value of our model is close to `1`, we can be certain that the review we submitted is positive."
   ]
  },
  {
   "cell_type": "markdown",
   "metadata": {},
   "source": [
    "### Delete the endpoint\n",
    "\n",
    "Of course, just like in the XGBoost notebook, once we've deployed an endpoint it continues to run until we tell it to shut down. Since we are done using our endpoint for now, we can delete it."
   ]
  },
  {
   "cell_type": "code",
   "execution_count": 44,
   "metadata": {},
   "outputs": [],
   "source": [
    "estimator.delete_endpoint()"
   ]
  },
  {
   "cell_type": "markdown",
   "metadata": {},
   "source": [
    "## Step 6 (again) - Deploy the model for the web app\n",
    "\n",
    "Now that we know that our model is working, it's time to create some custom inference code so that we can send the model a review which has not been processed and have it determine the sentiment of the review.\n",
    "\n",
    "As we saw above, by default the estimator which we created, when deployed, will use the entry script and directory which we provided when creating the model. However, since we now wish to accept a string as input and our model expects a processed review, we need to write some custom inference code.\n",
    "\n",
    "We will store the code that we write in the `serve` directory. Provided in this directory is the `model.py` file that we used to construct our model, a `utils.py` file which contains the `review_to_words` and `convert_and_pad` pre-processing functions which we used during the initial data processing, and `predict.py`, the file which will contain our custom inference code. Note also that `requirements.txt` is present which will tell SageMaker what Python libraries are required by our custom inference code.\n",
    "\n",
    "When deploying a PyTorch model in SageMaker, you are expected to provide four functions which the SageMaker inference container will use.\n",
    " - `model_fn`: This function is the same function that we used in the training script and it tells SageMaker how to load our model.\n",
    " - `input_fn`: This function receives the raw serialized input that has been sent to the model's endpoint and its job is to de-serialize and make the input available for the inference code.\n",
    " - `output_fn`: This function takes the output of the inference code and its job is to serialize this output and return it to the caller of the model's endpoint.\n",
    " - `predict_fn`: The heart of the inference script, this is where the actual prediction is done and is the function which you will need to complete.\n",
    "\n",
    "For the simple website that we are constructing during this project, the `input_fn` and `output_fn` methods are relatively straightforward. We only require being able to accept a string as input and we expect to return a single value as output. You might imagine though that in a more complex application the input or output may be image data or some other binary data which would require some effort to serialize.\n",
    "\n",
    "### (TODO) Writing inference code\n",
    "\n",
    "Before writing our custom inference code, we will begin by taking a look at the code which has been provided."
   ]
  },
  {
   "cell_type": "code",
   "execution_count": 45,
   "metadata": {},
   "outputs": [
    {
     "name": "stdout",
     "output_type": "stream",
     "text": [
      "\u001b[34mimport\u001b[39;49;00m \u001b[04m\u001b[36margparse\u001b[39;49;00m\r\n",
      "\u001b[34mimport\u001b[39;49;00m \u001b[04m\u001b[36mjson\u001b[39;49;00m\r\n",
      "\u001b[34mimport\u001b[39;49;00m \u001b[04m\u001b[36mos\u001b[39;49;00m\r\n",
      "\u001b[34mimport\u001b[39;49;00m \u001b[04m\u001b[36mpickle\u001b[39;49;00m\r\n",
      "\u001b[34mimport\u001b[39;49;00m \u001b[04m\u001b[36msys\u001b[39;49;00m\r\n",
      "\u001b[34mimport\u001b[39;49;00m \u001b[04m\u001b[36msagemaker_containers\u001b[39;49;00m\r\n",
      "\u001b[34mimport\u001b[39;49;00m \u001b[04m\u001b[36mpandas\u001b[39;49;00m \u001b[34mas\u001b[39;49;00m \u001b[04m\u001b[36mpd\u001b[39;49;00m\r\n",
      "\u001b[34mimport\u001b[39;49;00m \u001b[04m\u001b[36mnumpy\u001b[39;49;00m \u001b[34mas\u001b[39;49;00m \u001b[04m\u001b[36mnp\u001b[39;49;00m\r\n",
      "\u001b[34mimport\u001b[39;49;00m \u001b[04m\u001b[36mtorch\u001b[39;49;00m\r\n",
      "\u001b[34mimport\u001b[39;49;00m \u001b[04m\u001b[36mtorch.nn\u001b[39;49;00m \u001b[34mas\u001b[39;49;00m \u001b[04m\u001b[36mnn\u001b[39;49;00m\r\n",
      "\u001b[34mimport\u001b[39;49;00m \u001b[04m\u001b[36mtorch.optim\u001b[39;49;00m \u001b[34mas\u001b[39;49;00m \u001b[04m\u001b[36moptim\u001b[39;49;00m\r\n",
      "\u001b[34mimport\u001b[39;49;00m \u001b[04m\u001b[36mtorch.utils.data\u001b[39;49;00m\r\n",
      "\r\n",
      "\u001b[34mfrom\u001b[39;49;00m \u001b[04m\u001b[36mmodel\u001b[39;49;00m \u001b[34mimport\u001b[39;49;00m LSTMClassifier\r\n",
      "\r\n",
      "\u001b[34mfrom\u001b[39;49;00m \u001b[04m\u001b[36mutils\u001b[39;49;00m \u001b[34mimport\u001b[39;49;00m review_to_words, convert_and_pad\r\n",
      "\r\n",
      "\u001b[34mdef\u001b[39;49;00m \u001b[32mmodel_fn\u001b[39;49;00m(model_dir):\r\n",
      "    \u001b[33m\"\"\"Load the PyTorch model from the `model_dir` directory.\"\"\"\u001b[39;49;00m\r\n",
      "    \u001b[34mprint\u001b[39;49;00m(\u001b[33m\"\u001b[39;49;00m\u001b[33mLoading model.\u001b[39;49;00m\u001b[33m\"\u001b[39;49;00m)\r\n",
      "\r\n",
      "    \u001b[37m# First, load the parameters used to create the model.\u001b[39;49;00m\r\n",
      "    model_info = {}\r\n",
      "    model_info_path = os.path.join(model_dir, \u001b[33m'\u001b[39;49;00m\u001b[33mmodel_info.pth\u001b[39;49;00m\u001b[33m'\u001b[39;49;00m)\r\n",
      "    \u001b[34mwith\u001b[39;49;00m \u001b[36mopen\u001b[39;49;00m(model_info_path, \u001b[33m'\u001b[39;49;00m\u001b[33mrb\u001b[39;49;00m\u001b[33m'\u001b[39;49;00m) \u001b[34mas\u001b[39;49;00m f:\r\n",
      "        model_info = torch.load(f)\r\n",
      "\r\n",
      "    \u001b[34mprint\u001b[39;49;00m(\u001b[33m\"\u001b[39;49;00m\u001b[33mmodel_info: {}\u001b[39;49;00m\u001b[33m\"\u001b[39;49;00m.format(model_info))\r\n",
      "\r\n",
      "    \u001b[37m# Determine the device and construct the model.\u001b[39;49;00m\r\n",
      "    device = torch.device(\u001b[33m\"\u001b[39;49;00m\u001b[33mcuda\u001b[39;49;00m\u001b[33m\"\u001b[39;49;00m \u001b[34mif\u001b[39;49;00m torch.cuda.is_available() \u001b[34melse\u001b[39;49;00m \u001b[33m\"\u001b[39;49;00m\u001b[33mcpu\u001b[39;49;00m\u001b[33m\"\u001b[39;49;00m)\r\n",
      "    model = LSTMClassifier(model_info[\u001b[33m'\u001b[39;49;00m\u001b[33membedding_dim\u001b[39;49;00m\u001b[33m'\u001b[39;49;00m], model_info[\u001b[33m'\u001b[39;49;00m\u001b[33mhidden_dim\u001b[39;49;00m\u001b[33m'\u001b[39;49;00m], model_info[\u001b[33m'\u001b[39;49;00m\u001b[33mvocab_size\u001b[39;49;00m\u001b[33m'\u001b[39;49;00m])\r\n",
      "\r\n",
      "    \u001b[37m# Load the store model parameters.\u001b[39;49;00m\r\n",
      "    model_path = os.path.join(model_dir, \u001b[33m'\u001b[39;49;00m\u001b[33mmodel.pth\u001b[39;49;00m\u001b[33m'\u001b[39;49;00m)\r\n",
      "    \u001b[34mwith\u001b[39;49;00m \u001b[36mopen\u001b[39;49;00m(model_path, \u001b[33m'\u001b[39;49;00m\u001b[33mrb\u001b[39;49;00m\u001b[33m'\u001b[39;49;00m) \u001b[34mas\u001b[39;49;00m f:\r\n",
      "        model.load_state_dict(torch.load(f))\r\n",
      "\r\n",
      "    \u001b[37m# Load the saved word_dict.\u001b[39;49;00m\r\n",
      "    word_dict_path = os.path.join(model_dir, \u001b[33m'\u001b[39;49;00m\u001b[33mword_dict.pkl\u001b[39;49;00m\u001b[33m'\u001b[39;49;00m)\r\n",
      "    \u001b[34mwith\u001b[39;49;00m \u001b[36mopen\u001b[39;49;00m(word_dict_path, \u001b[33m'\u001b[39;49;00m\u001b[33mrb\u001b[39;49;00m\u001b[33m'\u001b[39;49;00m) \u001b[34mas\u001b[39;49;00m f:\r\n",
      "        model.word_dict = pickle.load(f)\r\n",
      "\r\n",
      "    model.to(device).eval()\r\n",
      "\r\n",
      "    \u001b[34mprint\u001b[39;49;00m(\u001b[33m\"\u001b[39;49;00m\u001b[33mDone loading model.\u001b[39;49;00m\u001b[33m\"\u001b[39;49;00m)\r\n",
      "    \u001b[34mreturn\u001b[39;49;00m model\r\n",
      "\r\n",
      "\u001b[34mdef\u001b[39;49;00m \u001b[32minput_fn\u001b[39;49;00m(serialized_input_data, content_type):\r\n",
      "    \u001b[34mprint\u001b[39;49;00m(\u001b[33m'\u001b[39;49;00m\u001b[33mDeserializing the input data.\u001b[39;49;00m\u001b[33m'\u001b[39;49;00m)\r\n",
      "    \u001b[34mif\u001b[39;49;00m content_type == \u001b[33m'\u001b[39;49;00m\u001b[33mtext/plain\u001b[39;49;00m\u001b[33m'\u001b[39;49;00m:\r\n",
      "        data = serialized_input_data.decode(\u001b[33m'\u001b[39;49;00m\u001b[33mutf-8\u001b[39;49;00m\u001b[33m'\u001b[39;49;00m)\r\n",
      "        \u001b[34mreturn\u001b[39;49;00m data\r\n",
      "    \u001b[34mraise\u001b[39;49;00m \u001b[36mException\u001b[39;49;00m(\u001b[33m'\u001b[39;49;00m\u001b[33mRequested unsupported ContentType in content_type: \u001b[39;49;00m\u001b[33m'\u001b[39;49;00m + content_type)\r\n",
      "\r\n",
      "\u001b[34mdef\u001b[39;49;00m \u001b[32moutput_fn\u001b[39;49;00m(prediction_output, accept):\r\n",
      "    \u001b[34mprint\u001b[39;49;00m(\u001b[33m'\u001b[39;49;00m\u001b[33mSerializing the generated output.\u001b[39;49;00m\u001b[33m'\u001b[39;49;00m)\r\n",
      "    \u001b[34mreturn\u001b[39;49;00m \u001b[36mstr\u001b[39;49;00m(prediction_output)\r\n",
      "\r\n",
      "\u001b[34mdef\u001b[39;49;00m \u001b[32mpredict_fn\u001b[39;49;00m(input_data, model):\r\n",
      "    \u001b[34mprint\u001b[39;49;00m(\u001b[33m'\u001b[39;49;00m\u001b[33mInferring sentiment of input data.\u001b[39;49;00m\u001b[33m'\u001b[39;49;00m)\r\n",
      "\r\n",
      "    device = torch.device(\u001b[33m\"\u001b[39;49;00m\u001b[33mcuda\u001b[39;49;00m\u001b[33m\"\u001b[39;49;00m \u001b[34mif\u001b[39;49;00m torch.cuda.is_available() \u001b[34melse\u001b[39;49;00m \u001b[33m\"\u001b[39;49;00m\u001b[33mcpu\u001b[39;49;00m\u001b[33m\"\u001b[39;49;00m)\r\n",
      "    \r\n",
      "    \u001b[34mif\u001b[39;49;00m model.word_dict \u001b[35mis\u001b[39;49;00m \u001b[36mNone\u001b[39;49;00m:\r\n",
      "        \u001b[34mraise\u001b[39;49;00m \u001b[36mException\u001b[39;49;00m(\u001b[33m'\u001b[39;49;00m\u001b[33mModel has not been loaded properly, no word_dict.\u001b[39;49;00m\u001b[33m'\u001b[39;49;00m)\r\n",
      "    \r\n",
      "    \u001b[37m# TODO: Process input_data so that it is ready to be sent to our model.\u001b[39;49;00m\r\n",
      "    \u001b[37m#       You should produce two variables:\u001b[39;49;00m\r\n",
      "    \u001b[37m#         data_X   - A sequence of length 500 which represents the converted review\u001b[39;49;00m\r\n",
      "    \u001b[37m#         data_len - The length of the review\u001b[39;49;00m\r\n",
      "\r\n",
      "    data_X , data_len = convert_and_pad(model.word_dict, review_to_words(input_data), \u001b[34m500\u001b[39;49;00m)\r\n",
      "    \r\n",
      "\r\n",
      "    \u001b[37m# Using data_X and data_len we construct an appropriate input tensor. Remember\u001b[39;49;00m\r\n",
      "    \u001b[37m# that our model expects input data of the form 'len, review[500]'.\u001b[39;49;00m\r\n",
      "    data_pack = np.hstack((data_len, data_X))\r\n",
      "    data_pack = data_pack.reshape(\u001b[34m1\u001b[39;49;00m, -\u001b[34m1\u001b[39;49;00m)\r\n",
      "    \r\n",
      "    data = torch.from_numpy(data_pack)\r\n",
      "    data = data.to(device)\r\n",
      "\r\n",
      "    \u001b[37m# Make sure to put the model into evaluation mode\u001b[39;49;00m\r\n",
      "    model.eval()\r\n",
      "\r\n",
      "    \u001b[37m# TODO: Compute the result of applying the model to the input data. The variable `result` should\u001b[39;49;00m\r\n",
      "    \u001b[37m#       be a numpy array which contains a single integer which is either 1 or 0\u001b[39;49;00m\r\n",
      "\r\n",
      "    result = model(data)\r\n",
      "    result = \u001b[36mround\u001b[39;49;00m(result.item())\r\n",
      "\r\n",
      "    \u001b[34mreturn\u001b[39;49;00m result\r\n"
     ]
    }
   ],
   "source": [
    "!pygmentize serve/predict.py"
   ]
  },
  {
   "cell_type": "markdown",
   "metadata": {},
   "source": [
    "As mentioned earlier, the `model_fn` method is the same as the one provided in the training code and the `input_fn` and `output_fn` methods are very simple and your task will be to complete the `predict_fn` method. Make sure that you save the completed file as `predict.py` in the `serve` directory.\n",
    "\n",
    "**TODO**: Complete the `predict_fn()` method in the `serve/predict.py` file."
   ]
  },
  {
   "cell_type": "markdown",
   "metadata": {},
   "source": [
    "### Deploying the model\n",
    "\n",
    "Now that the custom inference code has been written, we will create and deploy our model. To begin with, we need to construct a new PyTorchModel object which points to the model artifacts created during training and also points to the inference code that we wish to use. Then we can call the deploy method to launch the deployment container.\n",
    "\n",
    "**NOTE**: The default behaviour for a deployed PyTorch model is to assume that any input passed to the predictor is a `numpy` array. In our case we want to send a string so we need to construct a simple wrapper around the `RealTimePredictor` class to accomodate simple strings. In a more complicated situation you may want to provide a serialization object, for example if you wanted to sent image data."
   ]
  },
  {
   "cell_type": "code",
   "execution_count": 46,
   "metadata": {},
   "outputs": [
    {
     "name": "stdout",
     "output_type": "stream",
     "text": [
      "-----------------!"
     ]
    }
   ],
   "source": [
    "from sagemaker.predictor import RealTimePredictor\n",
    "from sagemaker.pytorch import PyTorchModel\n",
    "\n",
    "class StringPredictor(RealTimePredictor):\n",
    "    def __init__(self, endpoint_name, sagemaker_session):\n",
    "        super(StringPredictor, self).__init__(endpoint_name, sagemaker_session, content_type='text/plain')\n",
    "\n",
    "model = PyTorchModel(model_data=estimator.model_data,\n",
    "                     role = role,\n",
    "                     framework_version='0.4.0',\n",
    "                     entry_point='predict.py',\n",
    "                     source_dir='serve',\n",
    "                     predictor_cls=StringPredictor)\n",
    "predictor = model.deploy(initial_instance_count=1, instance_type='ml.m4.xlarge')"
   ]
  },
  {
   "cell_type": "markdown",
   "metadata": {},
   "source": [
    "### Testing the model\n",
    "\n",
    "Now that we have deployed our model with the custom inference code, we should test to see if everything is working. Here we test our model by loading the first `250` positive and negative reviews and send them to the endpoint, then collect the results. The reason for only sending some of the data is that the amount of time it takes for our model to process the input and then perform inference is quite long and so testing the entire data set would be prohibitive."
   ]
  },
  {
   "cell_type": "code",
   "execution_count": 47,
   "metadata": {},
   "outputs": [],
   "source": [
    "import glob\n",
    "\n",
    "def test_reviews(data_dir='../data/aclImdb', stop=250):\n",
    "    \n",
    "    results = []\n",
    "    ground = []\n",
    "    \n",
    "    # We make sure to test both positive and negative reviews    \n",
    "    for sentiment in ['pos', 'neg']:\n",
    "        \n",
    "        path = os.path.join(data_dir, 'test', sentiment, '*.txt')\n",
    "        files = glob.glob(path)\n",
    "        \n",
    "        files_read = 0\n",
    "        \n",
    "        print('Starting ', sentiment, ' files')\n",
    "        \n",
    "        # Iterate through the files and send them to the predictor\n",
    "        for f in files:\n",
    "            with open(f) as review:\n",
    "                # First, we store the ground truth (was the review positive or negative)\n",
    "                if sentiment == 'pos':\n",
    "                    ground.append(1)\n",
    "                else:\n",
    "                    ground.append(0)\n",
    "                # Read in the review and convert to 'utf-8' for transmission via HTTP\n",
    "                review_input = review.read().encode('utf-8')\n",
    "                # Send the review to the predictor and store the results\n",
    "                results.append(int(predictor.predict(review_input)))\n",
    "                \n",
    "            # Sending reviews to our endpoint one at a time takes a while so we\n",
    "            # only send a small number of reviews\n",
    "            files_read += 1\n",
    "            if files_read == stop:\n",
    "                break\n",
    "            \n",
    "    return ground, results"
   ]
  },
  {
   "cell_type": "code",
   "execution_count": 48,
   "metadata": {},
   "outputs": [
    {
     "name": "stdout",
     "output_type": "stream",
     "text": [
      "Starting  pos  files\n",
      "Starting  neg  files\n"
     ]
    }
   ],
   "source": [
    "ground, results = test_reviews()"
   ]
  },
  {
   "cell_type": "code",
   "execution_count": 49,
   "metadata": {},
   "outputs": [
    {
     "data": {
      "text/plain": [
       "0.826"
      ]
     },
     "execution_count": 49,
     "metadata": {},
     "output_type": "execute_result"
    }
   ],
   "source": [
    "from sklearn.metrics import accuracy_score\n",
    "accuracy_score(ground, results)"
   ]
  },
  {
   "cell_type": "markdown",
   "metadata": {},
   "source": [
    "As an additional test, we can try sending the `test_review` that we looked at earlier."
   ]
  },
  {
   "cell_type": "code",
   "execution_count": 50,
   "metadata": {},
   "outputs": [
    {
     "data": {
      "text/plain": [
       "b'1'"
      ]
     },
     "execution_count": 50,
     "metadata": {},
     "output_type": "execute_result"
    }
   ],
   "source": [
    "predictor.predict(test_review)"
   ]
  },
  {
   "cell_type": "markdown",
   "metadata": {},
   "source": [
    "Now that we know our endpoint is working as expected, we can set up the web page that will interact with it. If you don't have time to finish the project now, make sure to skip down to the end of this notebook and shut down your endpoint. You can deploy it again when you come back."
   ]
  },
  {
   "cell_type": "markdown",
   "metadata": {},
   "source": [
    "## Step 7 (again): Use the model for the web app\n",
    "\n",
    "> **TODO:** This entire section and the next contain tasks for you to complete, mostly using the AWS console.\n",
    "\n",
    "So far we have been accessing our model endpoint by constructing a predictor object which uses the endpoint and then just using the predictor object to perform inference. What if we wanted to create a web app which accessed our model? The way things are set up currently makes that not possible since in order to access a SageMaker endpoint the app would first have to authenticate with AWS using an IAM role which included access to SageMaker endpoints. However, there is an easier way! We just need to use some additional AWS services.\n",
    "\n",
    "<img src=\"Web App Diagram.svg\">\n",
    "\n",
    "The diagram above gives an overview of how the various services will work together. On the far right is the model which we trained above and which is deployed using SageMaker. On the far left is our web app that collects a user's movie review, sends it off and expects a positive or negative sentiment in return.\n",
    "\n",
    "In the middle is where some of the magic happens. We will construct a Lambda function, which you can think of as a straightforward Python function that can be executed whenever a specified event occurs. We will give this function permission to send and recieve data from a SageMaker endpoint.\n",
    "\n",
    "Lastly, the method we will use to execute the Lambda function is a new endpoint that we will create using API Gateway. This endpoint will be a url that listens for data to be sent to it. Once it gets some data it will pass that data on to the Lambda function and then return whatever the Lambda function returns. Essentially it will act as an interface that lets our web app communicate with the Lambda function.\n",
    "\n",
    "### Setting up a Lambda function\n",
    "\n",
    "The first thing we are going to do is set up a Lambda function. This Lambda function will be executed whenever our public API has data sent to it. When it is executed it will receive the data, perform any sort of processing that is required, send the data (the review) to the SageMaker endpoint we've created and then return the result.\n",
    "\n",
    "#### Part A: Create an IAM Role for the Lambda function\n",
    "\n",
    "Since we want the Lambda function to call a SageMaker endpoint, we need to make sure that it has permission to do so. To do this, we will construct a role that we can later give the Lambda function.\n",
    "\n",
    "Using the AWS Console, navigate to the **IAM** page and click on **Roles**. Then, click on **Create role**. Make sure that the **AWS service** is the type of trusted entity selected and choose **Lambda** as the service that will use this role, then click **Next: Permissions**.\n",
    "\n",
    "In the search box type `sagemaker` and select the check box next to the **AmazonSageMakerFullAccess** policy. Then, click on **Next: Review**.\n",
    "\n",
    "Lastly, give this role a name. Make sure you use a name that you will remember later on, for example `LambdaSageMakerRole`. Then, click on **Create role**.\n",
    "\n",
    "#### Part B: Create a Lambda function\n",
    "\n",
    "Now it is time to actually create the Lambda function.\n",
    "\n",
    "Using the AWS Console, navigate to the AWS Lambda page and click on **Create a function**. When you get to the next page, make sure that **Author from scratch** is selected. Now, name your Lambda function, using a name that you will remember later on, for example `sentiment_analysis_func`. Make sure that the **Python 3.6** runtime is selected and then choose the role that you created in the previous part. Then, click on **Create Function**.\n",
    "\n",
    "On the next page you will see some information about the Lambda function you've just created. If you scroll down you should see an editor in which you can write the code that will be executed when your Lambda function is triggered. In our example, we will use the code below. \n",
    "\n",
    "```python\n",
    "# We need to use the low-level library to interact with SageMaker since the SageMaker API\n",
    "# is not available natively through Lambda.\n",
    "import boto3\n",
    "\n",
    "def lambda_handler(event, context):\n",
    "\n",
    "    # The SageMaker runtime is what allows us to invoke the endpoint that we've created.\n",
    "    runtime = boto3.Session().client('sagemaker-runtime')\n",
    "\n",
    "    # Now we use the SageMaker runtime to invoke our endpoint, sending the review we were given\n",
    "    response = runtime.invoke_endpoint(EndpointName = '**ENDPOINT NAME HERE**',    # The name of the endpoint we created\n",
    "                                       ContentType = 'text/plain',                 # The data format that is expected\n",
    "                                       Body = event['body'])                       # The actual review\n",
    "\n",
    "    # The response is an HTTP response whose body contains the result of our inference\n",
    "    result = response['Body'].read().decode('utf-8')\n",
    "\n",
    "    return {\n",
    "        'statusCode' : 200,\n",
    "        'headers' : { 'Content-Type' : 'text/plain', 'Access-Control-Allow-Origin' : '*' },\n",
    "        'body' : result\n",
    "    }\n",
    "```\n",
    "\n",
    "Once you have copy and pasted the code above into the Lambda code editor, replace the `**ENDPOINT NAME HERE**` portion with the name of the endpoint that we deployed earlier. You can determine the name of the endpoint using the code cell below."
   ]
  },
  {
   "cell_type": "code",
   "execution_count": 51,
   "metadata": {},
   "outputs": [
    {
     "data": {
      "text/plain": [
       "'sagemaker-pytorch-2020-01-24-12-30-01-079'"
      ]
     },
     "execution_count": 51,
     "metadata": {},
     "output_type": "execute_result"
    }
   ],
   "source": [
    "predictor.endpoint"
   ]
  },
  {
   "cell_type": "markdown",
   "metadata": {},
   "source": [
    "Once you have added the endpoint name to the Lambda function, click on **Save**. Your Lambda function is now up and running. Next we need to create a way for our web app to execute the Lambda function.\n",
    "\n",
    "### Setting up API Gateway\n",
    "\n",
    "Now that our Lambda function is set up, it is time to create a new API using API Gateway that will trigger the Lambda function we have just created.\n",
    "\n",
    "Using AWS Console, navigate to **Amazon API Gateway** and then click on **Get started**.\n",
    "\n",
    "On the next page, make sure that **New API** is selected and give the new api a name, for example, `sentiment_analysis_api`. Then, click on **Create API**.\n",
    "\n",
    "Now we have created an API, however it doesn't currently do anything. What we want it to do is to trigger the Lambda function that we created earlier.\n",
    "\n",
    "Select the **Actions** dropdown menu and click **Create Method**. A new blank method will be created, select its dropdown menu and select **POST**, then click on the check mark beside it.\n",
    "\n",
    "For the integration point, make sure that **Lambda Function** is selected and click on the **Use Lambda Proxy integration**. This option makes sure that the data that is sent to the API is then sent directly to the Lambda function with no processing. It also means that the return value must be a proper response object as it will also not be processed by API Gateway.\n",
    "\n",
    "Type the name of the Lambda function you created earlier into the **Lambda Function** text entry box and then click on **Save**. Click on **OK** in the pop-up box that then appears, giving permission to API Gateway to invoke the Lambda function you created.\n",
    "\n",
    "The last step in creating the API Gateway is to select the **Actions** dropdown and click on **Deploy API**. You will need to create a new Deployment stage and name it anything you like, for example `prod`.\n",
    "\n",
    "You have now successfully set up a public API to access your SageMaker model. Make sure to copy or write down the URL provided to invoke your newly created public API as this will be needed in the next step. This URL can be found at the top of the page, highlighted in blue next to the text **Invoke URL**."
   ]
  },
  {
   "cell_type": "markdown",
   "metadata": {},
   "source": [
    "## Step 4: Deploying our web app\n",
    "\n",
    "Now that we have a publicly available API, we can start using it in a web app. For our purposes, we have provided a simple static html file which can make use of the public api you created earlier.\n",
    "\n",
    "In the `website` folder there should be a file called `index.html`. Download the file to your computer and open that file up in a text editor of your choice. There should be a line which contains **\\*\\*REPLACE WITH PUBLIC API URL\\*\\***. Replace this string with the url that you wrote down in the last step and then save the file.\n",
    "\n",
    "Now, if you open `index.html` on your local computer, your browser will behave as a local web server and you can use the provided site to interact with your SageMaker model.\n",
    "\n",
    "If you'd like to go further, you can host this html file anywhere you'd like, for example using github or hosting a static site on Amazon's S3. Once you have done this you can share the link with anyone you'd like and have them play with it too!\n",
    "\n",
    "> **Important Note** In order for the web app to communicate with the SageMaker endpoint, the endpoint has to actually be deployed and running. This means that you are paying for it. Make sure that the endpoint is running when you want to use the web app but that you shut it down when you don't need it, otherwise you will end up with a surprisingly large AWS bill.\n",
    "\n",
    "**TODO:** Make sure that you include the edited `index.html` file in your project submission."
   ]
  },
  {
   "cell_type": "markdown",
   "metadata": {},
   "source": [
    "Now that your web app is working, trying playing around with it and see how well it works.\n",
    "\n",
    "**Question**: Give an example of a review that you entered into your web app. What was the predicted sentiment of your example review?"
   ]
  },
  {
   "cell_type": "markdown",
   "metadata": {},
   "source": [
    "**Answer:**\n",
    "\"never thought that I would watch such a disgusting thing in my life this thing is so annoying that even the babies cannot see it\"\n",
    "review was negative which was true"
   ]
  },
  {
   "cell_type": "markdown",
   "metadata": {},
   "source": [
    "### Delete the endpoint\n",
    "\n",
    "Remember to always shut down your endpoint if you are no longer using it. You are charged for the length of time that the endpoint is running so if you forget and leave it on you could end up with an unexpectedly large bill."
   ]
  },
  {
   "cell_type": "code",
   "execution_count": 52,
   "metadata": {},
   "outputs": [],
   "source": [
    "predictor.delete_endpoint()"
   ]
  },
  {
   "cell_type": "code",
   "execution_count": null,
   "metadata": {},
   "outputs": [],
   "source": []
  }
 ],
 "metadata": {
  "kernelspec": {
   "display_name": "conda_pytorch_p36",
   "language": "python",
   "name": "conda_pytorch_p36"
  },
  "language_info": {
   "codemirror_mode": {
    "name": "ipython",
    "version": 3
   },
   "file_extension": ".py",
   "mimetype": "text/x-python",
   "name": "python",
   "nbconvert_exporter": "python",
   "pygments_lexer": "ipython3",
   "version": "3.6.5"
  }
 },
 "nbformat": 4,
 "nbformat_minor": 2
}
